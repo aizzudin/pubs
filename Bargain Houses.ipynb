{
 "cells": [
  {
   "cell_type": "markdown",
   "metadata": {},
   "source": [
    "## Scraping"
   ]
  },
  {
   "cell_type": "markdown",
   "metadata": {},
   "source": [
    "### Initials"
   ]
  },
  {
   "cell_type": "code",
   "execution_count": 1,
   "metadata": {},
   "outputs": [],
   "source": [
    "from datetime import date\n",
    "from bs4 import BeautifulSoup\n",
    "import pandas as pd\n",
    "import numpy as np\n",
    "import time\n",
    "from msedge.selenium_tools import Edge, EdgeOptions"
   ]
  },
  {
   "cell_type": "markdown",
   "metadata": {},
   "source": [
    "### Driver Loading"
   ]
  },
  {
   "cell_type": "code",
   "execution_count": 2,
   "metadata": {},
   "outputs": [],
   "source": [
    "options = EdgeOptions()\n",
    "options.use_chromium = True\n",
    "\n",
    "prefs = {'profile.default_content_setting_values': {'cookies': 2, 'images': 2, 'javascript': 2, \n",
    "                            'plugins': 2, 'popups': 2, 'geolocation': 2, \n",
    "                            'notifications': 2, 'auto_select_certificate': 2, 'fullscreen': 2, \n",
    "                            'mouselock': 2, 'mixed_script': 2, 'media_stream': 2, \n",
    "                            'media_stream_mic': 2, 'media_stream_camera': 2, 'protocol_handlers': 2, \n",
    "                            'ppapi_broker': 2, 'automatic_downloads': 2, 'midi_sysex': 2, \n",
    "                            'push_messaging': 2, 'ssl_cert_decisions': 2, 'metro_switch_to_desktop': 2, \n",
    "                            'protected_media_identifier': 2, 'app_banner': 2, 'site_engagement': 2, \n",
    "                            'durable_storage': 2}}\n",
    "options.add_experimental_option('prefs', prefs)\n",
    "options.add_argument(\"start-maximized\")\n",
    "options.add_argument(\"disable-infobars\")\n",
    "options.add_argument(\"--disable-extensions\")\n",
    "\n",
    "driver = Edge(options = options)\n",
    "\n",
    "records = []\n",
    "records2 = []\n",
    "\n",
    "driver.get('https://www.olx.co.id')"
   ]
  },
  {
   "cell_type": "markdown",
   "metadata": {},
   "source": [
    "### Functions"
   ]
  },
  {
   "cell_type": "code",
   "execution_count": 3,
   "metadata": {},
   "outputs": [],
   "source": [
    "def extract_data(item):\n",
    "    soup = BeautifulSoup(driver.page_source, 'html.parser')\n",
    "    try:\n",
    "        luas_bangunan =  int(soup.find('span', {'data-aut-id': 'value_p_sqr_building'}).text)\n",
    "    except AttributeError:\n",
    "        luas_bangunan = '#N/A'            \n",
    "\n",
    "    try:    \n",
    "        luas_tanah =  int(soup.find('span', {'data-aut-id': 'value_p_sqr_land'}).text)\n",
    "    except AttributeError:\n",
    "        luas_tanah = '#N/A'\n",
    "\n",
    "    try:\n",
    "        kamar_tidur = soup.find('span', {'data-aut-id': 'value_p_bedroom'}).text\n",
    "    except AttributeError:\n",
    "        kamar_tidur = '#N/A'            \n",
    "\n",
    "    try:\n",
    "        kamar_mandi = soup.find('span', {'data-aut-id': 'value_p_bathroom'}).text\n",
    "    except AttributeError:\n",
    "        kamar_mandi= '#N/A'\n",
    "\n",
    "    try:\n",
    "        lantai = int(soup.find('span', {'data-aut-id': 'value_p_floor'}).text)\n",
    "    except AttributeError:\n",
    "        lantai= '#N/A'\n",
    "\n",
    "    try:\n",
    "        alamat = soup.find('span', {'data-aut-id': 'value_p_alamat'}).text\n",
    "    except AttributeError:\n",
    "        alamat= '#N/A'\n",
    "\n",
    "    try:\n",
    "        ID_iklan =  soup.find('strong').text\n",
    "    except AttributeError:\n",
    "        ID_iklan= '#N/A'       \n",
    "\n",
    "    hasil = (luas_bangunan, luas_tanah, kamar_tidur, kamar_mandi,lantai, alamat, ID_iklan)\n",
    "    return hasil"
   ]
  },
  {
   "cell_type": "code",
   "execution_count": 4,
   "metadata": {},
   "outputs": [],
   "source": [
    " def extract_records(item):\n",
    "            item_title = item.find('span', {'data-aut-id': 'itemTitle'}).text\n",
    "            price = item.find('span', {'data-aut-id': 'itemPrice'}).text\n",
    "            item_location = item.find('span', {'data-aut-id': 'item-location'}).text\n",
    "            date_posted = item.find('span', {'class': 'zLvFQ'}).text\n",
    "            URL = 'https://www.olx.co.id'+item.a.get('href')\n",
    "                \n",
    "            result = (item_title, price, item_location, date_posted, URL )\n",
    "            return result"
   ]
  },
  {
   "cell_type": "code",
   "execution_count": 5,
   "metadata": {},
   "outputs": [],
   "source": [
    "def main(pages):\n",
    "    url = input('masukkan URL: ')\n",
    " \n",
    "    for page in range(1,pages+1):\n",
    "        driver.get(url + '&page=' + str(page))\n",
    "  \n",
    "        #time.sleep(5)  add this line if your computer/internet is slow\n",
    "        \n",
    "        soup = BeautifulSoup(driver.page_source, 'html.parser')\n",
    "        results = soup.find_all('li', {'class':'EIR5N'})\n",
    "        \n",
    "        for item in results:\n",
    "            record = extract_records(item)\n",
    "            if record:\n",
    "                records.append(record)   \n",
    "    \n",
    "    df_result = pd.DataFrame(records, columns=['Title', 'Harga', 'Lokasi', 'Tanggal Posting', 'URL'])\n",
    "\n",
    "    driver.get('https://www.olx.co.id')\n",
    "    \n",
    "    for url in df_result.URL:\n",
    "        driver.get(url)\n",
    "        soup = BeautifulSoup(driver.page_source, 'html.parser')\n",
    "        hasil = extract_data(soup)\n",
    "        records2.append(hasil)\n",
    "    \n",
    "    driver.close()  "
   ]
  },
  {
   "cell_type": "markdown",
   "metadata": {},
   "source": [
    "### Main Execution"
   ]
  },
  {
   "cell_type": "code",
   "execution_count": 6,
   "metadata": {
    "scrolled": true
   },
   "outputs": [
    {
     "name": "stdout",
     "output_type": "stream",
     "text": [
      "masukkan URL: https://www.olx.co.id/pondok-aren_g5000256/dijual-rumah-apartemen_c5158?filter=p_bathroom_eq_min_and_max%2Cp_bedroom_eq_min_and_max%2Cp_certificate_eq_shm-sertifikathakmilik%2Cp_floor_eq_min_and_max%2Cp_sqr_land_between_100_to_400%2Ctype_eq_rumah\n"
     ]
    }
   ],
   "source": [
    "main(1)"
   ]
  },
  {
   "cell_type": "code",
   "execution_count": 7,
   "metadata": {},
   "outputs": [
    {
     "data": {
      "text/plain": [
       "20"
      ]
     },
     "execution_count": 7,
     "metadata": {},
     "output_type": "execute_result"
    }
   ],
   "source": [
    "len(records)"
   ]
  },
  {
   "cell_type": "markdown",
   "metadata": {},
   "source": [
    "### Save to Excel"
   ]
  },
  {
   "cell_type": "code",
   "execution_count": 9,
   "metadata": {
    "scrolled": false
   },
   "outputs": [],
   "source": [
    "df_result = pd.DataFrame(records, columns=['Title', 'Harga', 'Lokasi', 'Tanggal Posting', 'URL'])\n",
    "df2 = pd.DataFrame(records2, columns=['Luas Bangunan', 'Luas Tanah', 'Kamar Tidur', 'Kamar Mandi', 'Lantai', 'Alamat', 'ID'])\n",
    "df3 = pd.concat([df_result, df2], axis=1)\n",
    "df_data = df3[['ID', 'Title', 'Harga', 'Lantai', 'Luas Bangunan', 'Luas Tanah', 'Kamar Tidur', 'Kamar Mandi', 'Lokasi', 'Alamat', 'Tanggal Posting', 'URL'] ]\n",
    "\n",
    "df_data.head()\n",
    "\n",
    "today = str( date.today().strftime(\"%d-%b-%Y\"))\n",
    "df_data.to_excel(r'D:\\Judin\\LEARN\\Python\\Web Scrapper\\olx_data{}.xlsx'.format(today),index=False)"
   ]
  },
  {
   "cell_type": "markdown",
   "metadata": {},
   "source": [
    "## --------------------------------------------------------------------------------------------------------------------------------------"
   ]
  },
  {
   "cell_type": "markdown",
   "metadata": {},
   "source": [
    "## Data Cleaning"
   ]
  },
  {
   "cell_type": "markdown",
   "metadata": {},
   "source": [
    "### Initials"
   ]
  },
  {
   "cell_type": "code",
   "execution_count": 8,
   "metadata": {},
   "outputs": [],
   "source": [
    "import pandas as pd\n",
    "import numpy as np\n",
    "from datetime import date, datetime, timedelta\n",
    "import locale\n",
    "from locale import atoi, setlocale, LC_NUMERIC, atof, LC_ALL\n",
    "from dateutil import parser\n",
    "import time"
   ]
  },
  {
   "cell_type": "code",
   "execution_count": 9,
   "metadata": {},
   "outputs": [
    {
     "data": {
      "text/html": [
       "<div>\n",
       "<style scoped>\n",
       "    .dataframe tbody tr th:only-of-type {\n",
       "        vertical-align: middle;\n",
       "    }\n",
       "\n",
       "    .dataframe tbody tr th {\n",
       "        vertical-align: top;\n",
       "    }\n",
       "\n",
       "    .dataframe thead th {\n",
       "        text-align: right;\n",
       "    }\n",
       "</style>\n",
       "<table border=\"1\" class=\"dataframe\">\n",
       "  <thead>\n",
       "    <tr style=\"text-align: right;\">\n",
       "      <th></th>\n",
       "      <th>ID</th>\n",
       "      <th>Title</th>\n",
       "      <th>Harga</th>\n",
       "      <th>Lantai</th>\n",
       "      <th>Luas Bangunan</th>\n",
       "      <th>Luas Tanah</th>\n",
       "      <th>Kamar Tidur</th>\n",
       "      <th>Kamar Mandi</th>\n",
       "      <th>Lokasi</th>\n",
       "      <th>Alamat</th>\n",
       "      <th>Tanggal Posting</th>\n",
       "      <th>URL</th>\n",
       "    </tr>\n",
       "  </thead>\n",
       "  <tbody>\n",
       "    <tr>\n",
       "      <th>0</th>\n",
       "      <td>ID IKLAN 813395733</td>\n",
       "      <td>Dijual Rumah di daerah Bintaro Jaya</td>\n",
       "      <td>Rp 1.800.000.000</td>\n",
       "      <td>1.0</td>\n",
       "      <td>54</td>\n",
       "      <td>117</td>\n",
       "      <td>3</td>\n",
       "      <td>2</td>\n",
       "      <td>Pondok Aren, Tangerang Selatan Kota</td>\n",
       "      <td>Perumahan PJMI,Jalan Cendrawasih III B-11/03, ...</td>\n",
       "      <td>Kemarin</td>\n",
       "      <td>https://www.olx.co.id/item/dijual-rumah-di-dae...</td>\n",
       "    </tr>\n",
       "    <tr>\n",
       "      <th>1</th>\n",
       "      <td>ID IKLAN 805740627</td>\n",
       "      <td>Dijual Rumah baru renov dengan tanah luas dan ...</td>\n",
       "      <td>Rp 2.400.000.000</td>\n",
       "      <td>NaN</td>\n",
       "      <td>100</td>\n",
       "      <td>209</td>\n",
       "      <td>3</td>\n",
       "      <td>2</td>\n",
       "      <td>Pondok Aren, Tangerang Selatan Kota</td>\n",
       "      <td>Bintaro Jaya Sektor 9</td>\n",
       "      <td>10 Des</td>\n",
       "      <td>https://www.olx.co.id/item/dijual-rumah-baru-r...</td>\n",
       "    </tr>\n",
       "    <tr>\n",
       "      <th>2</th>\n",
       "      <td>ID IKLAN 808421964</td>\n",
       "      <td>Jual B.U Rumah Siap Huni Lokasi Strategis Deka...</td>\n",
       "      <td>Rp 999.000.000</td>\n",
       "      <td>1.0</td>\n",
       "      <td>60</td>\n",
       "      <td>101</td>\n",
       "      <td>3</td>\n",
       "      <td>2</td>\n",
       "      <td>Ciputat, Tangerang Selatan Kota</td>\n",
       "      <td>Griya Aviva</td>\n",
       "      <td>19 Nov</td>\n",
       "      <td>https://www.olx.co.id/item/jual-bu-rumah-siap-...</td>\n",
       "    </tr>\n",
       "  </tbody>\n",
       "</table>\n",
       "</div>"
      ],
      "text/plain": [
       "                   ID                                              Title  \\\n",
       "0  ID IKLAN 813395733                Dijual Rumah di daerah Bintaro Jaya   \n",
       "1  ID IKLAN 805740627  Dijual Rumah baru renov dengan tanah luas dan ...   \n",
       "2  ID IKLAN 808421964  Jual B.U Rumah Siap Huni Lokasi Strategis Deka...   \n",
       "\n",
       "              Harga  Lantai  Luas Bangunan  Luas Tanah Kamar Tidur  \\\n",
       "0  Rp 1.800.000.000     1.0             54         117           3   \n",
       "1  Rp 2.400.000.000     NaN            100         209           3   \n",
       "2    Rp 999.000.000     1.0             60         101           3   \n",
       "\n",
       "  Kamar Mandi                               Lokasi  \\\n",
       "0           2  Pondok Aren, Tangerang Selatan Kota   \n",
       "1           2  Pondok Aren, Tangerang Selatan Kota   \n",
       "2           2      Ciputat, Tangerang Selatan Kota   \n",
       "\n",
       "                                              Alamat Tanggal Posting  \\\n",
       "0  Perumahan PJMI,Jalan Cendrawasih III B-11/03, ...         Kemarin   \n",
       "1                              Bintaro Jaya Sektor 9          10 Des   \n",
       "2                                        Griya Aviva          19 Nov   \n",
       "\n",
       "                                                 URL  \n",
       "0  https://www.olx.co.id/item/dijual-rumah-di-dae...  \n",
       "1  https://www.olx.co.id/item/dijual-rumah-baru-r...  \n",
       "2  https://www.olx.co.id/item/jual-bu-rumah-siap-...  "
      ]
     },
     "execution_count": 9,
     "metadata": {},
     "output_type": "execute_result"
    }
   ],
   "source": [
    "df = pd.read_excel(r'D:\\Judin\\LEARN\\Python\\Web Scrapper\\olx_data to be used.xlsx')\n",
    "\n",
    "df.head(3)"
   ]
  },
  {
   "cell_type": "code",
   "execution_count": 10,
   "metadata": {},
   "outputs": [
    {
     "name": "stdout",
     "output_type": "stream",
     "text": [
      "<class 'pandas.core.frame.DataFrame'>\n",
      "RangeIndex: 600 entries, 0 to 599\n",
      "Data columns (total 12 columns):\n",
      " #   Column           Non-Null Count  Dtype  \n",
      "---  ------           --------------  -----  \n",
      " 0   ID               600 non-null    object \n",
      " 1   Title            600 non-null    object \n",
      " 2   Harga            600 non-null    object \n",
      " 3   Lantai           563 non-null    float64\n",
      " 4   Luas Bangunan    600 non-null    int64  \n",
      " 5   Luas Tanah       600 non-null    int64  \n",
      " 6   Kamar Tidur      600 non-null    object \n",
      " 7   Kamar Mandi      600 non-null    object \n",
      " 8   Lokasi           600 non-null    object \n",
      " 9   Alamat           590 non-null    object \n",
      " 10  Tanggal Posting  600 non-null    object \n",
      " 11  URL              600 non-null    object \n",
      "dtypes: float64(1), int64(2), object(9)\n",
      "memory usage: 56.4+ KB\n"
     ]
    }
   ],
   "source": [
    "df.info()"
   ]
  },
  {
   "cell_type": "markdown",
   "metadata": {},
   "source": [
    "### Column Cleansing"
   ]
  },
  {
   "cell_type": "markdown",
   "metadata": {},
   "source": [
    "#### ID"
   ]
  },
  {
   "cell_type": "markdown",
   "metadata": {},
   "source": [
    "Remove Duplicates"
   ]
  },
  {
   "cell_type": "code",
   "execution_count": 11,
   "metadata": {},
   "outputs": [
    {
     "name": "stdout",
     "output_type": "stream",
     "text": [
      "['ID IKLAN 809652403', 'ID IKLAN 813395733']\n"
     ]
    }
   ],
   "source": [
    "#check if ID is unique\n",
    "dupe_id = []\n",
    "\n",
    "for a in set(df['ID'].unique()):\n",
    "    if list(df['ID']).count(a) > 1:\n",
    "        dupe_id.append(a)\n",
    "        \n",
    "print(dupe_id)"
   ]
  },
  {
   "cell_type": "code",
   "execution_count": 12,
   "metadata": {},
   "outputs": [],
   "source": [
    "df.drop_duplicates(subset = 'ID', keep = 'first', inplace = True)"
   ]
  },
  {
   "cell_type": "code",
   "execution_count": 13,
   "metadata": {},
   "outputs": [
    {
     "data": {
      "text/plain": [
       "True"
      ]
     },
     "execution_count": 13,
     "metadata": {},
     "output_type": "execute_result"
    }
   ],
   "source": [
    "# Making sure ID is no more duplicated\n",
    "\n",
    "len(df['ID']) == len(set(df['ID']))"
   ]
  },
  {
   "cell_type": "markdown",
   "metadata": {},
   "source": [
    "Fixing Data Type and Structure"
   ]
  },
  {
   "cell_type": "code",
   "execution_count": 14,
   "metadata": {},
   "outputs": [],
   "source": [
    "df.ID.replace('ID IKLAN ','', regex=True, inplace=True)\n",
    "df.dropna(subset=['ID'], inplace=True)\n",
    "df.ID = df.ID.astype(int)"
   ]
  },
  {
   "cell_type": "markdown",
   "metadata": {},
   "source": [
    "#### Title"
   ]
  },
  {
   "cell_type": "code",
   "execution_count": 15,
   "metadata": {
    "scrolled": true
   },
   "outputs": [
    {
     "data": {
      "text/plain": [
       "['Jual Rumah Di Anggrek Loka BSD Serpong',\n",
       " 'Jual Rumah Di De latinos BSD Serpong',\n",
       " 'Rumah Hommy Dalam Cluster Lingkungan Nyaman di Sektor 9 - sc4185iq',\n",
       " 'Villa Melati Mas Serpong Dekat BSD Dan Bintaro']"
      ]
     },
     "execution_count": 15,
     "metadata": {},
     "output_type": "execute_result"
    }
   ],
   "source": [
    "#check if Title is unique\n",
    "dupe_title = []\n",
    "\n",
    "for a in set(df['Title'].unique()):\n",
    "    if list(df['Title']).count(a) > 1:\n",
    "        dupe_title.append(a)\n",
    "        \n",
    "dupe_title"
   ]
  },
  {
   "cell_type": "code",
   "execution_count": 16,
   "metadata": {},
   "outputs": [],
   "source": [
    "df.drop_duplicates(subset = 'Title', keep = 'first', inplace = True)"
   ]
  },
  {
   "cell_type": "code",
   "execution_count": 17,
   "metadata": {},
   "outputs": [
    {
     "data": {
      "text/plain": [
       "True"
      ]
     },
     "execution_count": 17,
     "metadata": {},
     "output_type": "execute_result"
    }
   ],
   "source": [
    "# Making sure Title is no more duplicated\n",
    "\n",
    "len(df['Title']) == len(set(df['Title']))"
   ]
  },
  {
   "cell_type": "markdown",
   "metadata": {},
   "source": [
    "#### Harga"
   ]
  },
  {
   "cell_type": "markdown",
   "metadata": {},
   "source": [
    "Remove Rp and thousand delimiter"
   ]
  },
  {
   "cell_type": "code",
   "execution_count": 18,
   "metadata": {},
   "outputs": [],
   "source": [
    "df.Harga.replace('Rp ','', regex=True, inplace=True)\n",
    "locale.setlocale(LC_ALL,'id_ID' )\n",
    "def makeint(string):\n",
    "    return atoi(string)\n",
    "\n",
    "df['Harga'] = df['Harga'].map(makeint)"
   ]
  },
  {
   "cell_type": "markdown",
   "metadata": {},
   "source": [
    "Scaling and converting datatype"
   ]
  },
  {
   "cell_type": "code",
   "execution_count": 19,
   "metadata": {},
   "outputs": [],
   "source": [
    "df['Harga'] = df['Harga']/1000000\n",
    "df['Harga'] = df['Harga'].astype(int)"
   ]
  },
  {
   "cell_type": "markdown",
   "metadata": {},
   "source": [
    "#### Kamar Mandi and Kamar Tidur"
   ]
  },
  {
   "cell_type": "code",
   "execution_count": 20,
   "metadata": {},
   "outputs": [],
   "source": [
    "# Cleaning '>' marks from columns\n",
    "\n",
    "df['Kamar Tidur'].replace('>','', regex=True, inplace=True)\n",
    "df['Kamar Mandi'].replace('>','', regex=True, inplace=True)"
   ]
  },
  {
   "cell_type": "markdown",
   "metadata": {},
   "source": [
    "#### Other Numerical Columns"
   ]
  },
  {
   "cell_type": "markdown",
   "metadata": {},
   "source": [
    "Change #N/A to 0"
   ]
  },
  {
   "cell_type": "code",
   "execution_count": 21,
   "metadata": {},
   "outputs": [],
   "source": [
    "df = df.fillna(0)"
   ]
  },
  {
   "cell_type": "markdown",
   "metadata": {},
   "source": [
    "Change data type to integers"
   ]
  },
  {
   "cell_type": "code",
   "execution_count": 22,
   "metadata": {},
   "outputs": [],
   "source": [
    "cols = df.columns[3:8]\n",
    "\n",
    "for columns in cols:\n",
    "    df[columns] = df[columns].astype(int)"
   ]
  },
  {
   "cell_type": "markdown",
   "metadata": {},
   "source": [
    "#### Lokasi"
   ]
  },
  {
   "cell_type": "markdown",
   "metadata": {},
   "source": [
    "Removing City Name"
   ]
  },
  {
   "cell_type": "code",
   "execution_count": 23,
   "metadata": {},
   "outputs": [],
   "source": [
    "loc_split = df.Lokasi.str.split(', ', n=1, expand=True)\n",
    "\n",
    "df.drop(columns=['Lokasi'], inplace=True)\n",
    "df['Lokasi'] = loc_split[0]"
   ]
  },
  {
   "cell_type": "markdown",
   "metadata": {},
   "source": [
    "#### Alamat"
   ]
  },
  {
   "cell_type": "markdown",
   "metadata": {},
   "source": [
    "Replace the 0 Value to String"
   ]
  },
  {
   "cell_type": "code",
   "execution_count": 26,
   "metadata": {},
   "outputs": [],
   "source": [
    "df['Alamat'].replace(0, 'Tidak ada alamat', inplace=True)"
   ]
  },
  {
   "cell_type": "markdown",
   "metadata": {},
   "source": [
    "#### Tanggal Posting"
   ]
  },
  {
   "cell_type": "markdown",
   "metadata": {},
   "source": [
    "Problems for Tanggal Posting's column:\n",
    "\n",
    "1. data marked as 'today' and 'yesterday' for today's and yesterday's posting date\n",
    "2. data marked as '3 days ago'  for before yesterday's to a week posting date\n",
    "3. month value is in indonesian language format"
   ]
  },
  {
   "cell_type": "code",
   "execution_count": 27,
   "metadata": {},
   "outputs": [
    {
     "data": {
      "text/plain": [
       "array(['Kemarin', '10 Des', '19 Nov', '29 Nov', 'Hari ini', '19 Des',\n",
       "       '18 Des', '24 Des', '26 Sep', '9 Nov', '23 Nov',\n",
       "       '2 hari yang lalu', '3 hari yang lalu', '4 hari yang lalu',\n",
       "       '5 hari yang lalu', '6 hari yang lalu'], dtype=object)"
      ]
     },
     "execution_count": 27,
     "metadata": {},
     "output_type": "execute_result"
    }
   ],
   "source": [
    "df['Tanggal Posting'].unique()"
   ]
  },
  {
   "cell_type": "code",
   "execution_count": 28,
   "metadata": {},
   "outputs": [],
   "source": [
    "today = str(date.today())\n",
    "today = int(today[-2:])\n",
    "str_today = str(today)\n",
    "\n",
    "this_month = str(date.today())\n",
    "this_month = int(this_month[5:7])\n",
    "month_dict = {1:'Jan', 2:'Feb', 3:'Mar', 4:'Apr', 5:'Mei', 6:'Jun', 7:'Jul', 8:'Aug', 9:'Sep', 10:'Oct', 11:'Nov', 12:'Dec'}\n",
    "this_month = month_dict[this_month]\n",
    "\n",
    "\n",
    "yesterday = str(date.today() - timedelta(days=1))\n",
    "yesterday = int(yesterday[-2:])\n",
    "str_yesterday = str(yesterday)\n",
    "\n",
    "yes_month = str(date.today() - timedelta(days=1))\n",
    "yes_month = int(yes_month[5:7])\n",
    "yes_month = month_dict[yes_month]\n",
    "\n",
    "hari_ini = str_today + ' ' + this_month\n",
    "kemarin = str_yesterday + ' ' + yes_month\n",
    "\n",
    "df['Tanggal Posting'].replace('Hari ini',hari_ini, inplace=True)\n",
    "df['Tanggal Posting'].replace('Kemarin',kemarin, inplace=True)"
   ]
  },
  {
   "cell_type": "code",
   "execution_count": 29,
   "metadata": {},
   "outputs": [],
   "source": [
    "def that_day(val):\n",
    "    if len(val)> 6 :\n",
    "        back = int(val[:2])\n",
    "        hari_itu = str(date.today() - timedelta(days=back))\n",
    "        bulan_itu = int(hari_itu[5:7])\n",
    "        hari_itu = str(int(hari_itu[-2:]))\n",
    "        bulan_itu = month_dict[bulan_itu]\n",
    "        tanggal_itu = hari_itu + ' ' + bulan_itu\n",
    "        val = tanggal_itu\n",
    "    else:\n",
    "        val = val\n",
    "    return val\n",
    "\n",
    "def todate(dat):\n",
    "    dat = parser.parse(dat)\n",
    "    dat = dat.strftime('%d/%m/%Y')\n",
    "    return dat\n",
    "\n",
    "df['Tanggal Posting'] = df['Tanggal Posting'].map(that_day)\n",
    "df['Tanggal Posting'].replace({'Mei':'May', 'Agt':'Aug', 'Okt':'Oct', 'Des':'Dec'}, regex=True, inplace=True)\n",
    "df['Tanggal Posting'] = df['Tanggal Posting'].map(todate)\n",
    "\n",
    "df= df[['ID', 'Title', 'Harga', 'Lantai', 'Luas Bangunan', 'Luas Tanah', \n",
    "        'Kamar Tidur', 'Kamar Mandi', 'Lokasi', 'Alamat', 'Tanggal Posting', 'URL']]"
   ]
  },
  {
   "cell_type": "code",
   "execution_count": 30,
   "metadata": {
    "scrolled": true
   },
   "outputs": [
    {
     "data": {
      "text/html": [
       "<div>\n",
       "<style scoped>\n",
       "    .dataframe tbody tr th:only-of-type {\n",
       "        vertical-align: middle;\n",
       "    }\n",
       "\n",
       "    .dataframe tbody tr th {\n",
       "        vertical-align: top;\n",
       "    }\n",
       "\n",
       "    .dataframe thead th {\n",
       "        text-align: right;\n",
       "    }\n",
       "</style>\n",
       "<table border=\"1\" class=\"dataframe\">\n",
       "  <thead>\n",
       "    <tr style=\"text-align: right;\">\n",
       "      <th></th>\n",
       "      <th>ID</th>\n",
       "      <th>Title</th>\n",
       "      <th>Harga</th>\n",
       "      <th>Lantai</th>\n",
       "      <th>Luas Bangunan</th>\n",
       "      <th>Luas Tanah</th>\n",
       "      <th>Kamar Tidur</th>\n",
       "      <th>Kamar Mandi</th>\n",
       "      <th>Lokasi</th>\n",
       "      <th>Alamat</th>\n",
       "      <th>Tanggal Posting</th>\n",
       "      <th>URL</th>\n",
       "    </tr>\n",
       "  </thead>\n",
       "  <tbody>\n",
       "    <tr>\n",
       "      <th>0</th>\n",
       "      <td>813395733</td>\n",
       "      <td>Dijual Rumah di daerah Bintaro Jaya</td>\n",
       "      <td>1800</td>\n",
       "      <td>1</td>\n",
       "      <td>54</td>\n",
       "      <td>117</td>\n",
       "      <td>3</td>\n",
       "      <td>2</td>\n",
       "      <td>Pondok Aren</td>\n",
       "      <td>Perumahan PJMI,Jalan Cendrawasih III B-11/03, ...</td>\n",
       "      <td>20/02/2021</td>\n",
       "      <td>https://www.olx.co.id/item/dijual-rumah-di-dae...</td>\n",
       "    </tr>\n",
       "    <tr>\n",
       "      <th>1</th>\n",
       "      <td>805740627</td>\n",
       "      <td>Dijual Rumah baru renov dengan tanah luas dan ...</td>\n",
       "      <td>2400</td>\n",
       "      <td>0</td>\n",
       "      <td>100</td>\n",
       "      <td>209</td>\n",
       "      <td>3</td>\n",
       "      <td>2</td>\n",
       "      <td>Pondok Aren</td>\n",
       "      <td>Bintaro Jaya Sektor 9</td>\n",
       "      <td>10/12/2021</td>\n",
       "      <td>https://www.olx.co.id/item/dijual-rumah-baru-r...</td>\n",
       "    </tr>\n",
       "    <tr>\n",
       "      <th>2</th>\n",
       "      <td>808421964</td>\n",
       "      <td>Jual B.U Rumah Siap Huni Lokasi Strategis Deka...</td>\n",
       "      <td>999</td>\n",
       "      <td>1</td>\n",
       "      <td>60</td>\n",
       "      <td>101</td>\n",
       "      <td>3</td>\n",
       "      <td>2</td>\n",
       "      <td>Ciputat</td>\n",
       "      <td>Griya Aviva</td>\n",
       "      <td>19/11/2021</td>\n",
       "      <td>https://www.olx.co.id/item/jual-bu-rumah-siap-...</td>\n",
       "    </tr>\n",
       "  </tbody>\n",
       "</table>\n",
       "</div>"
      ],
      "text/plain": [
       "          ID                                              Title  Harga  \\\n",
       "0  813395733                Dijual Rumah di daerah Bintaro Jaya   1800   \n",
       "1  805740627  Dijual Rumah baru renov dengan tanah luas dan ...   2400   \n",
       "2  808421964  Jual B.U Rumah Siap Huni Lokasi Strategis Deka...    999   \n",
       "\n",
       "   Lantai  Luas Bangunan  Luas Tanah  Kamar Tidur  Kamar Mandi       Lokasi  \\\n",
       "0       1             54         117            3            2  Pondok Aren   \n",
       "1       0            100         209            3            2  Pondok Aren   \n",
       "2       1             60         101            3            2      Ciputat   \n",
       "\n",
       "                                              Alamat Tanggal Posting  \\\n",
       "0  Perumahan PJMI,Jalan Cendrawasih III B-11/03, ...      20/02/2021   \n",
       "1                              Bintaro Jaya Sektor 9      10/12/2021   \n",
       "2                                        Griya Aviva      19/11/2021   \n",
       "\n",
       "                                                 URL  \n",
       "0  https://www.olx.co.id/item/dijual-rumah-di-dae...  \n",
       "1  https://www.olx.co.id/item/dijual-rumah-baru-r...  \n",
       "2  https://www.olx.co.id/item/jual-bu-rumah-siap-...  "
      ]
     },
     "execution_count": 30,
     "metadata": {},
     "output_type": "execute_result"
    }
   ],
   "source": [
    "df.head(3)"
   ]
  },
  {
   "cell_type": "markdown",
   "metadata": {},
   "source": [
    "#### Now data has been cleaned!"
   ]
  },
  {
   "cell_type": "markdown",
   "metadata": {},
   "source": [
    "### Getting Insight From Data"
   ]
  },
  {
   "cell_type": "code",
   "execution_count": 31,
   "metadata": {},
   "outputs": [],
   "source": [
    "import matplotlib.pyplot as plt\n",
    "import seaborn as sns"
   ]
  },
  {
   "cell_type": "markdown",
   "metadata": {},
   "source": [
    "#### Average House Price per District"
   ]
  },
  {
   "cell_type": "code",
   "execution_count": 32,
   "metadata": {},
   "outputs": [],
   "source": [
    "harga_lokasi = df.groupby(['Lokasi']).mean()['Harga']"
   ]
  },
  {
   "cell_type": "code",
   "execution_count": 33,
   "metadata": {
    "scrolled": false
   },
   "outputs": [
    {
     "name": "stderr",
     "output_type": "stream",
     "text": [
      "C:\\Users\\admin\\Anaconda3\\lib\\site-packages\\seaborn\\_decorators.py:43: FutureWarning: Pass the following variables as keyword args: x, y. From version 0.12, the only valid positional argument will be `data`, and passing other arguments without an explicit keyword will result in an error or misinterpretation.\n",
      "  FutureWarning\n"
     ]
    },
    {
     "data": {
      "text/plain": [
       "Text(0.5, 0, 'Lokasi')"
      ]
     },
     "execution_count": 33,
     "metadata": {},
     "output_type": "execute_result"
    },
    {
     "data": {
      "image/png": "[encoded data removed]",
      "text/plain": [
       "<Figure size 720x432 with 1 Axes>"
      ]
     },
     "metadata": {
      "needs_background": "light"
     },
     "output_type": "display_data"
    }
   ],
   "source": [
    "df['Rasio HLT'] = df['Harga']/df['Luas Tanah']\n",
    "\n",
    "plt.figure(figsize=[10,6])\n",
    "sns.barplot(harga_lokasi.index, harga_lokasi)\n",
    "plt.title('Rata-Rata Harga Rumah Per Kecamatan', {'fontsize': 15, 'fontweight':'bold'}, pad=10, color='#515151')\n",
    "plt.ylabel('Harga (Juta Rupiah)', {'fontsize': 12}, labelpad=10)\n",
    "plt.xlabel('Lokasi', {'fontsize': 12}, labelpad=10)\n",
    "\n",
    "# plt.savefig('rata_rata.png', dpi=600, facecolor='white')"
   ]
  },
  {
   "cell_type": "markdown",
   "metadata": {},
   "source": [
    "#### Number of Listings per District"
   ]
  },
  {
   "cell_type": "code",
   "execution_count": 34,
   "metadata": {},
   "outputs": [],
   "source": [
    "jumlah_lokasi = df.groupby(['Lokasi']).count()['Harga']"
   ]
  },
  {
   "cell_type": "code",
   "execution_count": 35,
   "metadata": {},
   "outputs": [
    {
     "name": "stderr",
     "output_type": "stream",
     "text": [
      "C:\\Users\\admin\\Anaconda3\\lib\\site-packages\\seaborn\\_decorators.py:43: FutureWarning: Pass the following variables as keyword args: x, y. From version 0.12, the only valid positional argument will be `data`, and passing other arguments without an explicit keyword will result in an error or misinterpretation.\n",
      "  FutureWarning\n"
     ]
    },
    {
     "data": {
      "text/plain": [
       "Text(0.5, 0, 'Lokasi')"
      ]
     },
     "execution_count": 35,
     "metadata": {},
     "output_type": "execute_result"
    },
    {
     "data": {
      "image/png": "[encoded data removed]",
      "text/plain": [
       "<Figure size 720x432 with 1 Axes>"
      ]
     },
     "metadata": {
      "needs_background": "light"
     },
     "output_type": "display_data"
    }
   ],
   "source": [
    "plt.figure(figsize=[10,6])\n",
    "sns.barplot(jumlah_lokasi.index, jumlah_lokasi)\n",
    "plt.title('Jumlah Listing Rumah Per Kecamatan', {'fontsize': 15, 'fontweight':'bold'}, pad=10, color='#515151')\n",
    "plt.ylabel('Jumlah Listing', {'fontsize': 12}, labelpad=10)\n",
    "plt.xlabel('Lokasi', {'fontsize': 12}, labelpad=10)\n",
    "\n",
    "# plt.savefig('jumlah_listing.png', dpi=600, facecolor='white')"
   ]
  },
  {
   "cell_type": "markdown",
   "metadata": {},
   "source": [
    "#### House Price to Land Area Ratio"
   ]
  },
  {
   "cell_type": "code",
   "execution_count": 36,
   "metadata": {
    "scrolled": false
   },
   "outputs": [
    {
     "name": "stderr",
     "output_type": "stream",
     "text": [
      "C:\\Users\\admin\\Anaconda3\\lib\\site-packages\\seaborn\\_decorators.py:43: FutureWarning: Pass the following variables as keyword args: x, y. From version 0.12, the only valid positional argument will be `data`, and passing other arguments without an explicit keyword will result in an error or misinterpretation.\n",
      "  FutureWarning\n"
     ]
    },
    {
     "data": {
      "image/png": "[encoded data removed]",
      "text/plain": [
       "<Figure size 1008x576 with 1 Axes>"
      ]
     },
     "metadata": {
      "needs_background": "light"
     },
     "output_type": "display_data"
    }
   ],
   "source": [
    "fig = plt.figure(figsize = [14,8])\n",
    "sns.scatterplot(df['Luas Tanah'], df['Harga'], hue=df['Lokasi'])\n",
    "plt.title('Perbandingan Harga Rumah Terhadap Luas Tanah', {'fontsize': 15, 'fontweight':'bold'}, pad=10, color='#515151')\n",
    "plt.ylabel('Harga (Juta Rupiah)', {'fontsize': 12}, labelpad=10, color='#515151')\n",
    "plt.xlabel('Luas Tanah (m2)', {'fontsize': 12}, labelpad=10, color='#515151')\n",
    "plt.yticks([x*1000 for x in range(0,17)])\n",
    "plt.ylim([0,16500])\n",
    "plt.grid(axis='y', linestyle='--')\n",
    "\n",
    "# plt.savefig('harga_LT.png', dpi=600, facecolor='white', bbox_inches='tight')"
   ]
  },
  {
   "cell_type": "code",
   "execution_count": 37,
   "metadata": {
    "scrolled": false
   },
   "outputs": [
    {
     "data": {
      "image/png": "[encoded data removed]",
      "text/plain": [
       "<Figure size 1440x720 with 5 Axes>"
      ]
     },
     "metadata": {
      "needs_background": "light"
     },
     "output_type": "display_data"
    }
   ],
   "source": [
    "fig, ax = plt.subplots(nrows=2, ncols=3)\n",
    "fig.set_figwidth(20)\n",
    "fig.set_figheight(10)\n",
    "fig.subplots_adjust(hspace=0.3)\n",
    "nrows = 2\n",
    "ncols = 3\n",
    "fig.delaxes(ax[1,2])\n",
    "color_index = 0\n",
    "colors = ['#4c4cff', '#e59c16', '#329932', '#ff3232', '#8c198c']\n",
    "titles = [x for x in df['Lokasi'].unique()]\n",
    "\n",
    "\n",
    "for num, lok in enumerate(df['Lokasi'].unique()):\n",
    "    row = num // nrows\n",
    "    column = num % nrows\n",
    "    df_aktif = df[df['Lokasi'] == lok]\n",
    "    ax[column, row].scatter(df_aktif['Luas Tanah'], df_aktif['Harga'], color=colors[color_index])\n",
    "    ax[column, row].set_xlabel('Luas Tanah')\n",
    "    ax[column, row].set_ylabel('Harga')\n",
    "    ax[column, row].set_title(titles[color_index], pad=10, fontsize=14, fontweight='bold', color='#515151')\n",
    "    color_index += 1\n",
    "    \n",
    "    \n",
    "# plt.savefig('harga_LT_pisah.png', dpi=600, facecolor='white', bbox_inches='tight')"
   ]
  },
  {
   "cell_type": "markdown",
   "metadata": {},
   "source": [
    "Make House Price to Land Area Ratio Columns and Put it into new Data Frame (Sort by Lowest)"
   ]
  },
  {
   "cell_type": "code",
   "execution_count": 38,
   "metadata": {},
   "outputs": [
    {
     "data": {
      "text/html": [
       "<div>\n",
       "<style scoped>\n",
       "    .dataframe tbody tr th:only-of-type {\n",
       "        vertical-align: middle;\n",
       "    }\n",
       "\n",
       "    .dataframe tbody tr th {\n",
       "        vertical-align: top;\n",
       "    }\n",
       "\n",
       "    .dataframe thead th {\n",
       "        text-align: right;\n",
       "    }\n",
       "</style>\n",
       "<table border=\"1\" class=\"dataframe\">\n",
       "  <thead>\n",
       "    <tr style=\"text-align: right;\">\n",
       "      <th></th>\n",
       "      <th>ID</th>\n",
       "      <th>Harga</th>\n",
       "      <th>Luas Tanah</th>\n",
       "      <th>Harga Per Meter</th>\n",
       "      <th>Lokasi</th>\n",
       "    </tr>\n",
       "  </thead>\n",
       "  <tbody>\n",
       "    <tr>\n",
       "      <th>0</th>\n",
       "      <td>813200116</td>\n",
       "      <td>465</td>\n",
       "      <td>300</td>\n",
       "      <td>1.550000</td>\n",
       "      <td>Ciputat</td>\n",
       "    </tr>\n",
       "    <tr>\n",
       "      <th>1</th>\n",
       "      <td>813077829</td>\n",
       "      <td>360</td>\n",
       "      <td>185</td>\n",
       "      <td>1.945946</td>\n",
       "      <td>Serpong</td>\n",
       "    </tr>\n",
       "    <tr>\n",
       "      <th>2</th>\n",
       "      <td>813171645</td>\n",
       "      <td>531</td>\n",
       "      <td>224</td>\n",
       "      <td>2.370536</td>\n",
       "      <td>Serpong</td>\n",
       "    </tr>\n",
       "    <tr>\n",
       "      <th>3</th>\n",
       "      <td>812810948</td>\n",
       "      <td>400</td>\n",
       "      <td>161</td>\n",
       "      <td>2.484472</td>\n",
       "      <td>Serpong</td>\n",
       "    </tr>\n",
       "  </tbody>\n",
       "</table>\n",
       "</div>"
      ],
      "text/plain": [
       "          ID  Harga  Luas Tanah  Harga Per Meter   Lokasi\n",
       "0  813200116    465         300         1.550000  Ciputat\n",
       "1  813077829    360         185         1.945946  Serpong\n",
       "2  813171645    531         224         2.370536  Serpong\n",
       "3  812810948    400         161         2.484472  Serpong"
      ]
     },
     "execution_count": 38,
     "metadata": {},
     "output_type": "execute_result"
    }
   ],
   "source": [
    "df['Rasio HLT'] = df['Harga']/df['Luas Tanah']\n",
    "tanah_termurah = df.sort_values(by=['Rasio HLT'], ignore_index=True)[['ID','Harga','Luas Tanah','Rasio HLT', 'Lokasi',]].rename(columns={'Rasio HLT':'Harga Per Meter'})\n",
    "\n",
    "tanah_termurah.head(4)"
   ]
  },
  {
   "cell_type": "markdown",
   "metadata": {},
   "source": [
    "Get Mean, Median Mode and Standard Deviation of House Price to Land Area Ratio"
   ]
  },
  {
   "cell_type": "code",
   "execution_count": 39,
   "metadata": {},
   "outputs": [
    {
     "name": "stdout",
     "output_type": "stream",
     "text": [
      "Mean:  15.655071248456489\n",
      "Median:  15.36774628879892\n",
      "Mode:  0    16.666667\n",
      "1    19.444444\n",
      "dtype: float64\n",
      "Standard Deviation:  5.865195087148331\n"
     ]
    }
   ],
   "source": [
    "print('Mean: ', df['Rasio HLT'].mean())\n",
    "print('Median: ', df['Rasio HLT'].median())\n",
    "print('Mode: ', df['Rasio HLT'].mode())\n",
    "print('Standard Deviation: ', df['Rasio HLT'].std())"
   ]
  },
  {
   "cell_type": "markdown",
   "metadata": {},
   "source": [
    "#### House Price to Building Area Ratio"
   ]
  },
  {
   "cell_type": "code",
   "execution_count": 40,
   "metadata": {},
   "outputs": [
    {
     "name": "stderr",
     "output_type": "stream",
     "text": [
      "C:\\Users\\admin\\Anaconda3\\lib\\site-packages\\seaborn\\_decorators.py:43: FutureWarning: Pass the following variables as keyword args: x, y. From version 0.12, the only valid positional argument will be `data`, and passing other arguments without an explicit keyword will result in an error or misinterpretation.\n",
      "  FutureWarning\n"
     ]
    },
    {
     "data": {
      "image/png": "[encoded data removed]",
      "text/plain": [
       "<Figure size 1008x576 with 1 Axes>"
      ]
     },
     "metadata": {
      "needs_background": "light"
     },
     "output_type": "display_data"
    }
   ],
   "source": [
    "fig = plt.figure(figsize = [14,8])\n",
    "sns.scatterplot(df['Luas Tanah'], df['Harga'], hue=df['Lokasi'])\n",
    "plt.title('Perbandingan Harga Rumah Terhadap Luas Bangunan', {'fontsize': 15, 'fontweight':'bold'}, pad=10, color='#515151')\n",
    "plt.ylabel('Harga (Juta Rupiah)', {'fontsize': 12}, labelpad=10, color='#515151')\n",
    "plt.xlabel('Luas Bangunan (m2)', {'fontsize': 12}, labelpad=10, color='#515151')\n",
    "plt.yticks([x*1000 for x in range(0,17)])\n",
    "plt.ylim([0,16500])\n",
    "plt.grid(axis='y', linestyle='--')\n",
    "\n",
    "# plt.savefig('harga_LB.png', dpi=600, facecolor='white', bbox_inches='tight')"
   ]
  },
  {
   "cell_type": "code",
   "execution_count": 41,
   "metadata": {
    "scrolled": false
   },
   "outputs": [
    {
     "data": {
      "image/png": "[encoded data removed]",
      "text/plain": [
       "<Figure size 1440x720 with 5 Axes>"
      ]
     },
     "metadata": {
      "needs_background": "light"
     },
     "output_type": "display_data"
    }
   ],
   "source": [
    "fig, ax = plt.subplots(nrows=2, ncols=3)\n",
    "fig.set_figwidth(20)\n",
    "fig.set_figheight(10)\n",
    "fig.subplots_adjust(hspace=0.3)\n",
    "nrows = 2\n",
    "ncols = 3\n",
    "fig.delaxes(ax[1,2])\n",
    "color_index = 0\n",
    "colors = ['#4c4cff', '#e59c16', '#329932', '#ff3232', '#8c198c']\n",
    "titles = [x for x in df['Lokasi'].unique()]\n",
    "\n",
    "\n",
    "for num, lok in enumerate(df['Lokasi'].unique()):\n",
    "    row = num // nrows\n",
    "    column = num % nrows\n",
    "    df_aktif = df[df['Lokasi'] == lok]\n",
    "    ax[column, row].scatter(df_aktif['Luas Bangunan'], df_aktif['Harga'], color=colors[color_index])\n",
    "    ax[column, row].set_xlabel('Luas Bangunan')\n",
    "    ax[column, row].set_ylabel('Harga')\n",
    "    ax[column, row].set_title(titles[color_index], pad=10, fontsize=14, fontweight='bold', color='#515151')\n",
    "    color_index += 1\n",
    "    \n",
    "    \n",
    "# plt.savefig('harga_LB_pisah.png', dpi=600, facecolor='white', bbox_inches='tight')"
   ]
  },
  {
   "cell_type": "markdown",
   "metadata": {},
   "source": [
    "Make House Price to Building Area Ratio Columns and Put it into new Data Frame (Sort by Lowest)"
   ]
  },
  {
   "cell_type": "code",
   "execution_count": 42,
   "metadata": {
    "scrolled": true
   },
   "outputs": [
    {
     "data": {
      "text/html": [
       "<div>\n",
       "<style scoped>\n",
       "    .dataframe tbody tr th:only-of-type {\n",
       "        vertical-align: middle;\n",
       "    }\n",
       "\n",
       "    .dataframe tbody tr th {\n",
       "        vertical-align: top;\n",
       "    }\n",
       "\n",
       "    .dataframe thead th {\n",
       "        text-align: right;\n",
       "    }\n",
       "</style>\n",
       "<table border=\"1\" class=\"dataframe\">\n",
       "  <thead>\n",
       "    <tr style=\"text-align: right;\">\n",
       "      <th></th>\n",
       "      <th>ID</th>\n",
       "      <th>Harga</th>\n",
       "      <th>Luas Bangunan</th>\n",
       "      <th>Harga Per Meter Bangunan</th>\n",
       "      <th>Lokasi</th>\n",
       "    </tr>\n",
       "  </thead>\n",
       "  <tbody>\n",
       "    <tr>\n",
       "      <th>0</th>\n",
       "      <td>813200116</td>\n",
       "      <td>465</td>\n",
       "      <td>150</td>\n",
       "      <td>3.1000</td>\n",
       "      <td>Ciputat</td>\n",
       "    </tr>\n",
       "    <tr>\n",
       "      <th>1</th>\n",
       "      <td>813171645</td>\n",
       "      <td>531</td>\n",
       "      <td>150</td>\n",
       "      <td>3.5400</td>\n",
       "      <td>Serpong</td>\n",
       "    </tr>\n",
       "    <tr>\n",
       "      <th>2</th>\n",
       "      <td>813356834</td>\n",
       "      <td>1050</td>\n",
       "      <td>240</td>\n",
       "      <td>4.3750</td>\n",
       "      <td>Pondok Aren</td>\n",
       "    </tr>\n",
       "    <tr>\n",
       "      <th>3</th>\n",
       "      <td>801477890</td>\n",
       "      <td>1500</td>\n",
       "      <td>320</td>\n",
       "      <td>4.6875</td>\n",
       "      <td>Pondok Aren</td>\n",
       "    </tr>\n",
       "  </tbody>\n",
       "</table>\n",
       "</div>"
      ],
      "text/plain": [
       "          ID  Harga  Luas Bangunan  Harga Per Meter Bangunan       Lokasi\n",
       "0  813200116    465            150                    3.1000      Ciputat\n",
       "1  813171645    531            150                    3.5400      Serpong\n",
       "2  813356834   1050            240                    4.3750  Pondok Aren\n",
       "3  801477890   1500            320                    4.6875  Pondok Aren"
      ]
     },
     "execution_count": 42,
     "metadata": {},
     "output_type": "execute_result"
    }
   ],
   "source": [
    "df['Rasio HLB'] = df['Harga']/df['Luas Bangunan']\n",
    "bangunan_termurah = df.sort_values(by=['Rasio HLB'], ignore_index=True)[['ID', 'Harga', 'Luas Bangunan', 'Rasio HLB', 'Lokasi']].rename(columns={'Rasio HLB':'Harga Per Meter Bangunan'})\n",
    "\n",
    "bangunan_termurah.head(4)"
   ]
  },
  {
   "cell_type": "markdown",
   "metadata": {},
   "source": [
    "Get Mean, Median Mode and Standard Deviation of House Price to Building Area Ratio"
   ]
  },
  {
   "cell_type": "code",
   "execution_count": 43,
   "metadata": {},
   "outputs": [
    {
     "name": "stdout",
     "output_type": "stream",
     "text": [
      "Mean:  15.942947325615963\n",
      "Median:  15.5\n",
      "Mode:  0    15.0\n",
      "dtype: float64\n",
      "Standard Deviation:  5.8005568181353375\n"
     ]
    }
   ],
   "source": [
    "print('Mean: ', df['Rasio HLB'].mean())\n",
    "print('Median: ', df['Rasio HLB'].median())\n",
    "print('Mode: ', df['Rasio HLB'].mode())\n",
    "print('Standard Deviation: ', df['Rasio HLB'].std())"
   ]
  },
  {
   "cell_type": "markdown",
   "metadata": {},
   "source": [
    "#### Adding Labels for Global Deals"
   ]
  },
  {
   "cell_type": "markdown",
   "metadata": {},
   "source": [
    "Defining Threshold for House Price to Building Area Ratio"
   ]
  },
  {
   "cell_type": "code",
   "execution_count": 44,
   "metadata": {},
   "outputs": [],
   "source": [
    "th_bargain_bawah = (df['Rasio HLB'].mean()-(df['Rasio HLB'].std()*0.9))\n",
    "th_bargain_atas = (df['Rasio HLB'].mean()-(df['Rasio HLB'].std()*0.20))\n",
    "th_mahal_bawah = (df['Rasio HLB'].mean()+(df['Rasio HLB'].std()*0.20))\n",
    "th_mahal_atas = (df['Rasio HLB'].mean()+(df['Rasio HLB'].std()*0.9))\n",
    "\n",
    "def bargain_global(x):\n",
    "    if x < th_bargain_bawah:\n",
    "        return 'Suspicious'\n",
    "    elif x < th_bargain_atas:\n",
    "        return 'Bargain'\n",
    "    elif x > th_mahal_atas:\n",
    "        return 'Very Expensive'\n",
    "    elif x > th_mahal_bawah:\n",
    "        return 'Expensive'\n",
    "    else:\n",
    "        return 'Normal'"
   ]
  },
  {
   "cell_type": "code",
   "execution_count": 45,
   "metadata": {},
   "outputs": [
    {
     "data": {
      "text/html": [
       "<div>\n",
       "<style scoped>\n",
       "    .dataframe tbody tr th:only-of-type {\n",
       "        vertical-align: middle;\n",
       "    }\n",
       "\n",
       "    .dataframe tbody tr th {\n",
       "        vertical-align: top;\n",
       "    }\n",
       "\n",
       "    .dataframe thead th {\n",
       "        text-align: right;\n",
       "    }\n",
       "</style>\n",
       "<table border=\"1\" class=\"dataframe\">\n",
       "  <thead>\n",
       "    <tr style=\"text-align: right;\">\n",
       "      <th></th>\n",
       "      <th>Lokasi</th>\n",
       "      <th>Rasio HLB</th>\n",
       "      <th>Deals</th>\n",
       "    </tr>\n",
       "  </thead>\n",
       "  <tbody>\n",
       "    <tr>\n",
       "      <th>0</th>\n",
       "      <td>Pondok Aren</td>\n",
       "      <td>33.333333</td>\n",
       "      <td>Very Expensive</td>\n",
       "    </tr>\n",
       "    <tr>\n",
       "      <th>1</th>\n",
       "      <td>Pondok Aren</td>\n",
       "      <td>24.000000</td>\n",
       "      <td>Very Expensive</td>\n",
       "    </tr>\n",
       "    <tr>\n",
       "      <th>2</th>\n",
       "      <td>Ciputat</td>\n",
       "      <td>16.650000</td>\n",
       "      <td>Normal</td>\n",
       "    </tr>\n",
       "  </tbody>\n",
       "</table>\n",
       "</div>"
      ],
      "text/plain": [
       "        Lokasi  Rasio HLB           Deals\n",
       "0  Pondok Aren  33.333333  Very Expensive\n",
       "1  Pondok Aren  24.000000  Very Expensive\n",
       "2      Ciputat  16.650000          Normal"
      ]
     },
     "execution_count": 45,
     "metadata": {},
     "output_type": "execute_result"
    }
   ],
   "source": [
    "df['Deals'] = df['Rasio HLB'].apply(bargain_global)\n",
    "\n",
    "df[['Lokasi', 'Rasio HLB', 'Deals']].head(3)"
   ]
  },
  {
   "cell_type": "markdown",
   "metadata": {},
   "source": [
    "#### Adding Labels for Local Deals"
   ]
  },
  {
   "cell_type": "code",
   "execution_count": 46,
   "metadata": {},
   "outputs": [
    {
     "data": {
      "text/plain": [
       "{'Pondok Aren': 16.906257101877728,\n",
       " 'Ciputat': 12.889527612026527,\n",
       " 'Serpong': 15.464757737349673,\n",
       " 'Serpong Utara': 16.038126767800453,\n",
       " 'Ciledug': 14.181256224982858}"
      ]
     },
     "execution_count": 46,
     "metadata": {},
     "output_type": "execute_result"
    }
   ],
   "source": [
    "list_lokasi = df['Lokasi'].unique()\n",
    "loc_mean = {a : (df[df['Lokasi'] == a]['Rasio HLB'].mean()) for a in list_lokasi}\n",
    "\n",
    "loc_mean"
   ]
  },
  {
   "cell_type": "code",
   "execution_count": 47,
   "metadata": {},
   "outputs": [
    {
     "data": {
      "text/plain": [
       "{'Pondok Aren': 5.958965807782663,\n",
       " 'Ciputat': 5.021104034546468,\n",
       " 'Serpong': 5.0383107475745685,\n",
       " 'Serpong Utara': 6.370058403091777,\n",
       " 'Ciledug': 5.600537637049517}"
      ]
     },
     "execution_count": 47,
     "metadata": {},
     "output_type": "execute_result"
    }
   ],
   "source": [
    "loc_stdev = {a : (df[df['Lokasi'] == a]['Rasio HLB'].std()) for a in list_lokasi}\n",
    "loc_stdev"
   ]
  },
  {
   "cell_type": "code",
   "execution_count": 48,
   "metadata": {},
   "outputs": [
    {
     "data": {
      "text/plain": [
       "{'Pondok Aren': [11.54318787487333,\n",
       "  15.714463940321195,\n",
       "  18.09805026343426,\n",
       "  22.269326328882123],\n",
       " 'Ciputat': [8.370533980934706,\n",
       "  11.885306805117233,\n",
       "  13.89374841893582,\n",
       "  17.408521243118347],\n",
       " 'Serpong': [10.930278064532562,\n",
       "  14.45709558783476,\n",
       "  16.472419886864586,\n",
       "  19.999237410166785],\n",
       " 'Serpong Utara': [10.305074205017853,\n",
       "  14.764115087182097,\n",
       "  17.312138448418807,\n",
       "  21.771179330583053],\n",
       " 'Ciledug': [9.140772351638294,\n",
       "  13.061148697572955,\n",
       "  15.301363752392762,\n",
       "  19.221740098327423]}"
      ]
     },
     "execution_count": 48,
     "metadata": {},
     "output_type": "execute_result"
    }
   ],
   "source": [
    "grand_list = []\n",
    "for a in list_lokasi:\n",
    "    grand_list.append([loc_mean[a]-loc_stdev[a]*0.9, \n",
    "                       loc_mean[a]-loc_stdev[a]*0.2, \n",
    "                       loc_mean[a]+ loc_stdev[a]*0.2, \n",
    "                       loc_mean[a]+loc_stdev[a]*0.9])\n",
    "    \n",
    "local_dict = {key:value for key,value in zip(list_lokasi, grand_list)}\n",
    "\n",
    "local_dict"
   ]
  },
  {
   "cell_type": "code",
   "execution_count": 49,
   "metadata": {},
   "outputs": [],
   "source": [
    "def bargain_local(lok, hlb):\n",
    "    if hlb < local_dict[lok][0]:\n",
    "        return 'Suspicious'\n",
    "    elif hlb < local_dict[lok][1]:\n",
    "        return 'Bargain'\n",
    "    elif hlb > local_dict[lok][3]:\n",
    "        return 'Very Expensive'\n",
    "    elif hlb > local_dict[lok][2]:\n",
    "        return 'Expensive'\n",
    "    else:\n",
    "        return 'Normal'"
   ]
  },
  {
   "cell_type": "code",
   "execution_count": 50,
   "metadata": {
    "scrolled": true
   },
   "outputs": [
    {
     "data": {
      "text/html": [
       "<div>\n",
       "<style scoped>\n",
       "    .dataframe tbody tr th:only-of-type {\n",
       "        vertical-align: middle;\n",
       "    }\n",
       "\n",
       "    .dataframe tbody tr th {\n",
       "        vertical-align: top;\n",
       "    }\n",
       "\n",
       "    .dataframe thead th {\n",
       "        text-align: right;\n",
       "    }\n",
       "</style>\n",
       "<table border=\"1\" class=\"dataframe\">\n",
       "  <thead>\n",
       "    <tr style=\"text-align: right;\">\n",
       "      <th></th>\n",
       "      <th>Lokasi</th>\n",
       "      <th>Rasio HLB</th>\n",
       "      <th>Lokal Deals</th>\n",
       "    </tr>\n",
       "  </thead>\n",
       "  <tbody>\n",
       "    <tr>\n",
       "      <th>0</th>\n",
       "      <td>Pondok Aren</td>\n",
       "      <td>33.333333</td>\n",
       "      <td>Very Expensive</td>\n",
       "    </tr>\n",
       "    <tr>\n",
       "      <th>1</th>\n",
       "      <td>Pondok Aren</td>\n",
       "      <td>24.000000</td>\n",
       "      <td>Very Expensive</td>\n",
       "    </tr>\n",
       "    <tr>\n",
       "      <th>2</th>\n",
       "      <td>Ciputat</td>\n",
       "      <td>16.650000</td>\n",
       "      <td>Expensive</td>\n",
       "    </tr>\n",
       "  </tbody>\n",
       "</table>\n",
       "</div>"
      ],
      "text/plain": [
       "        Lokasi  Rasio HLB     Lokal Deals\n",
       "0  Pondok Aren  33.333333  Very Expensive\n",
       "1  Pondok Aren  24.000000  Very Expensive\n",
       "2      Ciputat  16.650000       Expensive"
      ]
     },
     "execution_count": 50,
     "metadata": {},
     "output_type": "execute_result"
    }
   ],
   "source": [
    "dfla = []\n",
    "for a,b in zip(df['Lokasi'],df['Rasio HLB']):\n",
    "    dfla.append(bargain_local(a,b))\n",
    "\n",
    "df['Lokal Deals'] = dfla\n",
    "df[['Lokasi', 'Rasio HLB', 'Lokal Deals']].head(3)"
   ]
  },
  {
   "cell_type": "markdown",
   "metadata": {},
   "source": [
    "#### Manage Data Based on Deals and Local Deals"
   ]
  },
  {
   "cell_type": "markdown",
   "metadata": {},
   "source": [
    "Sorting Based on Price Per Square Meter Building"
   ]
  },
  {
   "cell_type": "code",
   "execution_count": 51,
   "metadata": {
    "scrolled": false
   },
   "outputs": [
    {
     "data": {
      "text/html": [
       "<div>\n",
       "<style scoped>\n",
       "    .dataframe tbody tr th:only-of-type {\n",
       "        vertical-align: middle;\n",
       "    }\n",
       "\n",
       "    .dataframe tbody tr th {\n",
       "        vertical-align: top;\n",
       "    }\n",
       "\n",
       "    .dataframe thead th {\n",
       "        text-align: right;\n",
       "    }\n",
       "</style>\n",
       "<table border=\"1\" class=\"dataframe\">\n",
       "  <thead>\n",
       "    <tr style=\"text-align: right;\">\n",
       "      <th></th>\n",
       "      <th>ID</th>\n",
       "      <th>Harga</th>\n",
       "      <th>Luas Bangunan</th>\n",
       "      <th>Lokasi</th>\n",
       "      <th>Harga Per Meter Bangunan</th>\n",
       "      <th>Deals</th>\n",
       "      <th>Lokal Deals</th>\n",
       "    </tr>\n",
       "  </thead>\n",
       "  <tbody>\n",
       "    <tr>\n",
       "      <th>0</th>\n",
       "      <td>813200116</td>\n",
       "      <td>465</td>\n",
       "      <td>150</td>\n",
       "      <td>Ciputat</td>\n",
       "      <td>3.1000</td>\n",
       "      <td>Suspicious</td>\n",
       "      <td>Suspicious</td>\n",
       "    </tr>\n",
       "    <tr>\n",
       "      <th>1</th>\n",
       "      <td>813171645</td>\n",
       "      <td>531</td>\n",
       "      <td>150</td>\n",
       "      <td>Serpong</td>\n",
       "      <td>3.5400</td>\n",
       "      <td>Suspicious</td>\n",
       "      <td>Suspicious</td>\n",
       "    </tr>\n",
       "    <tr>\n",
       "      <th>2</th>\n",
       "      <td>813356834</td>\n",
       "      <td>1050</td>\n",
       "      <td>240</td>\n",
       "      <td>Pondok Aren</td>\n",
       "      <td>4.3750</td>\n",
       "      <td>Suspicious</td>\n",
       "      <td>Suspicious</td>\n",
       "    </tr>\n",
       "    <tr>\n",
       "      <th>3</th>\n",
       "      <td>801477890</td>\n",
       "      <td>1500</td>\n",
       "      <td>320</td>\n",
       "      <td>Pondok Aren</td>\n",
       "      <td>4.6875</td>\n",
       "      <td>Suspicious</td>\n",
       "      <td>Suspicious</td>\n",
       "    </tr>\n",
       "    <tr>\n",
       "      <th>4</th>\n",
       "      <td>813078646</td>\n",
       "      <td>975</td>\n",
       "      <td>200</td>\n",
       "      <td>Pondok Aren</td>\n",
       "      <td>4.8750</td>\n",
       "      <td>Suspicious</td>\n",
       "      <td>Suspicious</td>\n",
       "    </tr>\n",
       "  </tbody>\n",
       "</table>\n",
       "</div>"
      ],
      "text/plain": [
       "          ID  Harga  Luas Bangunan       Lokasi  Harga Per Meter Bangunan  \\\n",
       "0  813200116    465            150      Ciputat                    3.1000   \n",
       "1  813171645    531            150      Serpong                    3.5400   \n",
       "2  813356834   1050            240  Pondok Aren                    4.3750   \n",
       "3  801477890   1500            320  Pondok Aren                    4.6875   \n",
       "4  813078646    975            200  Pondok Aren                    4.8750   \n",
       "\n",
       "        Deals Lokal Deals  \n",
       "0  Suspicious  Suspicious  \n",
       "1  Suspicious  Suspicious  \n",
       "2  Suspicious  Suspicious  \n",
       "3  Suspicious  Suspicious  \n",
       "4  Suspicious  Suspicious  "
      ]
     },
     "execution_count": 51,
     "metadata": {},
     "output_type": "execute_result"
    }
   ],
   "source": [
    "df_withdeals = df.sort_values(by=['Rasio HLB'], ignore_index=True)[['ID', 'Harga', 'Luas Bangunan', 'Lokasi', 'Rasio HLB', \n",
    "                                                                    'Deals', 'Lokal Deals' ]].rename(columns={'Rasio HLB':'Harga Per Meter Bangunan'})\n",
    "\n",
    "df_withdeals.head(5)"
   ]
  },
  {
   "cell_type": "markdown",
   "metadata": {},
   "source": [
    "Distribution of Global Deals Category Per District"
   ]
  },
  {
   "cell_type": "code",
   "execution_count": 52,
   "metadata": {},
   "outputs": [
    {
     "data": {
      "text/html": [
       "<div>\n",
       "<style scoped>\n",
       "    .dataframe tbody tr th:only-of-type {\n",
       "        vertical-align: middle;\n",
       "    }\n",
       "\n",
       "    .dataframe tbody tr th {\n",
       "        vertical-align: top;\n",
       "    }\n",
       "\n",
       "    .dataframe thead th {\n",
       "        text-align: right;\n",
       "    }\n",
       "</style>\n",
       "<table border=\"1\" class=\"dataframe\">\n",
       "  <thead>\n",
       "    <tr style=\"text-align: right;\">\n",
       "      <th>Deals</th>\n",
       "      <th>Suspicious</th>\n",
       "      <th>Bargain</th>\n",
       "      <th>Normal</th>\n",
       "      <th>Expensive</th>\n",
       "      <th>Very Expensive</th>\n",
       "    </tr>\n",
       "    <tr>\n",
       "      <th>Lokasi</th>\n",
       "      <th></th>\n",
       "      <th></th>\n",
       "      <th></th>\n",
       "      <th></th>\n",
       "      <th></th>\n",
       "    </tr>\n",
       "  </thead>\n",
       "  <tbody>\n",
       "    <tr>\n",
       "      <th>Ciledug</th>\n",
       "      <td>10</td>\n",
       "      <td>6</td>\n",
       "      <td>2</td>\n",
       "      <td>5</td>\n",
       "      <td>3</td>\n",
       "    </tr>\n",
       "    <tr>\n",
       "      <th>Ciputat</th>\n",
       "      <td>22</td>\n",
       "      <td>20</td>\n",
       "      <td>8</td>\n",
       "      <td>5</td>\n",
       "      <td>4</td>\n",
       "    </tr>\n",
       "    <tr>\n",
       "      <th>Pondok Aren</th>\n",
       "      <td>31</td>\n",
       "      <td>75</td>\n",
       "      <td>67</td>\n",
       "      <td>70</td>\n",
       "      <td>59</td>\n",
       "    </tr>\n",
       "    <tr>\n",
       "      <th>Serpong</th>\n",
       "      <td>22</td>\n",
       "      <td>51</td>\n",
       "      <td>23</td>\n",
       "      <td>33</td>\n",
       "      <td>18</td>\n",
       "    </tr>\n",
       "    <tr>\n",
       "      <th>Serpong Utara</th>\n",
       "      <td>14</td>\n",
       "      <td>10</td>\n",
       "      <td>11</td>\n",
       "      <td>12</td>\n",
       "      <td>9</td>\n",
       "    </tr>\n",
       "  </tbody>\n",
       "</table>\n",
       "</div>"
      ],
      "text/plain": [
       "Deals          Suspicious  Bargain  Normal  Expensive  Very Expensive\n",
       "Lokasi                                                               \n",
       "Ciledug                10        6       2          5               3\n",
       "Ciputat                22       20       8          5               4\n",
       "Pondok Aren            31       75      67         70              59\n",
       "Serpong                22       51      23         33              18\n",
       "Serpong Utara          14       10      11         12               9"
      ]
     },
     "execution_count": 52,
     "metadata": {},
     "output_type": "execute_result"
    }
   ],
   "source": [
    "dfvc = df_withdeals[['Lokasi', 'Deals']].value_counts(sort=False)\n",
    "dfvc = dfvc.unstack()\n",
    "cols = ['Suspicious', 'Bargain', 'Normal', 'Expensive', 'Very Expensive']\n",
    "\n",
    "dfvc = dfvc[cols]\n",
    "dfvc"
   ]
  },
  {
   "cell_type": "code",
   "execution_count": 53,
   "metadata": {
    "scrolled": false
   },
   "outputs": [
    {
     "data": {
      "text/plain": [
       "(array([0, 1, 2, 3, 4]),\n",
       " [Text(0, 0, 'Ciledug'),\n",
       "  Text(1, 0, 'Ciputat'),\n",
       "  Text(2, 0, 'Pondok Aren'),\n",
       "  Text(3, 0, 'Serpong'),\n",
       "  Text(4, 0, 'Serpong Utara')])"
      ]
     },
     "execution_count": 53,
     "metadata": {},
     "output_type": "execute_result"
    },
    {
     "data": {
      "image/png": "[encoded data removed]",
      "text/plain": [
       "<Figure size 864x504 with 1 Axes>"
      ]
     },
     "metadata": {
      "needs_background": "light"
     },
     "output_type": "display_data"
    }
   ],
   "source": [
    "dfvc.plot(kind='bar', figsize=[12,7])\n",
    "plt.title('Jumlah Jenis Deals Berdasarkan Kelurahan', {'fontsize': 15, 'fontweight':'bold'}, pad=10, color='#515151')\n",
    "plt.ylabel('Jumlah', {'fontsize': 12}, labelpad=10, color='#515151')\n",
    "plt.xlabel('Kelurahan', {'fontsize': 12}, labelpad=10, color='#515151')\n",
    "plt.xticks(rotation=0)\n",
    "# plt.savefig('global_deals.png', dpi=600, facecolor='white', bbox_inches='tight')"
   ]
  },
  {
   "cell_type": "markdown",
   "metadata": {},
   "source": [
    "Distribution of Local Deals Category Per District"
   ]
  },
  {
   "cell_type": "code",
   "execution_count": 54,
   "metadata": {},
   "outputs": [
    {
     "data": {
      "text/html": [
       "<div>\n",
       "<style scoped>\n",
       "    .dataframe tbody tr th:only-of-type {\n",
       "        vertical-align: middle;\n",
       "    }\n",
       "\n",
       "    .dataframe tbody tr th {\n",
       "        vertical-align: top;\n",
       "    }\n",
       "\n",
       "    .dataframe thead th {\n",
       "        text-align: right;\n",
       "    }\n",
       "</style>\n",
       "<table border=\"1\" class=\"dataframe\">\n",
       "  <thead>\n",
       "    <tr style=\"text-align: right;\">\n",
       "      <th>Lokal Deals</th>\n",
       "      <th>Suspicious</th>\n",
       "      <th>Bargain</th>\n",
       "      <th>Normal</th>\n",
       "      <th>Expensive</th>\n",
       "      <th>Very Expensive</th>\n",
       "    </tr>\n",
       "    <tr>\n",
       "      <th>Lokasi</th>\n",
       "      <th></th>\n",
       "      <th></th>\n",
       "      <th></th>\n",
       "      <th></th>\n",
       "      <th></th>\n",
       "    </tr>\n",
       "  </thead>\n",
       "  <tbody>\n",
       "    <tr>\n",
       "      <th>Ciledug</th>\n",
       "      <td>5</td>\n",
       "      <td>7</td>\n",
       "      <td>4</td>\n",
       "      <td>6</td>\n",
       "      <td>4</td>\n",
       "    </tr>\n",
       "    <tr>\n",
       "      <th>Ciputat</th>\n",
       "      <td>13</td>\n",
       "      <td>14</td>\n",
       "      <td>10</td>\n",
       "      <td>14</td>\n",
       "      <td>8</td>\n",
       "    </tr>\n",
       "    <tr>\n",
       "      <th>Pondok Aren</th>\n",
       "      <td>38</td>\n",
       "      <td>99</td>\n",
       "      <td>61</td>\n",
       "      <td>51</td>\n",
       "      <td>53</td>\n",
       "    </tr>\n",
       "    <tr>\n",
       "      <th>Serpong</th>\n",
       "      <td>23</td>\n",
       "      <td>43</td>\n",
       "      <td>21</td>\n",
       "      <td>35</td>\n",
       "      <td>25</td>\n",
       "    </tr>\n",
       "    <tr>\n",
       "      <th>Serpong Utara</th>\n",
       "      <td>13</td>\n",
       "      <td>11</td>\n",
       "      <td>11</td>\n",
       "      <td>12</td>\n",
       "      <td>9</td>\n",
       "    </tr>\n",
       "  </tbody>\n",
       "</table>\n",
       "</div>"
      ],
      "text/plain": [
       "Lokal Deals    Suspicious  Bargain  Normal  Expensive  Very Expensive\n",
       "Lokasi                                                               \n",
       "Ciledug                 5        7       4          6               4\n",
       "Ciputat                13       14      10         14               8\n",
       "Pondok Aren            38       99      61         51              53\n",
       "Serpong                23       43      21         35              25\n",
       "Serpong Utara          13       11      11         12               9"
      ]
     },
     "execution_count": 54,
     "metadata": {},
     "output_type": "execute_result"
    }
   ],
   "source": [
    "dfvc_local = df_withdeals[['Lokasi', 'Lokal Deals']].value_counts(sort=False)\n",
    "dfvc_local = dfvc_local.unstack()\n",
    "dfvc_local = dfvc_local[cols]\n",
    "dfvc_local"
   ]
  },
  {
   "cell_type": "code",
   "execution_count": 55,
   "metadata": {
    "scrolled": false
   },
   "outputs": [
    {
     "data": {
      "text/plain": [
       "(array([0, 1, 2, 3, 4]),\n",
       " [Text(0, 0, 'Ciledug'),\n",
       "  Text(1, 0, 'Ciputat'),\n",
       "  Text(2, 0, 'Pondok Aren'),\n",
       "  Text(3, 0, 'Serpong'),\n",
       "  Text(4, 0, 'Serpong Utara')])"
      ]
     },
     "execution_count": 55,
     "metadata": {},
     "output_type": "execute_result"
    },
    {
     "data": {
      "image/png": "[encoded data removed]",
      "text/plain": [
       "<Figure size 864x504 with 1 Axes>"
      ]
     },
     "metadata": {
      "needs_background": "light"
     },
     "output_type": "display_data"
    }
   ],
   "source": [
    "dfvc_local.plot(kind='bar', figsize=[12,7])\n",
    "plt.title('Jumlah Jenis Lokal Deals Berdasarkan Kelurahan', {'fontsize': 15, 'fontweight':'bold'}, pad=10, color='#515151')\n",
    "plt.ylabel('Jumlah', {'fontsize': 12}, labelpad=10, color='#515151')\n",
    "plt.xlabel('Kelurahan', {'fontsize': 12}, labelpad=10, color='#515151')\n",
    "plt.xticks(rotation=0)\n",
    "# plt.savefig('local_deals.png', dpi=600, facecolor='white', bbox_inches='tight')"
   ]
  },
  {
   "cell_type": "markdown",
   "metadata": {},
   "source": [
    "Get Rid of Suspicious Deals on Local and Global Deals"
   ]
  },
  {
   "cell_type": "code",
   "execution_count": 56,
   "metadata": {
    "scrolled": true
   },
   "outputs": [
    {
     "name": "stderr",
     "output_type": "stream",
     "text": [
      "C:\\Users\\admin\\Anaconda3\\lib\\site-packages\\ipykernel_launcher.py:2: UserWarning: Boolean Series key will be reindexed to match DataFrame index.\n",
      "  \n"
     ]
    },
    {
     "data": {
      "text/html": [
       "<div>\n",
       "<style scoped>\n",
       "    .dataframe tbody tr th:only-of-type {\n",
       "        vertical-align: middle;\n",
       "    }\n",
       "\n",
       "    .dataframe tbody tr th {\n",
       "        vertical-align: top;\n",
       "    }\n",
       "\n",
       "    .dataframe thead th {\n",
       "        text-align: right;\n",
       "    }\n",
       "</style>\n",
       "<table border=\"1\" class=\"dataframe\">\n",
       "  <thead>\n",
       "    <tr style=\"text-align: right;\">\n",
       "      <th></th>\n",
       "      <th>ID</th>\n",
       "      <th>Harga</th>\n",
       "      <th>Luas Bangunan</th>\n",
       "      <th>Lokasi</th>\n",
       "      <th>Harga Per Meter Bangunan</th>\n",
       "      <th>Deals</th>\n",
       "      <th>Lokal Deals</th>\n",
       "    </tr>\n",
       "  </thead>\n",
       "  <tbody>\n",
       "    <tr>\n",
       "      <th>0</th>\n",
       "      <td>801258125</td>\n",
       "      <td>3230</td>\n",
       "      <td>300</td>\n",
       "      <td>Ciputat</td>\n",
       "      <td>10.766667</td>\n",
       "      <td>Bargain</td>\n",
       "      <td>Bargain</td>\n",
       "    </tr>\n",
       "    <tr>\n",
       "      <th>1</th>\n",
       "      <td>813328244</td>\n",
       "      <td>2800</td>\n",
       "      <td>260</td>\n",
       "      <td>Serpong Utara</td>\n",
       "      <td>10.769231</td>\n",
       "      <td>Bargain</td>\n",
       "      <td>Bargain</td>\n",
       "    </tr>\n",
       "    <tr>\n",
       "      <th>2</th>\n",
       "      <td>813123597</td>\n",
       "      <td>3500</td>\n",
       "      <td>320</td>\n",
       "      <td>Serpong</td>\n",
       "      <td>10.937500</td>\n",
       "      <td>Bargain</td>\n",
       "      <td>Bargain</td>\n",
       "    </tr>\n",
       "    <tr>\n",
       "      <th>3</th>\n",
       "      <td>812854603</td>\n",
       "      <td>1100</td>\n",
       "      <td>100</td>\n",
       "      <td>Serpong</td>\n",
       "      <td>11.000000</td>\n",
       "      <td>Bargain</td>\n",
       "      <td>Bargain</td>\n",
       "    </tr>\n",
       "    <tr>\n",
       "      <th>4</th>\n",
       "      <td>813454395</td>\n",
       "      <td>2750</td>\n",
       "      <td>250</td>\n",
       "      <td>Serpong</td>\n",
       "      <td>11.000000</td>\n",
       "      <td>Bargain</td>\n",
       "      <td>Bargain</td>\n",
       "    </tr>\n",
       "  </tbody>\n",
       "</table>\n",
       "</div>"
      ],
      "text/plain": [
       "          ID  Harga  Luas Bangunan         Lokasi  Harga Per Meter Bangunan  \\\n",
       "0  801258125   3230            300        Ciputat                 10.766667   \n",
       "1  813328244   2800            260  Serpong Utara                 10.769231   \n",
       "2  813123597   3500            320        Serpong                 10.937500   \n",
       "3  812854603   1100            100        Serpong                 11.000000   \n",
       "4  813454395   2750            250        Serpong                 11.000000   \n",
       "\n",
       "     Deals Lokal Deals  \n",
       "0  Bargain     Bargain  \n",
       "1  Bargain     Bargain  \n",
       "2  Bargain     Bargain  \n",
       "3  Bargain     Bargain  \n",
       "4  Bargain     Bargain  "
      ]
     },
     "execution_count": 56,
     "metadata": {},
     "output_type": "execute_result"
    }
   ],
   "source": [
    "df_withdeals_nosus = df_withdeals[df_withdeals['Deals'] != 'Suspicious']\n",
    "df_withdeals_nosus = df_withdeals_nosus[df_withdeals['Lokal Deals'] != 'Suspicious']\n",
    "df_withdeals_nosus = df_withdeals_nosus.reset_index(drop=True)\n",
    "\n",
    "df_withdeals_nosus.sort_values(by=['Deals', 'Lokal Deals']).head(5)"
   ]
  },
  {
   "cell_type": "markdown",
   "metadata": {},
   "source": [
    "Filter to Only 'Bargain' Deals both on Global and Local Deals"
   ]
  },
  {
   "cell_type": "code",
   "execution_count": 57,
   "metadata": {
    "scrolled": true
   },
   "outputs": [
    {
     "data": {
      "text/html": [
       "<div>\n",
       "<style scoped>\n",
       "    .dataframe tbody tr th:only-of-type {\n",
       "        vertical-align: middle;\n",
       "    }\n",
       "\n",
       "    .dataframe tbody tr th {\n",
       "        vertical-align: top;\n",
       "    }\n",
       "\n",
       "    .dataframe thead th {\n",
       "        text-align: right;\n",
       "    }\n",
       "</style>\n",
       "<table border=\"1\" class=\"dataframe\">\n",
       "  <thead>\n",
       "    <tr style=\"text-align: right;\">\n",
       "      <th></th>\n",
       "      <th>Harga</th>\n",
       "      <th>Luas Bangunan</th>\n",
       "      <th>Harga Per Meter Bangunan</th>\n",
       "    </tr>\n",
       "  </thead>\n",
       "  <tbody>\n",
       "    <tr>\n",
       "      <th>count</th>\n",
       "      <td>128.000000</td>\n",
       "      <td>128.000000</td>\n",
       "      <td>128.000000</td>\n",
       "    </tr>\n",
       "    <tr>\n",
       "      <th>mean</th>\n",
       "      <td>2843.507812</td>\n",
       "      <td>222.234375</td>\n",
       "      <td>12.806507</td>\n",
       "    </tr>\n",
       "    <tr>\n",
       "      <th>std</th>\n",
       "      <td>1318.638065</td>\n",
       "      <td>102.133654</td>\n",
       "      <td>0.987510</td>\n",
       "    </tr>\n",
       "    <tr>\n",
       "      <th>min</th>\n",
       "      <td>800.000000</td>\n",
       "      <td>70.000000</td>\n",
       "      <td>10.766667</td>\n",
       "    </tr>\n",
       "    <tr>\n",
       "      <th>25%</th>\n",
       "      <td>1850.000000</td>\n",
       "      <td>147.500000</td>\n",
       "      <td>11.951220</td>\n",
       "    </tr>\n",
       "    <tr>\n",
       "      <th>50%</th>\n",
       "      <td>2609.500000</td>\n",
       "      <td>200.000000</td>\n",
       "      <td>12.909962</td>\n",
       "    </tr>\n",
       "    <tr>\n",
       "      <th>75%</th>\n",
       "      <td>3500.000000</td>\n",
       "      <td>300.000000</td>\n",
       "      <td>13.675926</td>\n",
       "    </tr>\n",
       "    <tr>\n",
       "      <th>max</th>\n",
       "      <td>7800.000000</td>\n",
       "      <td>600.000000</td>\n",
       "      <td>14.750000</td>\n",
       "    </tr>\n",
       "  </tbody>\n",
       "</table>\n",
       "</div>"
      ],
      "text/plain": [
       "             Harga  Luas Bangunan  Harga Per Meter Bangunan\n",
       "count   128.000000     128.000000                128.000000\n",
       "mean   2843.507812     222.234375                 12.806507\n",
       "std    1318.638065     102.133654                  0.987510\n",
       "min     800.000000      70.000000                 10.766667\n",
       "25%    1850.000000     147.500000                 11.951220\n",
       "50%    2609.500000     200.000000                 12.909962\n",
       "75%    3500.000000     300.000000                 13.675926\n",
       "max    7800.000000     600.000000                 14.750000"
      ]
     },
     "execution_count": 57,
     "metadata": {},
     "output_type": "execute_result"
    }
   ],
   "source": [
    "double_bargain = df_withdeals_nosus[df_withdeals_nosus['Deals'] == 'Bargain' ]\n",
    "double_bargain = double_bargain[double_bargain['Lokal Deals'] == 'Bargain']\n",
    "double_bargain.iloc[:, 1:].describe()"
   ]
  },
  {
   "cell_type": "markdown",
   "metadata": {},
   "source": [
    "Limit the Price Up to 1.8 Billion as Final Result "
   ]
  },
  {
   "cell_type": "code",
   "execution_count": 58,
   "metadata": {},
   "outputs": [
    {
     "data": {
      "text/html": [
       "<div>\n",
       "<style scoped>\n",
       "    .dataframe tbody tr th:only-of-type {\n",
       "        vertical-align: middle;\n",
       "    }\n",
       "\n",
       "    .dataframe tbody tr th {\n",
       "        vertical-align: top;\n",
       "    }\n",
       "\n",
       "    .dataframe thead th {\n",
       "        text-align: right;\n",
       "    }\n",
       "</style>\n",
       "<table border=\"1\" class=\"dataframe\">\n",
       "  <thead>\n",
       "    <tr style=\"text-align: right;\">\n",
       "      <th></th>\n",
       "      <th>ID</th>\n",
       "      <th>Harga</th>\n",
       "      <th>Luas Bangunan</th>\n",
       "      <th>Lokasi</th>\n",
       "      <th>Harga Per Meter Bangunan</th>\n",
       "      <th>Deals</th>\n",
       "      <th>Lokal Deals</th>\n",
       "    </tr>\n",
       "  </thead>\n",
       "  <tbody>\n",
       "    <tr>\n",
       "      <th>0</th>\n",
       "      <td>812854603</td>\n",
       "      <td>1100</td>\n",
       "      <td>100</td>\n",
       "      <td>Serpong</td>\n",
       "      <td>11.000000</td>\n",
       "      <td>Bargain</td>\n",
       "      <td>Bargain</td>\n",
       "    </tr>\n",
       "    <tr>\n",
       "      <th>1</th>\n",
       "      <td>812940360</td>\n",
       "      <td>1100</td>\n",
       "      <td>100</td>\n",
       "      <td>Ciputat</td>\n",
       "      <td>11.000000</td>\n",
       "      <td>Bargain</td>\n",
       "      <td>Bargain</td>\n",
       "    </tr>\n",
       "    <tr>\n",
       "      <th>2</th>\n",
       "      <td>762259621</td>\n",
       "      <td>1675</td>\n",
       "      <td>150</td>\n",
       "      <td>Ciledug</td>\n",
       "      <td>11.166667</td>\n",
       "      <td>Bargain</td>\n",
       "      <td>Bargain</td>\n",
       "    </tr>\n",
       "    <tr>\n",
       "      <th>3</th>\n",
       "      <td>802787207</td>\n",
       "      <td>1350</td>\n",
       "      <td>120</td>\n",
       "      <td>Ciputat</td>\n",
       "      <td>11.250000</td>\n",
       "      <td>Bargain</td>\n",
       "      <td>Bargain</td>\n",
       "    </tr>\n",
       "    <tr>\n",
       "      <th>4</th>\n",
       "      <td>800719334</td>\n",
       "      <td>800</td>\n",
       "      <td>70</td>\n",
       "      <td>Serpong</td>\n",
       "      <td>11.428571</td>\n",
       "      <td>Bargain</td>\n",
       "      <td>Bargain</td>\n",
       "    </tr>\n",
       "    <tr>\n",
       "      <th>5</th>\n",
       "      <td>813060812</td>\n",
       "      <td>1400</td>\n",
       "      <td>120</td>\n",
       "      <td>Ciputat</td>\n",
       "      <td>11.666667</td>\n",
       "      <td>Bargain</td>\n",
       "      <td>Bargain</td>\n",
       "    </tr>\n",
       "    <tr>\n",
       "      <th>6</th>\n",
       "      <td>800199499</td>\n",
       "      <td>1650</td>\n",
       "      <td>140</td>\n",
       "      <td>Serpong</td>\n",
       "      <td>11.785714</td>\n",
       "      <td>Bargain</td>\n",
       "      <td>Bargain</td>\n",
       "    </tr>\n",
       "    <tr>\n",
       "      <th>7</th>\n",
       "      <td>813470214</td>\n",
       "      <td>1185</td>\n",
       "      <td>100</td>\n",
       "      <td>Serpong</td>\n",
       "      <td>11.850000</td>\n",
       "      <td>Bargain</td>\n",
       "      <td>Bargain</td>\n",
       "    </tr>\n",
       "    <tr>\n",
       "      <th>8</th>\n",
       "      <td>813203903</td>\n",
       "      <td>1350</td>\n",
       "      <td>113</td>\n",
       "      <td>Pondok Aren</td>\n",
       "      <td>11.946903</td>\n",
       "      <td>Bargain</td>\n",
       "      <td>Bargain</td>\n",
       "    </tr>\n",
       "    <tr>\n",
       "      <th>9</th>\n",
       "      <td>812829094</td>\n",
       "      <td>1800</td>\n",
       "      <td>150</td>\n",
       "      <td>Pondok Aren</td>\n",
       "      <td>12.000000</td>\n",
       "      <td>Bargain</td>\n",
       "      <td>Bargain</td>\n",
       "    </tr>\n",
       "    <tr>\n",
       "      <th>10</th>\n",
       "      <td>812922039</td>\n",
       "      <td>1200</td>\n",
       "      <td>100</td>\n",
       "      <td>Serpong Utara</td>\n",
       "      <td>12.000000</td>\n",
       "      <td>Bargain</td>\n",
       "      <td>Bargain</td>\n",
       "    </tr>\n",
       "    <tr>\n",
       "      <th>11</th>\n",
       "      <td>813013493</td>\n",
       "      <td>1800</td>\n",
       "      <td>150</td>\n",
       "      <td>Pondok Aren</td>\n",
       "      <td>12.000000</td>\n",
       "      <td>Bargain</td>\n",
       "      <td>Bargain</td>\n",
       "    </tr>\n",
       "    <tr>\n",
       "      <th>12</th>\n",
       "      <td>813013184</td>\n",
       "      <td>1400</td>\n",
       "      <td>116</td>\n",
       "      <td>Serpong Utara</td>\n",
       "      <td>12.068966</td>\n",
       "      <td>Bargain</td>\n",
       "      <td>Bargain</td>\n",
       "    </tr>\n",
       "    <tr>\n",
       "      <th>13</th>\n",
       "      <td>813458053</td>\n",
       "      <td>1100</td>\n",
       "      <td>90</td>\n",
       "      <td>Pondok Aren</td>\n",
       "      <td>12.222222</td>\n",
       "      <td>Bargain</td>\n",
       "      <td>Bargain</td>\n",
       "    </tr>\n",
       "    <tr>\n",
       "      <th>14</th>\n",
       "      <td>774004793</td>\n",
       "      <td>1500</td>\n",
       "      <td>120</td>\n",
       "      <td>Pondok Aren</td>\n",
       "      <td>12.500000</td>\n",
       "      <td>Bargain</td>\n",
       "      <td>Bargain</td>\n",
       "    </tr>\n",
       "    <tr>\n",
       "      <th>15</th>\n",
       "      <td>800740807</td>\n",
       "      <td>1750</td>\n",
       "      <td>140</td>\n",
       "      <td>Serpong</td>\n",
       "      <td>12.500000</td>\n",
       "      <td>Bargain</td>\n",
       "      <td>Bargain</td>\n",
       "    </tr>\n",
       "    <tr>\n",
       "      <th>16</th>\n",
       "      <td>813324293</td>\n",
       "      <td>1700</td>\n",
       "      <td>132</td>\n",
       "      <td>Serpong</td>\n",
       "      <td>12.878788</td>\n",
       "      <td>Bargain</td>\n",
       "      <td>Bargain</td>\n",
       "    </tr>\n",
       "    <tr>\n",
       "      <th>17</th>\n",
       "      <td>801481328</td>\n",
       "      <td>1500</td>\n",
       "      <td>116</td>\n",
       "      <td>Serpong Utara</td>\n",
       "      <td>12.931034</td>\n",
       "      <td>Bargain</td>\n",
       "      <td>Bargain</td>\n",
       "    </tr>\n",
       "    <tr>\n",
       "      <th>18</th>\n",
       "      <td>813445878</td>\n",
       "      <td>1300</td>\n",
       "      <td>100</td>\n",
       "      <td>Serpong Utara</td>\n",
       "      <td>13.000000</td>\n",
       "      <td>Bargain</td>\n",
       "      <td>Bargain</td>\n",
       "    </tr>\n",
       "    <tr>\n",
       "      <th>19</th>\n",
       "      <td>813445554</td>\n",
       "      <td>1300</td>\n",
       "      <td>100</td>\n",
       "      <td>Serpong Utara</td>\n",
       "      <td>13.000000</td>\n",
       "      <td>Bargain</td>\n",
       "      <td>Bargain</td>\n",
       "    </tr>\n",
       "    <tr>\n",
       "      <th>20</th>\n",
       "      <td>813444953</td>\n",
       "      <td>1175</td>\n",
       "      <td>90</td>\n",
       "      <td>Serpong Utara</td>\n",
       "      <td>13.055556</td>\n",
       "      <td>Bargain</td>\n",
       "      <td>Bargain</td>\n",
       "    </tr>\n",
       "    <tr>\n",
       "      <th>21</th>\n",
       "      <td>813397050</td>\n",
       "      <td>1750</td>\n",
       "      <td>133</td>\n",
       "      <td>Serpong</td>\n",
       "      <td>13.157895</td>\n",
       "      <td>Bargain</td>\n",
       "      <td>Bargain</td>\n",
       "    </tr>\n",
       "    <tr>\n",
       "      <th>22</th>\n",
       "      <td>799795525</td>\n",
       "      <td>1000</td>\n",
       "      <td>76</td>\n",
       "      <td>Pondok Aren</td>\n",
       "      <td>13.157895</td>\n",
       "      <td>Bargain</td>\n",
       "      <td>Bargain</td>\n",
       "    </tr>\n",
       "    <tr>\n",
       "      <th>23</th>\n",
       "      <td>813444895</td>\n",
       "      <td>1750</td>\n",
       "      <td>133</td>\n",
       "      <td>Serpong</td>\n",
       "      <td>13.157895</td>\n",
       "      <td>Bargain</td>\n",
       "      <td>Bargain</td>\n",
       "    </tr>\n",
       "    <tr>\n",
       "      <th>24</th>\n",
       "      <td>813077650</td>\n",
       "      <td>950</td>\n",
       "      <td>72</td>\n",
       "      <td>Serpong</td>\n",
       "      <td>13.194444</td>\n",
       "      <td>Bargain</td>\n",
       "      <td>Bargain</td>\n",
       "    </tr>\n",
       "    <tr>\n",
       "      <th>25</th>\n",
       "      <td>807807302</td>\n",
       "      <td>1600</td>\n",
       "      <td>120</td>\n",
       "      <td>Serpong</td>\n",
       "      <td>13.333333</td>\n",
       "      <td>Bargain</td>\n",
       "      <td>Bargain</td>\n",
       "    </tr>\n",
       "    <tr>\n",
       "      <th>26</th>\n",
       "      <td>813060958</td>\n",
       "      <td>1750</td>\n",
       "      <td>130</td>\n",
       "      <td>Serpong</td>\n",
       "      <td>13.461538</td>\n",
       "      <td>Bargain</td>\n",
       "      <td>Bargain</td>\n",
       "    </tr>\n",
       "    <tr>\n",
       "      <th>27</th>\n",
       "      <td>812833563</td>\n",
       "      <td>1700</td>\n",
       "      <td>126</td>\n",
       "      <td>Pondok Aren</td>\n",
       "      <td>13.492063</td>\n",
       "      <td>Bargain</td>\n",
       "      <td>Bargain</td>\n",
       "    </tr>\n",
       "    <tr>\n",
       "      <th>28</th>\n",
       "      <td>813104810</td>\n",
       "      <td>1500</td>\n",
       "      <td>110</td>\n",
       "      <td>Serpong</td>\n",
       "      <td>13.636364</td>\n",
       "      <td>Bargain</td>\n",
       "      <td>Bargain</td>\n",
       "    </tr>\n",
       "    <tr>\n",
       "      <th>29</th>\n",
       "      <td>528812748</td>\n",
       "      <td>1800</td>\n",
       "      <td>131</td>\n",
       "      <td>Serpong</td>\n",
       "      <td>13.740458</td>\n",
       "      <td>Bargain</td>\n",
       "      <td>Bargain</td>\n",
       "    </tr>\n",
       "    <tr>\n",
       "      <th>30</th>\n",
       "      <td>801536599</td>\n",
       "      <td>1800</td>\n",
       "      <td>130</td>\n",
       "      <td>Pondok Aren</td>\n",
       "      <td>13.846154</td>\n",
       "      <td>Bargain</td>\n",
       "      <td>Bargain</td>\n",
       "    </tr>\n",
       "  </tbody>\n",
       "</table>\n",
       "</div>"
      ],
      "text/plain": [
       "           ID  Harga  Luas Bangunan         Lokasi  Harga Per Meter Bangunan  \\\n",
       "0   812854603   1100            100        Serpong                 11.000000   \n",
       "1   812940360   1100            100        Ciputat                 11.000000   \n",
       "2   762259621   1675            150        Ciledug                 11.166667   \n",
       "3   802787207   1350            120        Ciputat                 11.250000   \n",
       "4   800719334    800             70        Serpong                 11.428571   \n",
       "5   813060812   1400            120        Ciputat                 11.666667   \n",
       "6   800199499   1650            140        Serpong                 11.785714   \n",
       "7   813470214   1185            100        Serpong                 11.850000   \n",
       "8   813203903   1350            113    Pondok Aren                 11.946903   \n",
       "9   812829094   1800            150    Pondok Aren                 12.000000   \n",
       "10  812922039   1200            100  Serpong Utara                 12.000000   \n",
       "11  813013493   1800            150    Pondok Aren                 12.000000   \n",
       "12  813013184   1400            116  Serpong Utara                 12.068966   \n",
       "13  813458053   1100             90    Pondok Aren                 12.222222   \n",
       "14  774004793   1500            120    Pondok Aren                 12.500000   \n",
       "15  800740807   1750            140        Serpong                 12.500000   \n",
       "16  813324293   1700            132        Serpong                 12.878788   \n",
       "17  801481328   1500            116  Serpong Utara                 12.931034   \n",
       "18  813445878   1300            100  Serpong Utara                 13.000000   \n",
       "19  813445554   1300            100  Serpong Utara                 13.000000   \n",
       "20  813444953   1175             90  Serpong Utara                 13.055556   \n",
       "21  813397050   1750            133        Serpong                 13.157895   \n",
       "22  799795525   1000             76    Pondok Aren                 13.157895   \n",
       "23  813444895   1750            133        Serpong                 13.157895   \n",
       "24  813077650    950             72        Serpong                 13.194444   \n",
       "25  807807302   1600            120        Serpong                 13.333333   \n",
       "26  813060958   1750            130        Serpong                 13.461538   \n",
       "27  812833563   1700            126    Pondok Aren                 13.492063   \n",
       "28  813104810   1500            110        Serpong                 13.636364   \n",
       "29  528812748   1800            131        Serpong                 13.740458   \n",
       "30  801536599   1800            130    Pondok Aren                 13.846154   \n",
       "\n",
       "      Deals Lokal Deals  \n",
       "0   Bargain     Bargain  \n",
       "1   Bargain     Bargain  \n",
       "2   Bargain     Bargain  \n",
       "3   Bargain     Bargain  \n",
       "4   Bargain     Bargain  \n",
       "5   Bargain     Bargain  \n",
       "6   Bargain     Bargain  \n",
       "7   Bargain     Bargain  \n",
       "8   Bargain     Bargain  \n",
       "9   Bargain     Bargain  \n",
       "10  Bargain     Bargain  \n",
       "11  Bargain     Bargain  \n",
       "12  Bargain     Bargain  \n",
       "13  Bargain     Bargain  \n",
       "14  Bargain     Bargain  \n",
       "15  Bargain     Bargain  \n",
       "16  Bargain     Bargain  \n",
       "17  Bargain     Bargain  \n",
       "18  Bargain     Bargain  \n",
       "19  Bargain     Bargain  \n",
       "20  Bargain     Bargain  \n",
       "21  Bargain     Bargain  \n",
       "22  Bargain     Bargain  \n",
       "23  Bargain     Bargain  \n",
       "24  Bargain     Bargain  \n",
       "25  Bargain     Bargain  \n",
       "26  Bargain     Bargain  \n",
       "27  Bargain     Bargain  \n",
       "28  Bargain     Bargain  \n",
       "29  Bargain     Bargain  \n",
       "30  Bargain     Bargain  "
      ]
     },
     "execution_count": 58,
     "metadata": {},
     "output_type": "execute_result"
    }
   ],
   "source": [
    "double_bargain1800 = double_bargain[double_bargain['Harga'] <= 1800].reset_index(drop=True)\n",
    "\n",
    "double_bargain1800"
   ]
  }
 ],
 "metadata": {
  "kernelspec": {
   "display_name": "Python 3",
   "language": "python",
   "name": "python3"
  },
  "language_info": {
   "codemirror_mode": {
    "name": "ipython",
    "version": 3
   },
   "file_extension": ".py",
   "mimetype": "text/x-python",
   "name": "python",
   "nbconvert_exporter": "python",
   "pygments_lexer": "ipython3",
   "version": "3.7.4"
  }
 },
 "nbformat": 4,
 "nbformat_minor": 4
}
