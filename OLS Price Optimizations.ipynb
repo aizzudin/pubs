{
 "cells": [
  {
   "cell_type": "code",
   "execution_count": 1,
   "metadata": {},
   "outputs": [],
   "source": [
    "#Import Libraries\n",
    "import pandas as pd\n",
    "import numpy as np\n",
    "import matplotlib.pyplot as plt\n",
    "import statsmodels.api as sm\n",
    "from statsmodels.formula.api import ols\n",
    "import seaborn as sns; sns.set(style=\"ticks\", color_codes=True)\n",
    "\n",
    "%matplotlib inline\n",
    "\n",
    "# Get multiple outputs in the same cell\n",
    "from IPython.core.interactiveshell import InteractiveShell\n",
    "InteractiveShell.ast_node_interactivity = \"all\"\n",
    "\n",
    "# Ignore all warnings\n",
    "import warnings\n",
    "warnings.filterwarnings('ignore')\n",
    "warnings.filterwarnings(action='ignore', category=DeprecationWarning)\n",
    "\n",
    "# Display all rows and columns of a dataframe instead of a truncated version\n",
    "from IPython.display import display\n",
    "pd.set_option('display.max_columns', None)\n",
    "pd.set_option('display.max_rows', None)"
   ]
  },
  {
   "cell_type": "markdown",
   "metadata": {},
   "source": [
    "#### Loading Data"
   ]
  },
  {
   "cell_type": "code",
   "execution_count": 2,
   "metadata": {},
   "outputs": [],
   "source": [
    "sold = pd.read_csv('Cafe - Sell Meta Data.csv')\n",
    "transactions = pd.read_csv('Cafe - Transaction - Store.csv')\n",
    "date_info = pd.read_csv('Cafe - DateInfo.csv')"
   ]
  },
  {
   "cell_type": "markdown",
   "metadata": {},
   "source": [
    "#### Get To Know Sales Data"
   ]
  },
  {
   "cell_type": "code",
   "execution_count": 3,
   "metadata": {},
   "outputs": [
    {
     "data": {
      "text/html": [
       "<div>\n",
       "<style scoped>\n",
       "    .dataframe tbody tr th:only-of-type {\n",
       "        vertical-align: middle;\n",
       "    }\n",
       "\n",
       "    .dataframe tbody tr th {\n",
       "        vertical-align: top;\n",
       "    }\n",
       "\n",
       "    .dataframe thead th {\n",
       "        text-align: right;\n",
       "    }\n",
       "</style>\n",
       "<table border=\"1\" class=\"dataframe\">\n",
       "  <thead>\n",
       "    <tr style=\"text-align: right;\">\n",
       "      <th></th>\n",
       "      <th>SELL_ID</th>\n",
       "      <th>SELL_CATEGORY</th>\n",
       "      <th>ITEM_ID</th>\n",
       "      <th>ITEM_NAME</th>\n",
       "    </tr>\n",
       "  </thead>\n",
       "  <tbody>\n",
       "    <tr>\n",
       "      <th>0</th>\n",
       "      <td>1070</td>\n",
       "      <td>0</td>\n",
       "      <td>7821</td>\n",
       "      <td>BURGER</td>\n",
       "    </tr>\n",
       "    <tr>\n",
       "      <th>1</th>\n",
       "      <td>3055</td>\n",
       "      <td>0</td>\n",
       "      <td>3052</td>\n",
       "      <td>COFFEE</td>\n",
       "    </tr>\n",
       "    <tr>\n",
       "      <th>2</th>\n",
       "      <td>3067</td>\n",
       "      <td>0</td>\n",
       "      <td>5030</td>\n",
       "      <td>COKE</td>\n",
       "    </tr>\n",
       "    <tr>\n",
       "      <th>3</th>\n",
       "      <td>3028</td>\n",
       "      <td>0</td>\n",
       "      <td>6249</td>\n",
       "      <td>LEMONADE</td>\n",
       "    </tr>\n",
       "    <tr>\n",
       "      <th>4</th>\n",
       "      <td>2051</td>\n",
       "      <td>2</td>\n",
       "      <td>7821</td>\n",
       "      <td>BURGER</td>\n",
       "    </tr>\n",
       "    <tr>\n",
       "      <th>5</th>\n",
       "      <td>2051</td>\n",
       "      <td>2</td>\n",
       "      <td>5030</td>\n",
       "      <td>COKE</td>\n",
       "    </tr>\n",
       "    <tr>\n",
       "      <th>6</th>\n",
       "      <td>2052</td>\n",
       "      <td>2</td>\n",
       "      <td>7821</td>\n",
       "      <td>BURGER</td>\n",
       "    </tr>\n",
       "    <tr>\n",
       "      <th>7</th>\n",
       "      <td>2052</td>\n",
       "      <td>2</td>\n",
       "      <td>6249</td>\n",
       "      <td>LEMONADE</td>\n",
       "    </tr>\n",
       "    <tr>\n",
       "      <th>8</th>\n",
       "      <td>2053</td>\n",
       "      <td>2</td>\n",
       "      <td>7821</td>\n",
       "      <td>BURGER</td>\n",
       "    </tr>\n",
       "    <tr>\n",
       "      <th>9</th>\n",
       "      <td>2053</td>\n",
       "      <td>2</td>\n",
       "      <td>5030</td>\n",
       "      <td>COKE</td>\n",
       "    </tr>\n",
       "    <tr>\n",
       "      <th>10</th>\n",
       "      <td>2053</td>\n",
       "      <td>2</td>\n",
       "      <td>3052</td>\n",
       "      <td>COFFEE</td>\n",
       "    </tr>\n",
       "  </tbody>\n",
       "</table>\n",
       "</div>"
      ],
      "text/plain": [
       "    SELL_ID  SELL_CATEGORY  ITEM_ID ITEM_NAME\n",
       "0      1070              0     7821    BURGER\n",
       "1      3055              0     3052    COFFEE\n",
       "2      3067              0     5030      COKE\n",
       "3      3028              0     6249  LEMONADE\n",
       "4      2051              2     7821    BURGER\n",
       "5      2051              2     5030      COKE\n",
       "6      2052              2     7821    BURGER\n",
       "7      2052              2     6249  LEMONADE\n",
       "8      2053              2     7821    BURGER\n",
       "9      2053              2     5030      COKE\n",
       "10     2053              2     3052    COFFEE"
      ]
     },
     "execution_count": 3,
     "metadata": {},
     "output_type": "execute_result"
    }
   ],
   "source": [
    "sold"
   ]
  },
  {
   "cell_type": "code",
   "execution_count": 4,
   "metadata": {},
   "outputs": [
    {
     "data": {
      "text/html": [
       "<div>\n",
       "<style scoped>\n",
       "    .dataframe tbody tr th:only-of-type {\n",
       "        vertical-align: middle;\n",
       "    }\n",
       "\n",
       "    .dataframe tbody tr th {\n",
       "        vertical-align: top;\n",
       "    }\n",
       "\n",
       "    .dataframe thead th {\n",
       "        text-align: right;\n",
       "    }\n",
       "</style>\n",
       "<table border=\"1\" class=\"dataframe\">\n",
       "  <thead>\n",
       "    <tr style=\"text-align: right;\">\n",
       "      <th></th>\n",
       "      <th>SELL_ID</th>\n",
       "      <th>SELL_CATEGORY</th>\n",
       "      <th>ITEM_ID</th>\n",
       "    </tr>\n",
       "  </thead>\n",
       "  <tbody>\n",
       "    <tr>\n",
       "      <th>count</th>\n",
       "      <td>11.000000</td>\n",
       "      <td>11.000000</td>\n",
       "      <td>11.000000</td>\n",
       "    </tr>\n",
       "    <tr>\n",
       "      <th>mean</th>\n",
       "      <td>2235.000000</td>\n",
       "      <td>1.272727</td>\n",
       "      <td>5906.909091</td>\n",
       "    </tr>\n",
       "    <tr>\n",
       "      <th>std</th>\n",
       "      <td>598.728653</td>\n",
       "      <td>1.009050</td>\n",
       "      <td>1830.217170</td>\n",
       "    </tr>\n",
       "    <tr>\n",
       "      <th>min</th>\n",
       "      <td>1070.000000</td>\n",
       "      <td>0.000000</td>\n",
       "      <td>3052.000000</td>\n",
       "    </tr>\n",
       "    <tr>\n",
       "      <th>25%</th>\n",
       "      <td>2051.500000</td>\n",
       "      <td>0.000000</td>\n",
       "      <td>5030.000000</td>\n",
       "    </tr>\n",
       "    <tr>\n",
       "      <th>50%</th>\n",
       "      <td>2053.000000</td>\n",
       "      <td>2.000000</td>\n",
       "      <td>6249.000000</td>\n",
       "    </tr>\n",
       "    <tr>\n",
       "      <th>75%</th>\n",
       "      <td>2540.500000</td>\n",
       "      <td>2.000000</td>\n",
       "      <td>7821.000000</td>\n",
       "    </tr>\n",
       "    <tr>\n",
       "      <th>max</th>\n",
       "      <td>3067.000000</td>\n",
       "      <td>2.000000</td>\n",
       "      <td>7821.000000</td>\n",
       "    </tr>\n",
       "  </tbody>\n",
       "</table>\n",
       "</div>"
      ],
      "text/plain": [
       "           SELL_ID  SELL_CATEGORY      ITEM_ID\n",
       "count    11.000000      11.000000    11.000000\n",
       "mean   2235.000000       1.272727  5906.909091\n",
       "std     598.728653       1.009050  1830.217170\n",
       "min    1070.000000       0.000000  3052.000000\n",
       "25%    2051.500000       0.000000  5030.000000\n",
       "50%    2053.000000       2.000000  6249.000000\n",
       "75%    2540.500000       2.000000  7821.000000\n",
       "max    3067.000000       2.000000  7821.000000"
      ]
     },
     "execution_count": 4,
     "metadata": {},
     "output_type": "execute_result"
    },
    {
     "data": {
      "text/html": [
       "<div>\n",
       "<style scoped>\n",
       "    .dataframe tbody tr th:only-of-type {\n",
       "        vertical-align: middle;\n",
       "    }\n",
       "\n",
       "    .dataframe tbody tr th {\n",
       "        vertical-align: top;\n",
       "    }\n",
       "\n",
       "    .dataframe thead th {\n",
       "        text-align: right;\n",
       "    }\n",
       "</style>\n",
       "<table border=\"1\" class=\"dataframe\">\n",
       "  <thead>\n",
       "    <tr style=\"text-align: right;\">\n",
       "      <th></th>\n",
       "      <th>ITEM_NAME</th>\n",
       "    </tr>\n",
       "  </thead>\n",
       "  <tbody>\n",
       "    <tr>\n",
       "      <th>count</th>\n",
       "      <td>11</td>\n",
       "    </tr>\n",
       "    <tr>\n",
       "      <th>unique</th>\n",
       "      <td>4</td>\n",
       "    </tr>\n",
       "    <tr>\n",
       "      <th>top</th>\n",
       "      <td>BURGER</td>\n",
       "    </tr>\n",
       "    <tr>\n",
       "      <th>freq</th>\n",
       "      <td>4</td>\n",
       "    </tr>\n",
       "  </tbody>\n",
       "</table>\n",
       "</div>"
      ],
      "text/plain": [
       "       ITEM_NAME\n",
       "count         11\n",
       "unique         4\n",
       "top       BURGER\n",
       "freq           4"
      ]
     },
     "execution_count": 4,
     "metadata": {},
     "output_type": "execute_result"
    }
   ],
   "source": [
    "sold.describe()\n",
    "sold.describe(include = ['O'])"
   ]
  },
  {
   "cell_type": "code",
   "execution_count": 5,
   "metadata": {},
   "outputs": [
    {
     "data": {
      "text/html": [
       "<div>\n",
       "<style scoped>\n",
       "    .dataframe tbody tr th:only-of-type {\n",
       "        vertical-align: middle;\n",
       "    }\n",
       "\n",
       "    .dataframe tbody tr th {\n",
       "        vertical-align: top;\n",
       "    }\n",
       "\n",
       "    .dataframe thead th {\n",
       "        text-align: right;\n",
       "    }\n",
       "</style>\n",
       "<table border=\"1\" class=\"dataframe\">\n",
       "  <thead>\n",
       "    <tr style=\"text-align: right;\">\n",
       "      <th></th>\n",
       "      <th>SELL_ID</th>\n",
       "      <th>SELL_CATEGORY</th>\n",
       "      <th>ITEM_ID</th>\n",
       "      <th>ITEM_NAME</th>\n",
       "    </tr>\n",
       "  </thead>\n",
       "  <tbody>\n",
       "  </tbody>\n",
       "</table>\n",
       "</div>"
      ],
      "text/plain": [
       "Empty DataFrame\n",
       "Columns: [SELL_ID, SELL_CATEGORY, ITEM_ID, ITEM_NAME]\n",
       "Index: []"
      ]
     },
     "execution_count": 5,
     "metadata": {},
     "output_type": "execute_result"
    }
   ],
   "source": [
    "#check null values\n",
    "sold[sold.isnull().any(axis=1)]"
   ]
  },
  {
   "cell_type": "code",
   "execution_count": 6,
   "metadata": {
    "scrolled": false
   },
   "outputs": [
    {
     "data": {
      "text/plain": [
       "<seaborn.axisgrid.PairGrid at 0x17abed04d30>"
      ]
     },
     "execution_count": 6,
     "metadata": {},
     "output_type": "execute_result"
    },
    {
     "data": {
      "image/png": "[encoded data removed]",
      "text/plain": [
       "<Figure size 540x540 with 12 Axes>"
      ]
     },
     "metadata": {
      "needs_background": "light"
     },
     "output_type": "display_data"
    }
   ],
   "source": [
    "sns.pairplot(sold)"
   ]
  },
  {
   "cell_type": "markdown",
   "metadata": {},
   "source": [
    "#### Get To Know Transaction Data"
   ]
  },
  {
   "cell_type": "code",
   "execution_count": 7,
   "metadata": {},
   "outputs": [
    {
     "data": {
      "text/html": [
       "<div>\n",
       "<style scoped>\n",
       "    .dataframe tbody tr th:only-of-type {\n",
       "        vertical-align: middle;\n",
       "    }\n",
       "\n",
       "    .dataframe tbody tr th {\n",
       "        vertical-align: top;\n",
       "    }\n",
       "\n",
       "    .dataframe thead th {\n",
       "        text-align: right;\n",
       "    }\n",
       "</style>\n",
       "<table border=\"1\" class=\"dataframe\">\n",
       "  <thead>\n",
       "    <tr style=\"text-align: right;\">\n",
       "      <th></th>\n",
       "      <th>CALENDAR_DATE</th>\n",
       "      <th>PRICE</th>\n",
       "      <th>QUANTITY</th>\n",
       "      <th>SELL_ID</th>\n",
       "      <th>SELL_CATEGORY</th>\n",
       "    </tr>\n",
       "  </thead>\n",
       "  <tbody>\n",
       "    <tr>\n",
       "      <th>0</th>\n",
       "      <td>01/01/12</td>\n",
       "      <td>15.50</td>\n",
       "      <td>46</td>\n",
       "      <td>1070</td>\n",
       "      <td>0</td>\n",
       "    </tr>\n",
       "    <tr>\n",
       "      <th>1</th>\n",
       "      <td>01/01/12</td>\n",
       "      <td>12.73</td>\n",
       "      <td>22</td>\n",
       "      <td>2051</td>\n",
       "      <td>2</td>\n",
       "    </tr>\n",
       "    <tr>\n",
       "      <th>2</th>\n",
       "      <td>01/01/12</td>\n",
       "      <td>12.75</td>\n",
       "      <td>18</td>\n",
       "      <td>2052</td>\n",
       "      <td>2</td>\n",
       "    </tr>\n",
       "    <tr>\n",
       "      <th>3</th>\n",
       "      <td>01/01/12</td>\n",
       "      <td>12.60</td>\n",
       "      <td>30</td>\n",
       "      <td>2053</td>\n",
       "      <td>2</td>\n",
       "    </tr>\n",
       "    <tr>\n",
       "      <th>4</th>\n",
       "      <td>01/02/12</td>\n",
       "      <td>15.50</td>\n",
       "      <td>70</td>\n",
       "      <td>1070</td>\n",
       "      <td>0</td>\n",
       "    </tr>\n",
       "    <tr>\n",
       "      <th>5</th>\n",
       "      <td>01/02/12</td>\n",
       "      <td>12.73</td>\n",
       "      <td>22</td>\n",
       "      <td>2051</td>\n",
       "      <td>2</td>\n",
       "    </tr>\n",
       "    <tr>\n",
       "      <th>6</th>\n",
       "      <td>01/02/12</td>\n",
       "      <td>12.75</td>\n",
       "      <td>16</td>\n",
       "      <td>2052</td>\n",
       "      <td>2</td>\n",
       "    </tr>\n",
       "    <tr>\n",
       "      <th>7</th>\n",
       "      <td>01/02/12</td>\n",
       "      <td>12.60</td>\n",
       "      <td>34</td>\n",
       "      <td>2053</td>\n",
       "      <td>2</td>\n",
       "    </tr>\n",
       "    <tr>\n",
       "      <th>8</th>\n",
       "      <td>01/03/12</td>\n",
       "      <td>15.50</td>\n",
       "      <td>62</td>\n",
       "      <td>1070</td>\n",
       "      <td>0</td>\n",
       "    </tr>\n",
       "    <tr>\n",
       "      <th>9</th>\n",
       "      <td>01/03/12</td>\n",
       "      <td>12.73</td>\n",
       "      <td>26</td>\n",
       "      <td>2051</td>\n",
       "      <td>2</td>\n",
       "    </tr>\n",
       "    <tr>\n",
       "      <th>10</th>\n",
       "      <td>01/03/12</td>\n",
       "      <td>12.75</td>\n",
       "      <td>12</td>\n",
       "      <td>2052</td>\n",
       "      <td>2</td>\n",
       "    </tr>\n",
       "    <tr>\n",
       "      <th>11</th>\n",
       "      <td>01/03/12</td>\n",
       "      <td>12.60</td>\n",
       "      <td>28</td>\n",
       "      <td>2053</td>\n",
       "      <td>2</td>\n",
       "    </tr>\n",
       "    <tr>\n",
       "      <th>12</th>\n",
       "      <td>01/04/12</td>\n",
       "      <td>15.50</td>\n",
       "      <td>88</td>\n",
       "      <td>1070</td>\n",
       "      <td>0</td>\n",
       "    </tr>\n",
       "    <tr>\n",
       "      <th>13</th>\n",
       "      <td>01/04/12</td>\n",
       "      <td>12.73</td>\n",
       "      <td>26</td>\n",
       "      <td>2051</td>\n",
       "      <td>2</td>\n",
       "    </tr>\n",
       "    <tr>\n",
       "      <th>14</th>\n",
       "      <td>01/04/12</td>\n",
       "      <td>12.75</td>\n",
       "      <td>24</td>\n",
       "      <td>2052</td>\n",
       "      <td>2</td>\n",
       "    </tr>\n",
       "  </tbody>\n",
       "</table>\n",
       "</div>"
      ],
      "text/plain": [
       "   CALENDAR_DATE  PRICE  QUANTITY  SELL_ID  SELL_CATEGORY\n",
       "0       01/01/12  15.50        46     1070              0\n",
       "1       01/01/12  12.73        22     2051              2\n",
       "2       01/01/12  12.75        18     2052              2\n",
       "3       01/01/12  12.60        30     2053              2\n",
       "4       01/02/12  15.50        70     1070              0\n",
       "5       01/02/12  12.73        22     2051              2\n",
       "6       01/02/12  12.75        16     2052              2\n",
       "7       01/02/12  12.60        34     2053              2\n",
       "8       01/03/12  15.50        62     1070              0\n",
       "9       01/03/12  12.73        26     2051              2\n",
       "10      01/03/12  12.75        12     2052              2\n",
       "11      01/03/12  12.60        28     2053              2\n",
       "12      01/04/12  15.50        88     1070              0\n",
       "13      01/04/12  12.73        26     2051              2\n",
       "14      01/04/12  12.75        24     2052              2"
      ]
     },
     "execution_count": 7,
     "metadata": {},
     "output_type": "execute_result"
    }
   ],
   "source": [
    "transactions.head(15)"
   ]
  },
  {
   "cell_type": "code",
   "execution_count": 8,
   "metadata": {},
   "outputs": [
    {
     "data": {
      "text/html": [
       "<div>\n",
       "<style scoped>\n",
       "    .dataframe tbody tr th:only-of-type {\n",
       "        vertical-align: middle;\n",
       "    }\n",
       "\n",
       "    .dataframe tbody tr th {\n",
       "        vertical-align: top;\n",
       "    }\n",
       "\n",
       "    .dataframe thead th {\n",
       "        text-align: right;\n",
       "    }\n",
       "</style>\n",
       "<table border=\"1\" class=\"dataframe\">\n",
       "  <thead>\n",
       "    <tr style=\"text-align: right;\">\n",
       "      <th></th>\n",
       "      <th>PRICE</th>\n",
       "      <th>QUANTITY</th>\n",
       "      <th>SELL_ID</th>\n",
       "      <th>SELL_CATEGORY</th>\n",
       "    </tr>\n",
       "  </thead>\n",
       "  <tbody>\n",
       "    <tr>\n",
       "      <th>count</th>\n",
       "      <td>5404.000000</td>\n",
       "      <td>5404.000000</td>\n",
       "      <td>5404.00000</td>\n",
       "      <td>5404.000000</td>\n",
       "    </tr>\n",
       "    <tr>\n",
       "      <th>mean</th>\n",
       "      <td>12.868729</td>\n",
       "      <td>44.335307</td>\n",
       "      <td>1806.50000</td>\n",
       "      <td>1.500000</td>\n",
       "    </tr>\n",
       "    <tr>\n",
       "      <th>std</th>\n",
       "      <td>1.563922</td>\n",
       "      <td>25.502597</td>\n",
       "      <td>425.25841</td>\n",
       "      <td>0.866106</td>\n",
       "    </tr>\n",
       "    <tr>\n",
       "      <th>min</th>\n",
       "      <td>10.120000</td>\n",
       "      <td>8.000000</td>\n",
       "      <td>1070.00000</td>\n",
       "      <td>0.000000</td>\n",
       "    </tr>\n",
       "    <tr>\n",
       "      <th>25%</th>\n",
       "      <td>11.530000</td>\n",
       "      <td>24.000000</td>\n",
       "      <td>1805.75000</td>\n",
       "      <td>1.500000</td>\n",
       "    </tr>\n",
       "    <tr>\n",
       "      <th>50%</th>\n",
       "      <td>12.640000</td>\n",
       "      <td>36.000000</td>\n",
       "      <td>2051.50000</td>\n",
       "      <td>2.000000</td>\n",
       "    </tr>\n",
       "    <tr>\n",
       "      <th>75%</th>\n",
       "      <td>13.557500</td>\n",
       "      <td>60.000000</td>\n",
       "      <td>2052.25000</td>\n",
       "      <td>2.000000</td>\n",
       "    </tr>\n",
       "    <tr>\n",
       "      <th>max</th>\n",
       "      <td>16.500000</td>\n",
       "      <td>124.000000</td>\n",
       "      <td>2053.00000</td>\n",
       "      <td>2.000000</td>\n",
       "    </tr>\n",
       "  </tbody>\n",
       "</table>\n",
       "</div>"
      ],
      "text/plain": [
       "             PRICE     QUANTITY     SELL_ID  SELL_CATEGORY\n",
       "count  5404.000000  5404.000000  5404.00000    5404.000000\n",
       "mean     12.868729    44.335307  1806.50000       1.500000\n",
       "std       1.563922    25.502597   425.25841       0.866106\n",
       "min      10.120000     8.000000  1070.00000       0.000000\n",
       "25%      11.530000    24.000000  1805.75000       1.500000\n",
       "50%      12.640000    36.000000  2051.50000       2.000000\n",
       "75%      13.557500    60.000000  2052.25000       2.000000\n",
       "max      16.500000   124.000000  2053.00000       2.000000"
      ]
     },
     "execution_count": 8,
     "metadata": {},
     "output_type": "execute_result"
    },
    {
     "data": {
      "text/html": [
       "<div>\n",
       "<style scoped>\n",
       "    .dataframe tbody tr th:only-of-type {\n",
       "        vertical-align: middle;\n",
       "    }\n",
       "\n",
       "    .dataframe tbody tr th {\n",
       "        vertical-align: top;\n",
       "    }\n",
       "\n",
       "    .dataframe thead th {\n",
       "        text-align: right;\n",
       "    }\n",
       "</style>\n",
       "<table border=\"1\" class=\"dataframe\">\n",
       "  <thead>\n",
       "    <tr style=\"text-align: right;\">\n",
       "      <th></th>\n",
       "      <th>CALENDAR_DATE</th>\n",
       "    </tr>\n",
       "  </thead>\n",
       "  <tbody>\n",
       "    <tr>\n",
       "      <th>count</th>\n",
       "      <td>5404</td>\n",
       "    </tr>\n",
       "    <tr>\n",
       "      <th>unique</th>\n",
       "      <td>1348</td>\n",
       "    </tr>\n",
       "    <tr>\n",
       "      <th>top</th>\n",
       "      <td>03/01/13</td>\n",
       "    </tr>\n",
       "    <tr>\n",
       "      <th>freq</th>\n",
       "      <td>16</td>\n",
       "    </tr>\n",
       "  </tbody>\n",
       "</table>\n",
       "</div>"
      ],
      "text/plain": [
       "       CALENDAR_DATE\n",
       "count           5404\n",
       "unique          1348\n",
       "top         03/01/13\n",
       "freq              16"
      ]
     },
     "execution_count": 8,
     "metadata": {},
     "output_type": "execute_result"
    }
   ],
   "source": [
    "transactions.describe()\n",
    "transactions.describe(include = ['O'])"
   ]
  },
  {
   "cell_type": "code",
   "execution_count": 9,
   "metadata": {},
   "outputs": [
    {
     "data": {
      "text/html": [
       "<div>\n",
       "<style scoped>\n",
       "    .dataframe tbody tr th:only-of-type {\n",
       "        vertical-align: middle;\n",
       "    }\n",
       "\n",
       "    .dataframe tbody tr th {\n",
       "        vertical-align: top;\n",
       "    }\n",
       "\n",
       "    .dataframe thead th {\n",
       "        text-align: right;\n",
       "    }\n",
       "</style>\n",
       "<table border=\"1\" class=\"dataframe\">\n",
       "  <thead>\n",
       "    <tr style=\"text-align: right;\">\n",
       "      <th></th>\n",
       "      <th>CALENDAR_DATE</th>\n",
       "      <th>PRICE</th>\n",
       "      <th>QUANTITY</th>\n",
       "      <th>SELL_ID</th>\n",
       "      <th>SELL_CATEGORY</th>\n",
       "    </tr>\n",
       "  </thead>\n",
       "  <tbody>\n",
       "  </tbody>\n",
       "</table>\n",
       "</div>"
      ],
      "text/plain": [
       "Empty DataFrame\n",
       "Columns: [CALENDAR_DATE, PRICE, QUANTITY, SELL_ID, SELL_CATEGORY]\n",
       "Index: []"
      ]
     },
     "execution_count": 9,
     "metadata": {},
     "output_type": "execute_result"
    }
   ],
   "source": [
    "#check null value\n",
    "transactions[transactions.isnull().any(axis=1)]"
   ]
  },
  {
   "cell_type": "code",
   "execution_count": 10,
   "metadata": {},
   "outputs": [
    {
     "data": {
      "text/plain": [
       "(array([ 360.,  509.,  629., 1351., 1082.,  122.,  389.,  240.,  482.,\n",
       "         240.]),\n",
       " array([10.12 , 10.758, 11.396, 12.034, 12.672, 13.31 , 13.948, 14.586,\n",
       "        15.224, 15.862, 16.5  ]),\n",
       " <BarContainer object of 10 artists>)"
      ]
     },
     "execution_count": 10,
     "metadata": {},
     "output_type": "execute_result"
    },
    {
     "data": {
      "image/png": "[encoded data removed]",
      "text/plain": [
       "<Figure size 432x288 with 1 Axes>"
      ]
     },
     "metadata": {
      "needs_background": "light"
     },
     "output_type": "display_data"
    }
   ],
   "source": [
    "plt.hist(transactions.PRICE)"
   ]
  },
  {
   "cell_type": "code",
   "execution_count": 11,
   "metadata": {},
   "outputs": [
    {
     "data": {
      "text/plain": [
       "<seaborn.axisgrid.PairGrid at 0x17ac13e16a0>"
      ]
     },
     "execution_count": 11,
     "metadata": {},
     "output_type": "execute_result"
    },
    {
     "data": {
      "image/png": "[encoded data removed]",
      "text/plain": [
       "<Figure size 720x720 with 20 Axes>"
      ]
     },
     "metadata": {
      "needs_background": "light"
     },
     "output_type": "display_data"
    }
   ],
   "source": [
    "sns.pairplot(transactions)"
   ]
  },
  {
   "cell_type": "markdown",
   "metadata": {},
   "source": [
    "#### Get To Know Date Info Data"
   ]
  },
  {
   "cell_type": "code",
   "execution_count": 12,
   "metadata": {},
   "outputs": [
    {
     "data": {
      "text/html": [
       "<div>\n",
       "<style scoped>\n",
       "    .dataframe tbody tr th:only-of-type {\n",
       "        vertical-align: middle;\n",
       "    }\n",
       "\n",
       "    .dataframe tbody tr th {\n",
       "        vertical-align: top;\n",
       "    }\n",
       "\n",
       "    .dataframe thead th {\n",
       "        text-align: right;\n",
       "    }\n",
       "</style>\n",
       "<table border=\"1\" class=\"dataframe\">\n",
       "  <thead>\n",
       "    <tr style=\"text-align: right;\">\n",
       "      <th></th>\n",
       "      <th>CALENDAR_DATE</th>\n",
       "      <th>YEAR</th>\n",
       "      <th>HOLIDAY</th>\n",
       "      <th>IS_WEEKEND</th>\n",
       "      <th>IS_SCHOOLBREAK</th>\n",
       "      <th>AVERAGE_TEMPERATURE</th>\n",
       "      <th>IS_OUTDOOR</th>\n",
       "    </tr>\n",
       "  </thead>\n",
       "  <tbody>\n",
       "    <tr>\n",
       "      <th>0</th>\n",
       "      <td>1/1/12</td>\n",
       "      <td>2012</td>\n",
       "      <td>New Year</td>\n",
       "      <td>1</td>\n",
       "      <td>0</td>\n",
       "      <td>24.8</td>\n",
       "      <td>0</td>\n",
       "    </tr>\n",
       "    <tr>\n",
       "      <th>1</th>\n",
       "      <td>1/2/12</td>\n",
       "      <td>2012</td>\n",
       "      <td>New Year</td>\n",
       "      <td>0</td>\n",
       "      <td>0</td>\n",
       "      <td>24.8</td>\n",
       "      <td>0</td>\n",
       "    </tr>\n",
       "    <tr>\n",
       "      <th>2</th>\n",
       "      <td>1/3/12</td>\n",
       "      <td>2012</td>\n",
       "      <td>New Year</td>\n",
       "      <td>0</td>\n",
       "      <td>0</td>\n",
       "      <td>32.0</td>\n",
       "      <td>1</td>\n",
       "    </tr>\n",
       "    <tr>\n",
       "      <th>3</th>\n",
       "      <td>1/4/12</td>\n",
       "      <td>2012</td>\n",
       "      <td>NaN</td>\n",
       "      <td>0</td>\n",
       "      <td>0</td>\n",
       "      <td>32.0</td>\n",
       "      <td>1</td>\n",
       "    </tr>\n",
       "    <tr>\n",
       "      <th>4</th>\n",
       "      <td>1/5/12</td>\n",
       "      <td>2012</td>\n",
       "      <td>NaN</td>\n",
       "      <td>0</td>\n",
       "      <td>0</td>\n",
       "      <td>24.8</td>\n",
       "      <td>0</td>\n",
       "    </tr>\n",
       "  </tbody>\n",
       "</table>\n",
       "</div>"
      ],
      "text/plain": [
       "  CALENDAR_DATE  YEAR   HOLIDAY  IS_WEEKEND  IS_SCHOOLBREAK  \\\n",
       "0        1/1/12  2012  New Year           1               0   \n",
       "1        1/2/12  2012  New Year           0               0   \n",
       "2        1/3/12  2012  New Year           0               0   \n",
       "3        1/4/12  2012       NaN           0               0   \n",
       "4        1/5/12  2012       NaN           0               0   \n",
       "\n",
       "   AVERAGE_TEMPERATURE  IS_OUTDOOR  \n",
       "0                 24.8           0  \n",
       "1                 24.8           0  \n",
       "2                 32.0           1  \n",
       "3                 32.0           1  \n",
       "4                 24.8           0  "
      ]
     },
     "execution_count": 12,
     "metadata": {},
     "output_type": "execute_result"
    }
   ],
   "source": [
    "date_info.head()"
   ]
  },
  {
   "cell_type": "code",
   "execution_count": 13,
   "metadata": {},
   "outputs": [
    {
     "data": {
      "text/html": [
       "<div>\n",
       "<style scoped>\n",
       "    .dataframe tbody tr th:only-of-type {\n",
       "        vertical-align: middle;\n",
       "    }\n",
       "\n",
       "    .dataframe tbody tr th {\n",
       "        vertical-align: top;\n",
       "    }\n",
       "\n",
       "    .dataframe thead th {\n",
       "        text-align: right;\n",
       "    }\n",
       "</style>\n",
       "<table border=\"1\" class=\"dataframe\">\n",
       "  <thead>\n",
       "    <tr style=\"text-align: right;\">\n",
       "      <th></th>\n",
       "      <th>YEAR</th>\n",
       "      <th>IS_WEEKEND</th>\n",
       "      <th>IS_SCHOOLBREAK</th>\n",
       "      <th>AVERAGE_TEMPERATURE</th>\n",
       "      <th>IS_OUTDOOR</th>\n",
       "    </tr>\n",
       "  </thead>\n",
       "  <tbody>\n",
       "    <tr>\n",
       "      <th>count</th>\n",
       "      <td>1349.000000</td>\n",
       "      <td>1349.000000</td>\n",
       "      <td>1349.000000</td>\n",
       "      <td>1349.000000</td>\n",
       "      <td>1349.000000</td>\n",
       "    </tr>\n",
       "    <tr>\n",
       "      <th>mean</th>\n",
       "      <td>2013.375093</td>\n",
       "      <td>0.285397</td>\n",
       "      <td>0.204596</td>\n",
       "      <td>56.326019</td>\n",
       "      <td>0.862120</td>\n",
       "    </tr>\n",
       "    <tr>\n",
       "      <th>std</th>\n",
       "      <td>1.073073</td>\n",
       "      <td>0.451771</td>\n",
       "      <td>0.403556</td>\n",
       "      <td>20.227597</td>\n",
       "      <td>0.344902</td>\n",
       "    </tr>\n",
       "    <tr>\n",
       "      <th>min</th>\n",
       "      <td>2012.000000</td>\n",
       "      <td>0.000000</td>\n",
       "      <td>0.000000</td>\n",
       "      <td>14.000000</td>\n",
       "      <td>0.000000</td>\n",
       "    </tr>\n",
       "    <tr>\n",
       "      <th>25%</th>\n",
       "      <td>2012.000000</td>\n",
       "      <td>0.000000</td>\n",
       "      <td>0.000000</td>\n",
       "      <td>35.600000</td>\n",
       "      <td>1.000000</td>\n",
       "    </tr>\n",
       "    <tr>\n",
       "      <th>50%</th>\n",
       "      <td>2013.000000</td>\n",
       "      <td>0.000000</td>\n",
       "      <td>0.000000</td>\n",
       "      <td>60.800000</td>\n",
       "      <td>1.000000</td>\n",
       "    </tr>\n",
       "    <tr>\n",
       "      <th>75%</th>\n",
       "      <td>2014.000000</td>\n",
       "      <td>1.000000</td>\n",
       "      <td>0.000000</td>\n",
       "      <td>75.200000</td>\n",
       "      <td>1.000000</td>\n",
       "    </tr>\n",
       "    <tr>\n",
       "      <th>max</th>\n",
       "      <td>2015.000000</td>\n",
       "      <td>1.000000</td>\n",
       "      <td>1.000000</td>\n",
       "      <td>87.800000</td>\n",
       "      <td>1.000000</td>\n",
       "    </tr>\n",
       "  </tbody>\n",
       "</table>\n",
       "</div>"
      ],
      "text/plain": [
       "              YEAR   IS_WEEKEND  IS_SCHOOLBREAK  AVERAGE_TEMPERATURE  \\\n",
       "count  1349.000000  1349.000000     1349.000000          1349.000000   \n",
       "mean   2013.375093     0.285397        0.204596            56.326019   \n",
       "std       1.073073     0.451771        0.403556            20.227597   \n",
       "min    2012.000000     0.000000        0.000000            14.000000   \n",
       "25%    2012.000000     0.000000        0.000000            35.600000   \n",
       "50%    2013.000000     0.000000        0.000000            60.800000   \n",
       "75%    2014.000000     1.000000        0.000000            75.200000   \n",
       "max    2015.000000     1.000000        1.000000            87.800000   \n",
       "\n",
       "        IS_OUTDOOR  \n",
       "count  1349.000000  \n",
       "mean      0.862120  \n",
       "std       0.344902  \n",
       "min       0.000000  \n",
       "25%       1.000000  \n",
       "50%       1.000000  \n",
       "75%       1.000000  \n",
       "max       1.000000  "
      ]
     },
     "execution_count": 13,
     "metadata": {},
     "output_type": "execute_result"
    },
    {
     "data": {
      "text/html": [
       "<div>\n",
       "<style scoped>\n",
       "    .dataframe tbody tr th:only-of-type {\n",
       "        vertical-align: middle;\n",
       "    }\n",
       "\n",
       "    .dataframe tbody tr th {\n",
       "        vertical-align: top;\n",
       "    }\n",
       "\n",
       "    .dataframe thead th {\n",
       "        text-align: right;\n",
       "    }\n",
       "</style>\n",
       "<table border=\"1\" class=\"dataframe\">\n",
       "  <thead>\n",
       "    <tr style=\"text-align: right;\">\n",
       "      <th></th>\n",
       "      <th>CALENDAR_DATE</th>\n",
       "      <th>HOLIDAY</th>\n",
       "    </tr>\n",
       "  </thead>\n",
       "  <tbody>\n",
       "    <tr>\n",
       "      <th>count</th>\n",
       "      <td>1349</td>\n",
       "      <td>105</td>\n",
       "    </tr>\n",
       "    <tr>\n",
       "      <th>unique</th>\n",
       "      <td>1348</td>\n",
       "      <td>8</td>\n",
       "    </tr>\n",
       "    <tr>\n",
       "      <th>top</th>\n",
       "      <td>3/1/13</td>\n",
       "      <td>Luner New Year</td>\n",
       "    </tr>\n",
       "    <tr>\n",
       "      <th>freq</th>\n",
       "      <td>2</td>\n",
       "      <td>28</td>\n",
       "    </tr>\n",
       "  </tbody>\n",
       "</table>\n",
       "</div>"
      ],
      "text/plain": [
       "       CALENDAR_DATE         HOLIDAY\n",
       "count           1349             105\n",
       "unique          1348               8\n",
       "top           3/1/13  Luner New Year\n",
       "freq               2              28"
      ]
     },
     "execution_count": 13,
     "metadata": {},
     "output_type": "execute_result"
    }
   ],
   "source": [
    "date_info.describe()\n",
    "date_info.describe(include = ['O'])"
   ]
  },
  {
   "cell_type": "code",
   "execution_count": 14,
   "metadata": {},
   "outputs": [
    {
     "name": "stdout",
     "output_type": "stream",
     "text": [
      "<class 'pandas.core.frame.DataFrame'>\n",
      "RangeIndex: 1349 entries, 0 to 1348\n",
      "Data columns (total 7 columns):\n",
      " #   Column               Non-Null Count  Dtype  \n",
      "---  ------               --------------  -----  \n",
      " 0   CALENDAR_DATE        1349 non-null   object \n",
      " 1   YEAR                 1349 non-null   int64  \n",
      " 2   HOLIDAY              105 non-null    object \n",
      " 3   IS_WEEKEND           1349 non-null   int64  \n",
      " 4   IS_SCHOOLBREAK       1349 non-null   int64  \n",
      " 5   AVERAGE_TEMPERATURE  1349 non-null   float64\n",
      " 6   IS_OUTDOOR           1349 non-null   int64  \n",
      "dtypes: float64(1), int64(4), object(2)\n",
      "memory usage: 73.9+ KB\n"
     ]
    }
   ],
   "source": [
    "date_info.info()"
   ]
  },
  {
   "cell_type": "code",
   "execution_count": 15,
   "metadata": {},
   "outputs": [],
   "source": [
    "date_info['HOLIDAY'] = date_info['HOLIDAY'].fillna('No Holiday')"
   ]
  },
  {
   "cell_type": "code",
   "execution_count": 16,
   "metadata": {},
   "outputs": [
    {
     "data": {
      "text/plain": [
       "<seaborn.axisgrid.PairGrid at 0x17ac1d42fd0>"
      ]
     },
     "execution_count": 16,
     "metadata": {},
     "output_type": "execute_result"
    },
    {
     "data": {
      "image/png": "[encoded data removed]",
      "text/plain": [
       "<Figure size 900x900 with 30 Axes>"
      ]
     },
     "metadata": {
      "needs_background": "light"
     },
     "output_type": "display_data"
    }
   ],
   "source": [
    "sns.pairplot(date_info)"
   ]
  },
  {
   "cell_type": "code",
   "execution_count": 17,
   "metadata": {},
   "outputs": [
    {
     "data": {
      "text/plain": [
       "array(['New Year', 'No Holiday', 'Luner New Year', 'Qing Ming Festival',\n",
       "       'Labor Day', 'Dragon Boat Festivel', 'Mid-Autumn Day',\n",
       "       'National Day', 'WWII Celebration'], dtype=object)"
      ]
     },
     "execution_count": 17,
     "metadata": {},
     "output_type": "execute_result"
    }
   ],
   "source": [
    "date_info['HOLIDAY'].unique()"
   ]
  },
  {
   "cell_type": "code",
   "execution_count": 18,
   "metadata": {},
   "outputs": [
    {
     "data": {
      "text/plain": [
       "'1/1/12'"
      ]
     },
     "execution_count": 18,
     "metadata": {},
     "output_type": "execute_result"
    },
    {
     "data": {
      "text/plain": [
       "'9/9/15'"
      ]
     },
     "execution_count": 18,
     "metadata": {},
     "output_type": "execute_result"
    }
   ],
   "source": [
    "date_info['CALENDAR_DATE'].min()\n",
    "date_info['CALENDAR_DATE'].max()"
   ]
  },
  {
   "cell_type": "code",
   "execution_count": 19,
   "metadata": {},
   "outputs": [
    {
     "data": {
      "text/plain": [
       "(1349, 7)"
      ]
     },
     "execution_count": 19,
     "metadata": {},
     "output_type": "execute_result"
    }
   ],
   "source": [
    "date_info.shape"
   ]
  },
  {
   "cell_type": "code",
   "execution_count": 20,
   "metadata": {},
   "outputs": [
    {
     "data": {
      "text/html": [
       "<div>\n",
       "<style scoped>\n",
       "    .dataframe tbody tr th:only-of-type {\n",
       "        vertical-align: middle;\n",
       "    }\n",
       "\n",
       "    .dataframe tbody tr th {\n",
       "        vertical-align: top;\n",
       "    }\n",
       "\n",
       "    .dataframe thead th {\n",
       "        text-align: right;\n",
       "    }\n",
       "</style>\n",
       "<table border=\"1\" class=\"dataframe\">\n",
       "  <thead>\n",
       "    <tr style=\"text-align: right;\">\n",
       "      <th></th>\n",
       "      <th>CALENDAR_DATE</th>\n",
       "      <th>YEAR</th>\n",
       "      <th>HOLIDAY</th>\n",
       "      <th>IS_WEEKEND</th>\n",
       "      <th>IS_SCHOOLBREAK</th>\n",
       "      <th>AVERAGE_TEMPERATURE</th>\n",
       "      <th>IS_OUTDOOR</th>\n",
       "    </tr>\n",
       "  </thead>\n",
       "  <tbody>\n",
       "  </tbody>\n",
       "</table>\n",
       "</div>"
      ],
      "text/plain": [
       "Empty DataFrame\n",
       "Columns: [CALENDAR_DATE, YEAR, HOLIDAY, IS_WEEKEND, IS_SCHOOLBREAK, AVERAGE_TEMPERATURE, IS_OUTDOOR]\n",
       "Index: []"
      ]
     },
     "execution_count": 20,
     "metadata": {},
     "output_type": "execute_result"
    }
   ],
   "source": [
    "date_info[date_info.isna().any(axis=1)]"
   ]
  },
  {
   "cell_type": "markdown",
   "metadata": {},
   "source": [
    "### Data Merging"
   ]
  },
  {
   "cell_type": "code",
   "execution_count": 21,
   "metadata": {
    "scrolled": true
   },
   "outputs": [
    {
     "data": {
      "text/html": [
       "<div>\n",
       "<style scoped>\n",
       "    .dataframe tbody tr th:only-of-type {\n",
       "        vertical-align: middle;\n",
       "    }\n",
       "\n",
       "    .dataframe tbody tr th {\n",
       "        vertical-align: top;\n",
       "    }\n",
       "\n",
       "    .dataframe thead th {\n",
       "        text-align: right;\n",
       "    }\n",
       "</style>\n",
       "<table border=\"1\" class=\"dataframe\">\n",
       "  <thead>\n",
       "    <tr style=\"text-align: right;\">\n",
       "      <th></th>\n",
       "      <th>SELL_ID</th>\n",
       "      <th>BURGER</th>\n",
       "      <th>COFFEE</th>\n",
       "      <th>COKE</th>\n",
       "      <th>LEMONADE</th>\n",
       "    </tr>\n",
       "    <tr>\n",
       "      <th>SELL_ID</th>\n",
       "      <th></th>\n",
       "      <th></th>\n",
       "      <th></th>\n",
       "      <th></th>\n",
       "      <th></th>\n",
       "    </tr>\n",
       "  </thead>\n",
       "  <tbody>\n",
       "    <tr>\n",
       "      <th>1070</th>\n",
       "      <td>1070</td>\n",
       "      <td>1</td>\n",
       "      <td>0</td>\n",
       "      <td>0</td>\n",
       "      <td>0</td>\n",
       "    </tr>\n",
       "    <tr>\n",
       "      <th>2051</th>\n",
       "      <td>4102</td>\n",
       "      <td>1</td>\n",
       "      <td>0</td>\n",
       "      <td>1</td>\n",
       "      <td>0</td>\n",
       "    </tr>\n",
       "    <tr>\n",
       "      <th>2052</th>\n",
       "      <td>4104</td>\n",
       "      <td>1</td>\n",
       "      <td>0</td>\n",
       "      <td>0</td>\n",
       "      <td>1</td>\n",
       "    </tr>\n",
       "    <tr>\n",
       "      <th>2053</th>\n",
       "      <td>6159</td>\n",
       "      <td>1</td>\n",
       "      <td>1</td>\n",
       "      <td>1</td>\n",
       "      <td>0</td>\n",
       "    </tr>\n",
       "    <tr>\n",
       "      <th>3028</th>\n",
       "      <td>3028</td>\n",
       "      <td>0</td>\n",
       "      <td>0</td>\n",
       "      <td>0</td>\n",
       "      <td>1</td>\n",
       "    </tr>\n",
       "    <tr>\n",
       "      <th>3055</th>\n",
       "      <td>3055</td>\n",
       "      <td>0</td>\n",
       "      <td>1</td>\n",
       "      <td>0</td>\n",
       "      <td>0</td>\n",
       "    </tr>\n",
       "    <tr>\n",
       "      <th>3067</th>\n",
       "      <td>3067</td>\n",
       "      <td>0</td>\n",
       "      <td>0</td>\n",
       "      <td>1</td>\n",
       "      <td>0</td>\n",
       "    </tr>\n",
       "  </tbody>\n",
       "</table>\n",
       "</div>"
      ],
      "text/plain": [
       "         SELL_ID  BURGER  COFFEE  COKE  LEMONADE\n",
       "SELL_ID                                         \n",
       "1070        1070       1       0     0         0\n",
       "2051        4102       1       0     1         0\n",
       "2052        4104       1       0     0         1\n",
       "2053        6159       1       1     1         0\n",
       "3028        3028       0       0     0         1\n",
       "3055        3055       0       1     0         0\n",
       "3067        3067       0       0     1         0"
      ]
     },
     "execution_count": 21,
     "metadata": {},
     "output_type": "execute_result"
    }
   ],
   "source": [
    "#Check items sold in a SELL_ID\n",
    "pd.concat([sold['SELL_ID'], pd.get_dummies(sold['ITEM_NAME'])], axis=1).groupby(sold['SELL_ID']).sum()"
   ]
  },
  {
   "cell_type": "code",
   "execution_count": 22,
   "metadata": {
    "scrolled": true
   },
   "outputs": [
    {
     "data": {
      "text/html": [
       "<div>\n",
       "<style scoped>\n",
       "    .dataframe tbody tr th:only-of-type {\n",
       "        vertical-align: middle;\n",
       "    }\n",
       "\n",
       "    .dataframe tbody tr th {\n",
       "        vertical-align: top;\n",
       "    }\n",
       "\n",
       "    .dataframe thead th {\n",
       "        text-align: right;\n",
       "    }\n",
       "</style>\n",
       "<table border=\"1\" class=\"dataframe\">\n",
       "  <thead>\n",
       "    <tr style=\"text-align: right;\">\n",
       "      <th></th>\n",
       "      <th></th>\n",
       "      <th></th>\n",
       "      <th></th>\n",
       "      <th></th>\n",
       "      <th>QUANTITY</th>\n",
       "    </tr>\n",
       "    <tr>\n",
       "      <th>SELL_ID</th>\n",
       "      <th>SELL_CATEGORY</th>\n",
       "      <th>ITEM_NAME</th>\n",
       "      <th>CALENDAR_DATE</th>\n",
       "      <th>PRICE</th>\n",
       "      <th></th>\n",
       "    </tr>\n",
       "  </thead>\n",
       "  <tbody>\n",
       "    <tr>\n",
       "      <th rowspan=\"5\" valign=\"top\">1070</th>\n",
       "      <th rowspan=\"5\" valign=\"top\">0</th>\n",
       "      <th rowspan=\"5\" valign=\"top\">BURGER</th>\n",
       "      <th>01/01/12</th>\n",
       "      <th>15.5</th>\n",
       "      <td>46</td>\n",
       "    </tr>\n",
       "    <tr>\n",
       "      <th>01/01/13</th>\n",
       "      <th>15.5</th>\n",
       "      <td>60</td>\n",
       "    </tr>\n",
       "    <tr>\n",
       "      <th>01/01/14</th>\n",
       "      <th>15.5</th>\n",
       "      <td>72</td>\n",
       "    </tr>\n",
       "    <tr>\n",
       "      <th>01/01/15</th>\n",
       "      <th>14.0</th>\n",
       "      <td>66</td>\n",
       "    </tr>\n",
       "    <tr>\n",
       "      <th>01/02/12</th>\n",
       "      <th>15.5</th>\n",
       "      <td>70</td>\n",
       "    </tr>\n",
       "  </tbody>\n",
       "</table>\n",
       "</div>"
      ],
      "text/plain": [
       "                                                     QUANTITY\n",
       "SELL_ID SELL_CATEGORY ITEM_NAME CALENDAR_DATE PRICE          \n",
       "1070    0             BURGER    01/01/12      15.5         46\n",
       "                                01/01/13      15.5         60\n",
       "                                01/01/14      15.5         72\n",
       "                                01/01/15      14.0         66\n",
       "                                01/02/12      15.5         70"
      ]
     },
     "execution_count": 22,
     "metadata": {},
     "output_type": "execute_result"
    }
   ],
   "source": [
    "#Group data based on SELL ID\n",
    "data1 = pd.merge(sold.drop(['ITEM_ID'], axis=1), transactions.drop(['SELL_CATEGORY'], axis=1))\n",
    "data1_grouped = data1.groupby(['SELL_ID', 'SELL_CATEGORY', 'ITEM_NAME', 'CALENDAR_DATE', 'PRICE']).sum()\n",
    "\n",
    "data1_grouped.head()"
   ]
  },
  {
   "cell_type": "code",
   "execution_count": 23,
   "metadata": {},
   "outputs": [
    {
     "data": {
      "text/html": [
       "<div>\n",
       "<style scoped>\n",
       "    .dataframe tbody tr th:only-of-type {\n",
       "        vertical-align: middle;\n",
       "    }\n",
       "\n",
       "    .dataframe tbody tr th {\n",
       "        vertical-align: top;\n",
       "    }\n",
       "\n",
       "    .dataframe thead th {\n",
       "        text-align: right;\n",
       "    }\n",
       "</style>\n",
       "<table border=\"1\" class=\"dataframe\">\n",
       "  <thead>\n",
       "    <tr style=\"text-align: right;\">\n",
       "      <th></th>\n",
       "      <th>SELL_ID</th>\n",
       "      <th>SELL_CATEGORY</th>\n",
       "      <th>ITEM_NAME</th>\n",
       "      <th>CALENDAR_DATE</th>\n",
       "      <th>PRICE</th>\n",
       "      <th>QUANTITY</th>\n",
       "    </tr>\n",
       "  </thead>\n",
       "  <tbody>\n",
       "    <tr>\n",
       "      <th>0</th>\n",
       "      <td>1070</td>\n",
       "      <td>0</td>\n",
       "      <td>BURGER</td>\n",
       "      <td>01/01/12</td>\n",
       "      <td>15.5</td>\n",
       "      <td>46</td>\n",
       "    </tr>\n",
       "    <tr>\n",
       "      <th>1</th>\n",
       "      <td>1070</td>\n",
       "      <td>0</td>\n",
       "      <td>BURGER</td>\n",
       "      <td>01/01/13</td>\n",
       "      <td>15.5</td>\n",
       "      <td>60</td>\n",
       "    </tr>\n",
       "    <tr>\n",
       "      <th>2</th>\n",
       "      <td>1070</td>\n",
       "      <td>0</td>\n",
       "      <td>BURGER</td>\n",
       "      <td>01/01/14</td>\n",
       "      <td>15.5</td>\n",
       "      <td>72</td>\n",
       "    </tr>\n",
       "    <tr>\n",
       "      <th>3</th>\n",
       "      <td>1070</td>\n",
       "      <td>0</td>\n",
       "      <td>BURGER</td>\n",
       "      <td>01/01/15</td>\n",
       "      <td>14.0</td>\n",
       "      <td>66</td>\n",
       "    </tr>\n",
       "    <tr>\n",
       "      <th>4</th>\n",
       "      <td>1070</td>\n",
       "      <td>0</td>\n",
       "      <td>BURGER</td>\n",
       "      <td>01/02/12</td>\n",
       "      <td>15.5</td>\n",
       "      <td>70</td>\n",
       "    </tr>\n",
       "  </tbody>\n",
       "</table>\n",
       "</div>"
      ],
      "text/plain": [
       "   SELL_ID  SELL_CATEGORY ITEM_NAME CALENDAR_DATE  PRICE  QUANTITY\n",
       "0     1070              0    BURGER      01/01/12   15.5        46\n",
       "1     1070              0    BURGER      01/01/13   15.5        60\n",
       "2     1070              0    BURGER      01/01/14   15.5        72\n",
       "3     1070              0    BURGER      01/01/15   14.0        66\n",
       "4     1070              0    BURGER      01/02/12   15.5        70"
      ]
     },
     "execution_count": 23,
     "metadata": {},
     "output_type": "execute_result"
    }
   ],
   "source": [
    "#Filling out data from merged data\n",
    "data2 = data1_grouped.reset_index()\n",
    "data2.head()"
   ]
  },
  {
   "cell_type": "code",
   "execution_count": 24,
   "metadata": {},
   "outputs": [
    {
     "data": {
      "text/plain": [
       "(10808, 6)"
      ]
     },
     "execution_count": 24,
     "metadata": {},
     "output_type": "execute_result"
    },
    {
     "data": {
      "text/plain": [
       "(10792, 1)"
      ]
     },
     "execution_count": 24,
     "metadata": {},
     "output_type": "execute_result"
    },
    {
     "data": {
      "text/plain": [
       "(10792, 6)"
      ]
     },
     "execution_count": 24,
     "metadata": {},
     "output_type": "execute_result"
    }
   ],
   "source": [
    "#displaying shapes\n",
    "data1.shape\n",
    "data1_grouped.shape\n",
    "data2.shape"
   ]
  },
  {
   "cell_type": "code",
   "execution_count": 25,
   "metadata": {},
   "outputs": [
    {
     "data": {
      "text/plain": [
       "'01/01/12'"
      ]
     },
     "execution_count": 25,
     "metadata": {},
     "output_type": "execute_result"
    },
    {
     "data": {
      "text/plain": [
       "'9/30/14'"
      ]
     },
     "execution_count": 25,
     "metadata": {},
     "output_type": "execute_result"
    }
   ],
   "source": [
    "#Date range from merged data\n",
    "data2['CALENDAR_DATE'].min()\n",
    "data2['CALENDAR_DATE'].max()"
   ]
  },
  {
   "cell_type": "code",
   "execution_count": 26,
   "metadata": {},
   "outputs": [
    {
     "data": {
      "text/html": [
       "<div>\n",
       "<style scoped>\n",
       "    .dataframe tbody tr th:only-of-type {\n",
       "        vertical-align: middle;\n",
       "    }\n",
       "\n",
       "    .dataframe tbody tr th {\n",
       "        vertical-align: top;\n",
       "    }\n",
       "\n",
       "    .dataframe thead th {\n",
       "        text-align: right;\n",
       "    }\n",
       "</style>\n",
       "<table border=\"1\" class=\"dataframe\">\n",
       "  <thead>\n",
       "    <tr style=\"text-align: right;\">\n",
       "      <th></th>\n",
       "      <th>SELL_ID</th>\n",
       "      <th>SELL_CATEGORY</th>\n",
       "      <th>ITEM_NAME</th>\n",
       "      <th>CALENDAR_DATE</th>\n",
       "      <th>PRICE</th>\n",
       "      <th>QUANTITY</th>\n",
       "      <th>YEAR</th>\n",
       "      <th>HOLIDAY</th>\n",
       "      <th>IS_WEEKEND</th>\n",
       "      <th>IS_SCHOOLBREAK</th>\n",
       "      <th>AVERAGE_TEMPERATURE</th>\n",
       "      <th>IS_OUTDOOR</th>\n",
       "    </tr>\n",
       "  </thead>\n",
       "  <tbody>\n",
       "    <tr>\n",
       "      <th>0</th>\n",
       "      <td>1070</td>\n",
       "      <td>0</td>\n",
       "      <td>BURGER</td>\n",
       "      <td>1/13/12</td>\n",
       "      <td>15.50</td>\n",
       "      <td>100</td>\n",
       "      <td>2012</td>\n",
       "      <td>No Holiday</td>\n",
       "      <td>0</td>\n",
       "      <td>0</td>\n",
       "      <td>26.6</td>\n",
       "      <td>0</td>\n",
       "    </tr>\n",
       "    <tr>\n",
       "      <th>1</th>\n",
       "      <td>2051</td>\n",
       "      <td>2</td>\n",
       "      <td>BURGER</td>\n",
       "      <td>1/13/12</td>\n",
       "      <td>12.73</td>\n",
       "      <td>40</td>\n",
       "      <td>2012</td>\n",
       "      <td>No Holiday</td>\n",
       "      <td>0</td>\n",
       "      <td>0</td>\n",
       "      <td>26.6</td>\n",
       "      <td>0</td>\n",
       "    </tr>\n",
       "    <tr>\n",
       "      <th>2</th>\n",
       "      <td>2051</td>\n",
       "      <td>2</td>\n",
       "      <td>COKE</td>\n",
       "      <td>1/13/12</td>\n",
       "      <td>12.73</td>\n",
       "      <td>40</td>\n",
       "      <td>2012</td>\n",
       "      <td>No Holiday</td>\n",
       "      <td>0</td>\n",
       "      <td>0</td>\n",
       "      <td>26.6</td>\n",
       "      <td>0</td>\n",
       "    </tr>\n",
       "    <tr>\n",
       "      <th>3</th>\n",
       "      <td>2052</td>\n",
       "      <td>2</td>\n",
       "      <td>BURGER</td>\n",
       "      <td>1/13/12</td>\n",
       "      <td>12.75</td>\n",
       "      <td>26</td>\n",
       "      <td>2012</td>\n",
       "      <td>No Holiday</td>\n",
       "      <td>0</td>\n",
       "      <td>0</td>\n",
       "      <td>26.6</td>\n",
       "      <td>0</td>\n",
       "    </tr>\n",
       "    <tr>\n",
       "      <th>4</th>\n",
       "      <td>2052</td>\n",
       "      <td>2</td>\n",
       "      <td>LEMONADE</td>\n",
       "      <td>1/13/12</td>\n",
       "      <td>12.75</td>\n",
       "      <td>26</td>\n",
       "      <td>2012</td>\n",
       "      <td>No Holiday</td>\n",
       "      <td>0</td>\n",
       "      <td>0</td>\n",
       "      <td>26.6</td>\n",
       "      <td>0</td>\n",
       "    </tr>\n",
       "  </tbody>\n",
       "</table>\n",
       "</div>"
      ],
      "text/plain": [
       "   SELL_ID  SELL_CATEGORY ITEM_NAME CALENDAR_DATE  PRICE  QUANTITY  YEAR  \\\n",
       "0     1070              0    BURGER       1/13/12  15.50       100  2012   \n",
       "1     2051              2    BURGER       1/13/12  12.73        40  2012   \n",
       "2     2051              2      COKE       1/13/12  12.73        40  2012   \n",
       "3     2052              2    BURGER       1/13/12  12.75        26  2012   \n",
       "4     2052              2  LEMONADE       1/13/12  12.75        26  2012   \n",
       "\n",
       "      HOLIDAY  IS_WEEKEND  IS_SCHOOLBREAK  AVERAGE_TEMPERATURE  IS_OUTDOOR  \n",
       "0  No Holiday           0               0                 26.6           0  \n",
       "1  No Holiday           0               0                 26.6           0  \n",
       "2  No Holiday           0               0                 26.6           0  \n",
       "3  No Holiday           0               0                 26.6           0  \n",
       "4  No Holiday           0               0                 26.6           0  "
      ]
     },
     "execution_count": 26,
     "metadata": {},
     "output_type": "execute_result"
    }
   ],
   "source": [
    "#merge data with date_info dataset\n",
    "data3 = pd.merge(data2, date_info, on = 'CALENDAR_DATE')\n",
    "data3.head()"
   ]
  },
  {
   "cell_type": "code",
   "execution_count": 27,
   "metadata": {},
   "outputs": [
    {
     "data": {
      "text/plain": [
       "(6696, 12)"
      ]
     },
     "execution_count": 27,
     "metadata": {},
     "output_type": "execute_result"
    }
   ],
   "source": [
    "#Displaying shape\n",
    "data3.shape"
   ]
  },
  {
   "cell_type": "code",
   "execution_count": 28,
   "metadata": {},
   "outputs": [
    {
     "data": {
      "text/html": [
       "<div>\n",
       "<style scoped>\n",
       "    .dataframe tbody tr th:only-of-type {\n",
       "        vertical-align: middle;\n",
       "    }\n",
       "\n",
       "    .dataframe tbody tr th {\n",
       "        vertical-align: top;\n",
       "    }\n",
       "\n",
       "    .dataframe thead th {\n",
       "        text-align: right;\n",
       "    }\n",
       "</style>\n",
       "<table border=\"1\" class=\"dataframe\">\n",
       "  <thead>\n",
       "    <tr style=\"text-align: right;\">\n",
       "      <th></th>\n",
       "      <th>SELL_ID</th>\n",
       "      <th>SELL_CATEGORY</th>\n",
       "      <th>ITEM_NAME</th>\n",
       "      <th>CALENDAR_DATE</th>\n",
       "      <th>PRICE</th>\n",
       "      <th>QUANTITY</th>\n",
       "      <th>YEAR</th>\n",
       "      <th>HOLIDAY</th>\n",
       "      <th>IS_WEEKEND</th>\n",
       "      <th>IS_SCHOOLBREAK</th>\n",
       "      <th>AVERAGE_TEMPERATURE</th>\n",
       "      <th>IS_OUTDOOR</th>\n",
       "    </tr>\n",
       "  </thead>\n",
       "  <tbody>\n",
       "  </tbody>\n",
       "</table>\n",
       "</div>"
      ],
      "text/plain": [
       "Empty DataFrame\n",
       "Columns: [SELL_ID, SELL_CATEGORY, ITEM_NAME, CALENDAR_DATE, PRICE, QUANTITY, YEAR, HOLIDAY, IS_WEEKEND, IS_SCHOOLBREAK, AVERAGE_TEMPERATURE, IS_OUTDOOR]\n",
       "Index: []"
      ]
     },
     "execution_count": 28,
     "metadata": {},
     "output_type": "execute_result"
    }
   ],
   "source": [
    "#check NA values\n",
    "data3[data3.isna().any(axis=1)]"
   ]
  },
  {
   "cell_type": "code",
   "execution_count": 29,
   "metadata": {},
   "outputs": [
    {
     "data": {
      "text/plain": [
       "array(['Dragon Boat Festivel', 'Labor Day', 'Luner New Year',\n",
       "       'Mid-Autumn Day', 'No Holiday'], dtype=object)"
      ]
     },
     "execution_count": 29,
     "metadata": {},
     "output_type": "execute_result"
    },
    {
     "data": {
      "text/plain": [
       "array([0, 1], dtype=int64)"
      ]
     },
     "execution_count": 29,
     "metadata": {},
     "output_type": "execute_result"
    },
    {
     "data": {
      "text/plain": [
       "array([0, 1], dtype=int64)"
      ]
     },
     "execution_count": 29,
     "metadata": {},
     "output_type": "execute_result"
    }
   ],
   "source": [
    "#check unique values\n",
    "np.unique(data3['HOLIDAY'])\n",
    "np.unique(data3['IS_WEEKEND'])\n",
    "np.unique(data3['IS_SCHOOLBREAK'])"
   ]
  },
  {
   "cell_type": "code",
   "execution_count": 30,
   "metadata": {},
   "outputs": [
    {
     "data": {
      "text/html": [
       "<div>\n",
       "<style scoped>\n",
       "    .dataframe tbody tr th:only-of-type {\n",
       "        vertical-align: middle;\n",
       "    }\n",
       "\n",
       "    .dataframe tbody tr th {\n",
       "        vertical-align: top;\n",
       "    }\n",
       "\n",
       "    .dataframe thead th {\n",
       "        text-align: right;\n",
       "    }\n",
       "</style>\n",
       "<table border=\"1\" class=\"dataframe\">\n",
       "  <thead>\n",
       "    <tr style=\"text-align: right;\">\n",
       "      <th></th>\n",
       "      <th>SELL_ID</th>\n",
       "      <th>SELL_CATEGORY</th>\n",
       "      <th>ITEM_NAME</th>\n",
       "      <th>CALENDAR_DATE</th>\n",
       "      <th>PRICE</th>\n",
       "      <th>QUANTITY</th>\n",
       "      <th>YEAR</th>\n",
       "      <th>HOLIDAY</th>\n",
       "      <th>IS_WEEKEND</th>\n",
       "      <th>IS_SCHOOLBREAK</th>\n",
       "      <th>AVERAGE_TEMPERATURE</th>\n",
       "      <th>IS_OUTDOOR</th>\n",
       "    </tr>\n",
       "  </thead>\n",
       "  <tbody>\n",
       "    <tr>\n",
       "      <th>0</th>\n",
       "      <td>1070</td>\n",
       "      <td>0</td>\n",
       "      <td>BURGER</td>\n",
       "      <td>1/13/12</td>\n",
       "      <td>15.50</td>\n",
       "      <td>100</td>\n",
       "      <td>2012</td>\n",
       "      <td>No Holiday</td>\n",
       "      <td>0</td>\n",
       "      <td>0</td>\n",
       "      <td>26.6</td>\n",
       "      <td>0</td>\n",
       "    </tr>\n",
       "    <tr>\n",
       "      <th>1</th>\n",
       "      <td>2051</td>\n",
       "      <td>2</td>\n",
       "      <td>BURGER</td>\n",
       "      <td>1/13/12</td>\n",
       "      <td>12.73</td>\n",
       "      <td>40</td>\n",
       "      <td>2012</td>\n",
       "      <td>No Holiday</td>\n",
       "      <td>0</td>\n",
       "      <td>0</td>\n",
       "      <td>26.6</td>\n",
       "      <td>0</td>\n",
       "    </tr>\n",
       "    <tr>\n",
       "      <th>2</th>\n",
       "      <td>2051</td>\n",
       "      <td>2</td>\n",
       "      <td>COKE</td>\n",
       "      <td>1/13/12</td>\n",
       "      <td>12.73</td>\n",
       "      <td>40</td>\n",
       "      <td>2012</td>\n",
       "      <td>No Holiday</td>\n",
       "      <td>0</td>\n",
       "      <td>0</td>\n",
       "      <td>26.6</td>\n",
       "      <td>0</td>\n",
       "    </tr>\n",
       "    <tr>\n",
       "      <th>3</th>\n",
       "      <td>2052</td>\n",
       "      <td>2</td>\n",
       "      <td>BURGER</td>\n",
       "      <td>1/13/12</td>\n",
       "      <td>12.75</td>\n",
       "      <td>26</td>\n",
       "      <td>2012</td>\n",
       "      <td>No Holiday</td>\n",
       "      <td>0</td>\n",
       "      <td>0</td>\n",
       "      <td>26.6</td>\n",
       "      <td>0</td>\n",
       "    </tr>\n",
       "    <tr>\n",
       "      <th>4</th>\n",
       "      <td>2052</td>\n",
       "      <td>2</td>\n",
       "      <td>LEMONADE</td>\n",
       "      <td>1/13/12</td>\n",
       "      <td>12.75</td>\n",
       "      <td>26</td>\n",
       "      <td>2012</td>\n",
       "      <td>No Holiday</td>\n",
       "      <td>0</td>\n",
       "      <td>0</td>\n",
       "      <td>26.6</td>\n",
       "      <td>0</td>\n",
       "    </tr>\n",
       "  </tbody>\n",
       "</table>\n",
       "</div>"
      ],
      "text/plain": [
       "   SELL_ID  SELL_CATEGORY ITEM_NAME CALENDAR_DATE  PRICE  QUANTITY  YEAR  \\\n",
       "0     1070              0    BURGER       1/13/12  15.50       100  2012   \n",
       "1     2051              2    BURGER       1/13/12  12.73        40  2012   \n",
       "2     2051              2      COKE       1/13/12  12.73        40  2012   \n",
       "3     2052              2    BURGER       1/13/12  12.75        26  2012   \n",
       "4     2052              2  LEMONADE       1/13/12  12.75        26  2012   \n",
       "\n",
       "      HOLIDAY  IS_WEEKEND  IS_SCHOOLBREAK  AVERAGE_TEMPERATURE  IS_OUTDOOR  \n",
       "0  No Holiday           0               0                 26.6           0  \n",
       "1  No Holiday           0               0                 26.6           0  \n",
       "2  No Holiday           0               0                 26.6           0  \n",
       "3  No Holiday           0               0                 26.6           0  \n",
       "4  No Holiday           0               0                 26.6           0  "
      ]
     },
     "execution_count": 30,
     "metadata": {},
     "output_type": "execute_result"
    }
   ],
   "source": [
    "#filter data for Business As Usual (BAU) data\n",
    "mask = (data3['HOLIDAY'] == 'No Holiday') & (data3['IS_WEEKEND'] == 0) & (data3['IS_SCHOOLBREAK'] == 0)\n",
    "BAU_data = data3[mask]\n",
    "\n",
    "BAU_data.head()"
   ]
  },
  {
   "cell_type": "code",
   "execution_count": 31,
   "metadata": {},
   "outputs": [
    {
     "data": {
      "text/plain": [
       "(3768, 12)"
      ]
     },
     "execution_count": 31,
     "metadata": {},
     "output_type": "execute_result"
    }
   ],
   "source": [
    "#check shape\n",
    "BAU_data.shape"
   ]
  },
  {
   "cell_type": "code",
   "execution_count": 32,
   "metadata": {},
   "outputs": [
    {
     "data": {
      "text/plain": [
       "array(['No Holiday'], dtype=object)"
      ]
     },
     "execution_count": 32,
     "metadata": {},
     "output_type": "execute_result"
    },
    {
     "data": {
      "text/plain": [
       "array([0], dtype=int64)"
      ]
     },
     "execution_count": 32,
     "metadata": {},
     "output_type": "execute_result"
    },
    {
     "data": {
      "text/plain": [
       "array([0], dtype=int64)"
      ]
     },
     "execution_count": 32,
     "metadata": {},
     "output_type": "execute_result"
    }
   ],
   "source": [
    "#check unique values\n",
    "np.unique(BAU_data['HOLIDAY'])\n",
    "np.unique(BAU_data['IS_WEEKEND'])\n",
    "np.unique(BAU_data['IS_SCHOOLBREAK'])"
   ]
  },
  {
   "cell_type": "markdown",
   "metadata": {},
   "source": [
    "#### Dataset Exploration"
   ]
  },
  {
   "cell_type": "code",
   "execution_count": 33,
   "metadata": {},
   "outputs": [
    {
     "data": {
      "text/plain": [
       "(array([1884.,    0.,    0.,  942.,    0.,    0.,  471.,    0.,    0.,\n",
       "         471.]),\n",
       " array([0. , 0.3, 0.6, 0.9, 1.2, 1.5, 1.8, 2.1, 2.4, 2.7, 3. ]),\n",
       " <BarContainer object of 10 artists>)"
      ]
     },
     "execution_count": 33,
     "metadata": {},
     "output_type": "execute_result"
    },
    {
     "data": {
      "image/png": "[encoded data removed]",
      "text/plain": [
       "<Figure size 432x288 with 1 Axes>"
      ]
     },
     "metadata": {
      "needs_background": "light"
     },
     "output_type": "display_data"
    }
   ],
   "source": [
    "#Check item name distribution\n",
    "plt.hist(BAU_data['ITEM_NAME'])"
   ]
  },
  {
   "cell_type": "code",
   "execution_count": 34,
   "metadata": {},
   "outputs": [
    {
     "data": {
      "text/plain": [
       "(array([ 411.,  388.,  441., 1159.,  790.,  108.,  122.,  111.,  174.,\n",
       "          64.]),\n",
       " array([10.12 , 10.758, 11.396, 12.034, 12.672, 13.31 , 13.948, 14.586,\n",
       "        15.224, 15.862, 16.5  ]),\n",
       " <BarContainer object of 10 artists>)"
      ]
     },
     "execution_count": 34,
     "metadata": {},
     "output_type": "execute_result"
    },
    {
     "data": {
      "text/plain": [
       "Text(0.5, 0, 'Price')"
      ]
     },
     "execution_count": 34,
     "metadata": {},
     "output_type": "execute_result"
    },
    {
     "data": {
      "text/plain": [
       "Text(0, 0.5, 'Number of Occurence')"
      ]
     },
     "execution_count": 34,
     "metadata": {},
     "output_type": "execute_result"
    },
    {
     "data": {
      "image/png": "[encoded data removed]",
      "text/plain": [
       "<Figure size 432x288 with 1 Axes>"
      ]
     },
     "metadata": {
      "needs_background": "light"
     },
     "output_type": "display_data"
    }
   ],
   "source": [
    "#check price distribution\n",
    "plt.hist(BAU_data['PRICE'])\n",
    "plt.xlabel('Price')\n",
    "plt.ylabel('Number of Occurence')"
   ]
  },
  {
   "cell_type": "code",
   "execution_count": 35,
   "metadata": {},
   "outputs": [
    {
     "data": {
      "text/plain": [
       "<matplotlib.collections.PathCollection at 0x17ac2fd8fd0>"
      ]
     },
     "execution_count": 35,
     "metadata": {},
     "output_type": "execute_result"
    },
    {
     "data": {
      "text/plain": [
       "Text(0.5, 0, 'Price')"
      ]
     },
     "execution_count": 35,
     "metadata": {},
     "output_type": "execute_result"
    },
    {
     "data": {
      "text/plain": [
       "Text(0, 0.5, 'Quantity')"
      ]
     },
     "execution_count": 35,
     "metadata": {},
     "output_type": "execute_result"
    },
    {
     "data": {
      "image/png": "[encoded data removed]",
      "text/plain": [
       "<Figure size 432x288 with 1 Axes>"
      ]
     },
     "metadata": {
      "needs_background": "light"
     },
     "output_type": "display_data"
    }
   ],
   "source": [
    "#check relationship between PRICE and QUANTITY\n",
    "plt.scatter(BAU_data['PRICE'], BAU_data['QUANTITY'])\n",
    "plt.xlabel('Price')\n",
    "plt.ylabel('Quantity')"
   ]
  },
  {
   "cell_type": "markdown",
   "metadata": {},
   "source": [
    "#### Burger Data"
   ]
  },
  {
   "cell_type": "code",
   "execution_count": 36,
   "metadata": {},
   "outputs": [
    {
     "data": {
      "text/plain": [
       "(837, 12)"
      ]
     },
     "execution_count": 36,
     "metadata": {},
     "output_type": "execute_result"
    },
    {
     "data": {
      "text/plain": [
       "<AxesSubplot:xlabel='PRICE', ylabel='QUANTITY'>"
      ]
     },
     "execution_count": 36,
     "metadata": {},
     "output_type": "execute_result"
    },
    {
     "data": {
      "image/png": "[encoded data removed]",
      "text/plain": [
       "<Figure size 432x288 with 1 Axes>"
      ]
     },
     "metadata": {
      "needs_background": "light"
     },
     "output_type": "display_data"
    }
   ],
   "source": [
    "burger = data3[data3['ITEM_NAME'] == 'BURGER']\n",
    "burger_1070 = burger[burger['SELL_ID'] == 1070]\n",
    "burger_1070.shape\n",
    "sns.scatterplot(data=burger_1070, x='PRICE', y='QUANTITY', alpha=0.2)"
   ]
  },
  {
   "cell_type": "markdown",
   "metadata": {},
   "source": [
    "### Modeling"
   ]
  },
  {
   "cell_type": "code",
   "execution_count": 37,
   "metadata": {},
   "outputs": [
    {
     "name": "stdout",
     "output_type": "stream",
     "text": [
      "                            OLS Regression Results                            \n",
      "==============================================================================\n",
      "Dep. Variable:               QUANTITY   R-squared:                       0.156\n",
      "Model:                            OLS   Adj. R-squared:                  0.155\n",
      "Method:                 Least Squares   F-statistic:                     153.9\n",
      "Date:                Tue, 22 Nov 2022   Prob (F-statistic):           1.45e-32\n",
      "Time:                        13:24:30   Log-Likelihood:                -3436.0\n",
      "No. Observations:                 837   AIC:                             6876.\n",
      "Df Residuals:                     835   BIC:                             6885.\n",
      "Df Model:                           1                                         \n",
      "Covariance Type:            nonrobust                                         \n",
      "==============================================================================\n",
      "                 coef    std err          t      P>|t|      [0.025      0.975]\n",
      "------------------------------------------------------------------------------\n",
      "Intercept    210.9859     10.353     20.379      0.000     190.665     231.307\n",
      "PRICE         -8.4660      0.682    -12.407      0.000      -9.805      -7.127\n",
      "==============================================================================\n",
      "Omnibus:                       42.869   Durbin-Watson:                   1.714\n",
      "Prob(Omnibus):                  0.000   Jarque-Bera (JB):               34.664\n",
      "Skew:                          -0.414   Prob(JB):                     2.97e-08\n",
      "Kurtosis:                       2.446   Cond. No.                         311.\n",
      "==============================================================================\n",
      "\n",
      "Notes:\n",
      "[1] Standard Errors assume that the covariance matrix of the errors is correctly specified.\n"
     ]
    }
   ],
   "source": [
    "burger_model = ols(\"QUANTITY ~ PRICE\", data=burger_1070).fit()\n",
    "print(burger_model.summary())"
   ]
  },
  {
   "cell_type": "code",
   "execution_count": 38,
   "metadata": {},
   "outputs": [
    {
     "name": "stdout",
     "output_type": "stream",
     "text": [
      "eval_env: 1\n",
      "eval_env: 1\n"
     ]
    },
    {
     "data": {
      "image/png": "[encoded data removed]",
      "text/plain": [
       "<Figure size 864x576 with 2 Axes>"
      ]
     },
     "metadata": {
      "needs_background": "light"
     },
     "output_type": "display_data"
    }
   ],
   "source": [
    "fig = plt.figure(figsize=(12,8))\n",
    "fig = sm.graphics.plot_partregress_grid(burger_model, fig=fig)"
   ]
  },
  {
   "cell_type": "code",
   "execution_count": 39,
   "metadata": {},
   "outputs": [
    {
     "data": {
      "text/plain": [
       "(471, 12)"
      ]
     },
     "execution_count": 39,
     "metadata": {},
     "output_type": "execute_result"
    },
    {
     "data": {
      "text/html": [
       "<div>\n",
       "<style scoped>\n",
       "    .dataframe tbody tr th:only-of-type {\n",
       "        vertical-align: middle;\n",
       "    }\n",
       "\n",
       "    .dataframe tbody tr th {\n",
       "        vertical-align: top;\n",
       "    }\n",
       "\n",
       "    .dataframe thead th {\n",
       "        text-align: right;\n",
       "    }\n",
       "</style>\n",
       "<table border=\"1\" class=\"dataframe\">\n",
       "  <thead>\n",
       "    <tr style=\"text-align: right;\">\n",
       "      <th></th>\n",
       "      <th>SELL_ID</th>\n",
       "      <th>SELL_CATEGORY</th>\n",
       "      <th>ITEM_NAME</th>\n",
       "      <th>CALENDAR_DATE</th>\n",
       "      <th>PRICE</th>\n",
       "      <th>QUANTITY</th>\n",
       "      <th>YEAR</th>\n",
       "      <th>HOLIDAY</th>\n",
       "      <th>IS_WEEKEND</th>\n",
       "      <th>IS_SCHOOLBREAK</th>\n",
       "      <th>AVERAGE_TEMPERATURE</th>\n",
       "      <th>IS_OUTDOOR</th>\n",
       "    </tr>\n",
       "  </thead>\n",
       "  <tbody>\n",
       "    <tr>\n",
       "      <th>0</th>\n",
       "      <td>1070</td>\n",
       "      <td>0</td>\n",
       "      <td>BURGER</td>\n",
       "      <td>1/13/12</td>\n",
       "      <td>15.5</td>\n",
       "      <td>100</td>\n",
       "      <td>2012</td>\n",
       "      <td>No Holiday</td>\n",
       "      <td>0</td>\n",
       "      <td>0</td>\n",
       "      <td>26.6</td>\n",
       "      <td>0</td>\n",
       "    </tr>\n",
       "    <tr>\n",
       "      <th>16</th>\n",
       "      <td>1070</td>\n",
       "      <td>0</td>\n",
       "      <td>BURGER</td>\n",
       "      <td>1/13/14</td>\n",
       "      <td>15.5</td>\n",
       "      <td>104</td>\n",
       "      <td>2014</td>\n",
       "      <td>No Holiday</td>\n",
       "      <td>0</td>\n",
       "      <td>0</td>\n",
       "      <td>28.4</td>\n",
       "      <td>0</td>\n",
       "    </tr>\n",
       "    <tr>\n",
       "      <th>24</th>\n",
       "      <td>1070</td>\n",
       "      <td>0</td>\n",
       "      <td>BURGER</td>\n",
       "      <td>1/13/15</td>\n",
       "      <td>14.0</td>\n",
       "      <td>116</td>\n",
       "      <td>2015</td>\n",
       "      <td>No Holiday</td>\n",
       "      <td>0</td>\n",
       "      <td>0</td>\n",
       "      <td>28.4</td>\n",
       "      <td>0</td>\n",
       "    </tr>\n",
       "    <tr>\n",
       "      <th>48</th>\n",
       "      <td>1070</td>\n",
       "      <td>0</td>\n",
       "      <td>BURGER</td>\n",
       "      <td>1/14/14</td>\n",
       "      <td>15.5</td>\n",
       "      <td>86</td>\n",
       "      <td>2014</td>\n",
       "      <td>No Holiday</td>\n",
       "      <td>0</td>\n",
       "      <td>0</td>\n",
       "      <td>28.4</td>\n",
       "      <td>1</td>\n",
       "    </tr>\n",
       "    <tr>\n",
       "      <th>56</th>\n",
       "      <td>1070</td>\n",
       "      <td>0</td>\n",
       "      <td>BURGER</td>\n",
       "      <td>1/14/15</td>\n",
       "      <td>14.0</td>\n",
       "      <td>122</td>\n",
       "      <td>2015</td>\n",
       "      <td>No Holiday</td>\n",
       "      <td>0</td>\n",
       "      <td>0</td>\n",
       "      <td>30.2</td>\n",
       "      <td>0</td>\n",
       "    </tr>\n",
       "  </tbody>\n",
       "</table>\n",
       "</div>"
      ],
      "text/plain": [
       "    SELL_ID  SELL_CATEGORY ITEM_NAME CALENDAR_DATE  PRICE  QUANTITY  YEAR  \\\n",
       "0      1070              0    BURGER       1/13/12   15.5       100  2012   \n",
       "16     1070              0    BURGER       1/13/14   15.5       104  2014   \n",
       "24     1070              0    BURGER       1/13/15   14.0       116  2015   \n",
       "48     1070              0    BURGER       1/14/14   15.5        86  2014   \n",
       "56     1070              0    BURGER       1/14/15   14.0       122  2015   \n",
       "\n",
       "       HOLIDAY  IS_WEEKEND  IS_SCHOOLBREAK  AVERAGE_TEMPERATURE  IS_OUTDOOR  \n",
       "0   No Holiday           0               0                 26.6           0  \n",
       "16  No Holiday           0               0                 28.4           0  \n",
       "24  No Holiday           0               0                 28.4           0  \n",
       "48  No Holiday           0               0                 28.4           1  \n",
       "56  No Holiday           0               0                 30.2           0  "
      ]
     },
     "execution_count": 39,
     "metadata": {},
     "output_type": "execute_result"
    },
    {
     "data": {
      "text/plain": [
       "<AxesSubplot:xlabel='PRICE', ylabel='QUANTITY'>"
      ]
     },
     "execution_count": 39,
     "metadata": {},
     "output_type": "execute_result"
    },
    {
     "data": {
      "image/png": "[encoded data removed]",
      "text/plain": [
       "<Figure size 432x288 with 1 Axes>"
      ]
     },
     "metadata": {
      "needs_background": "light"
     },
     "output_type": "display_data"
    }
   ],
   "source": [
    "#use bau data BAU= Business As Usual\n",
    "mask2 = (BAU_data['ITEM_NAME'] == 'BURGER') & (BAU_data['SELL_ID'] == 1070)\n",
    "burger_bau_1070 = BAU_data[mask2]\n",
    "burger_bau_1070.shape\n",
    "burger_bau_1070.head()\n",
    "sns.scatterplot(data=burger_bau_1070, x='PRICE', y='QUANTITY', alpha=0.1)"
   ]
  },
  {
   "cell_type": "code",
   "execution_count": 40,
   "metadata": {},
   "outputs": [
    {
     "name": "stdout",
     "output_type": "stream",
     "text": [
      "                            OLS Regression Results                            \n",
      "==============================================================================\n",
      "Dep. Variable:               QUANTITY   R-squared:                       0.486\n",
      "Model:                            OLS   Adj. R-squared:                  0.485\n",
      "Method:                 Least Squares   F-statistic:                     444.2\n",
      "Date:                Tue, 22 Nov 2022   Prob (F-statistic):           7.16e-70\n",
      "Time:                        13:24:31   Log-Likelihood:                -1568.2\n",
      "No. Observations:                 471   AIC:                             3140.\n",
      "Df Residuals:                     469   BIC:                             3149.\n",
      "Df Model:                           1                                         \n",
      "Covariance Type:            nonrobust                                         \n",
      "==============================================================================\n",
      "                 coef    std err          t      P>|t|      [0.025      0.975]\n",
      "------------------------------------------------------------------------------\n",
      "Intercept    232.7193      6.702     34.726      0.000     219.550     245.888\n",
      "PRICE         -9.3292      0.443    -21.077      0.000     -10.199      -8.459\n",
      "==============================================================================\n",
      "Omnibus:                      152.164   Durbin-Watson:                   1.040\n",
      "Prob(Omnibus):                  0.000   Jarque-Bera (JB):              339.594\n",
      "Skew:                           1.724   Prob(JB):                     1.81e-74\n",
      "Kurtosis:                       5.326   Cond. No.                         327.\n",
      "==============================================================================\n",
      "\n",
      "Notes:\n",
      "[1] Standard Errors assume that the covariance matrix of the errors is correctly specified.\n"
     ]
    }
   ],
   "source": [
    "burger_bau_model = ols('QUANTITY ~ PRICE', data=burger_bau_1070).fit()\n",
    "print(burger_bau_model.summary())"
   ]
  },
  {
   "cell_type": "code",
   "execution_count": 41,
   "metadata": {},
   "outputs": [
    {
     "name": "stdout",
     "output_type": "stream",
     "text": [
      "eval_env: 1\n",
      "eval_env: 1\n"
     ]
    },
    {
     "data": {
      "image/png": "[encoded data removed]",
      "text/plain": [
       "<Figure size 864x576 with 2 Axes>"
      ]
     },
     "metadata": {
      "needs_background": "light"
     },
     "output_type": "display_data"
    }
   ],
   "source": [
    "fig = plt.figure(figsize=(12,8))\n",
    "fig = sm.graphics.plot_partregress_grid(burger_bau_model, fig=fig)"
   ]
  },
  {
   "cell_type": "markdown",
   "metadata": {},
   "source": [
    "Notice that model does not have quite good level of R-Squared, therefore some adjustment on the data can be implemented"
   ]
  },
  {
   "cell_type": "markdown",
   "metadata": {},
   "source": [
    "#### Improving data"
   ]
  },
  {
   "cell_type": "code",
   "execution_count": 42,
   "metadata": {},
   "outputs": [
    {
     "data": {
      "text/html": [
       "<div>\n",
       "<style scoped>\n",
       "    .dataframe tbody tr th:only-of-type {\n",
       "        vertical-align: middle;\n",
       "    }\n",
       "\n",
       "    .dataframe tbody tr th {\n",
       "        vertical-align: top;\n",
       "    }\n",
       "\n",
       "    .dataframe thead th {\n",
       "        text-align: right;\n",
       "    }\n",
       "</style>\n",
       "<table border=\"1\" class=\"dataframe\">\n",
       "  <thead>\n",
       "    <tr style=\"text-align: right;\">\n",
       "      <th></th>\n",
       "      <th>SELL_ID</th>\n",
       "      <th>SELL_CATEGORY</th>\n",
       "      <th>ITEM_NAME</th>\n",
       "      <th>CALENDAR_DATE</th>\n",
       "      <th>PRICE</th>\n",
       "      <th>QUANTITY</th>\n",
       "      <th>YEAR</th>\n",
       "      <th>HOLIDAY</th>\n",
       "      <th>IS_WEEKEND</th>\n",
       "      <th>IS_SCHOOLBREAK</th>\n",
       "      <th>AVERAGE_TEMPERATURE</th>\n",
       "      <th>IS_OUTDOOR</th>\n",
       "    </tr>\n",
       "  </thead>\n",
       "  <tbody>\n",
       "    <tr>\n",
       "      <th>0</th>\n",
       "      <td>1070</td>\n",
       "      <td>0</td>\n",
       "      <td>BURGER</td>\n",
       "      <td>1/13/12</td>\n",
       "      <td>15.50</td>\n",
       "      <td>100</td>\n",
       "      <td>2012</td>\n",
       "      <td>No Holiday</td>\n",
       "      <td>0</td>\n",
       "      <td>0</td>\n",
       "      <td>26.6</td>\n",
       "      <td>0</td>\n",
       "    </tr>\n",
       "    <tr>\n",
       "      <th>1</th>\n",
       "      <td>2051</td>\n",
       "      <td>2</td>\n",
       "      <td>BURGER</td>\n",
       "      <td>1/13/12</td>\n",
       "      <td>12.73</td>\n",
       "      <td>40</td>\n",
       "      <td>2012</td>\n",
       "      <td>No Holiday</td>\n",
       "      <td>0</td>\n",
       "      <td>0</td>\n",
       "      <td>26.6</td>\n",
       "      <td>0</td>\n",
       "    </tr>\n",
       "    <tr>\n",
       "      <th>2</th>\n",
       "      <td>2051</td>\n",
       "      <td>2</td>\n",
       "      <td>COKE</td>\n",
       "      <td>1/13/12</td>\n",
       "      <td>12.73</td>\n",
       "      <td>40</td>\n",
       "      <td>2012</td>\n",
       "      <td>No Holiday</td>\n",
       "      <td>0</td>\n",
       "      <td>0</td>\n",
       "      <td>26.6</td>\n",
       "      <td>0</td>\n",
       "    </tr>\n",
       "    <tr>\n",
       "      <th>3</th>\n",
       "      <td>2052</td>\n",
       "      <td>2</td>\n",
       "      <td>BURGER</td>\n",
       "      <td>1/13/12</td>\n",
       "      <td>12.75</td>\n",
       "      <td>26</td>\n",
       "      <td>2012</td>\n",
       "      <td>No Holiday</td>\n",
       "      <td>0</td>\n",
       "      <td>0</td>\n",
       "      <td>26.6</td>\n",
       "      <td>0</td>\n",
       "    </tr>\n",
       "    <tr>\n",
       "      <th>4</th>\n",
       "      <td>2052</td>\n",
       "      <td>2</td>\n",
       "      <td>LEMONADE</td>\n",
       "      <td>1/13/12</td>\n",
       "      <td>12.75</td>\n",
       "      <td>26</td>\n",
       "      <td>2012</td>\n",
       "      <td>No Holiday</td>\n",
       "      <td>0</td>\n",
       "      <td>0</td>\n",
       "      <td>26.6</td>\n",
       "      <td>0</td>\n",
       "    </tr>\n",
       "  </tbody>\n",
       "</table>\n",
       "</div>"
      ],
      "text/plain": [
       "   SELL_ID  SELL_CATEGORY ITEM_NAME CALENDAR_DATE  PRICE  QUANTITY  YEAR  \\\n",
       "0     1070              0    BURGER       1/13/12  15.50       100  2012   \n",
       "1     2051              2    BURGER       1/13/12  12.73        40  2012   \n",
       "2     2051              2      COKE       1/13/12  12.73        40  2012   \n",
       "3     2052              2    BURGER       1/13/12  12.75        26  2012   \n",
       "4     2052              2  LEMONADE       1/13/12  12.75        26  2012   \n",
       "\n",
       "      HOLIDAY  IS_WEEKEND  IS_SCHOOLBREAK  AVERAGE_TEMPERATURE  IS_OUTDOOR  \n",
       "0  No Holiday           0               0                 26.6           0  \n",
       "1  No Holiday           0               0                 26.6           0  \n",
       "2  No Holiday           0               0                 26.6           0  \n",
       "3  No Holiday           0               0                 26.6           0  \n",
       "4  No Holiday           0               0                 26.6           0  "
      ]
     },
     "execution_count": 42,
     "metadata": {},
     "output_type": "execute_result"
    }
   ],
   "source": [
    "BAU_data.head()"
   ]
  },
  {
   "cell_type": "code",
   "execution_count": 43,
   "metadata": {},
   "outputs": [
    {
     "data": {
      "text/plain": [
       "array([0], dtype=int64)"
      ]
     },
     "execution_count": 43,
     "metadata": {},
     "output_type": "execute_result"
    },
    {
     "data": {
      "text/plain": [
       "array(['No Holiday'], dtype=object)"
      ]
     },
     "execution_count": 43,
     "metadata": {},
     "output_type": "execute_result"
    },
    {
     "data": {
      "text/plain": [
       "array([0], dtype=int64)"
      ]
     },
     "execution_count": 43,
     "metadata": {},
     "output_type": "execute_result"
    },
    {
     "data": {
      "text/plain": [
       "array([0, 1], dtype=int64)"
      ]
     },
     "execution_count": 43,
     "metadata": {},
     "output_type": "execute_result"
    }
   ],
   "source": [
    "np.unique(BAU_data['IS_WEEKEND'])\n",
    "np.unique(BAU_data['HOLIDAY'])\n",
    "np.unique(BAU_data['IS_SCHOOLBREAK'])\n",
    "np.unique(BAU_data['IS_OUTDOOR'])"
   ]
  },
  {
   "cell_type": "code",
   "execution_count": 44,
   "metadata": {},
   "outputs": [
    {
     "data": {
      "text/plain": [
       "<AxesSubplot:xlabel='PRICE', ylabel='QUANTITY'>"
      ]
     },
     "execution_count": 44,
     "metadata": {},
     "output_type": "execute_result"
    },
    {
     "data": {
      "image/png": "[encoded data removed]",
      "text/plain": [
       "<Figure size 432x288 with 1 Axes>"
      ]
     },
     "metadata": {
      "needs_background": "light"
     },
     "output_type": "display_data"
    }
   ],
   "source": [
    "#adding OUTDOOR mask\n",
    "mask3 = (BAU_data['ITEM_NAME'] == 'BURGER') & (BAU_data['SELL_ID'] == 1070) & (BAU_data['IS_OUTDOOR'] == 1)\n",
    "burger_bau_1070_outdoor = BAU_data[mask3]\n",
    "\n",
    "sns.scatterplot(data=burger_bau_1070_outdoor, x='PRICE', y='QUANTITY', alpha=0.1)"
   ]
  },
  {
   "cell_type": "code",
   "execution_count": 45,
   "metadata": {},
   "outputs": [
    {
     "name": "stdout",
     "output_type": "stream",
     "text": [
      "                            OLS Regression Results                            \n",
      "==============================================================================\n",
      "Dep. Variable:               QUANTITY   R-squared:                       0.813\n",
      "Model:                            OLS   Adj. R-squared:                  0.813\n",
      "Method:                 Least Squares   F-statistic:                     1804.\n",
      "Date:                Tue, 22 Nov 2022   Prob (F-statistic):          5.51e-153\n",
      "Time:                        13:24:32   Log-Likelihood:                -1038.8\n",
      "No. Observations:                 416   AIC:                             2082.\n",
      "Df Residuals:                     414   BIC:                             2090.\n",
      "Df Model:                           1                                         \n",
      "Covariance Type:            nonrobust                                         \n",
      "==============================================================================\n",
      "                 coef    std err          t      P>|t|      [0.025      0.975]\n",
      "------------------------------------------------------------------------------\n",
      "Intercept    220.3600      3.090     71.322      0.000     214.287     226.433\n",
      "PRICE         -8.6586      0.204    -42.474      0.000      -9.059      -8.258\n",
      "==============================================================================\n",
      "Omnibus:                      281.738   Durbin-Watson:                   1.989\n",
      "Prob(Omnibus):                  0.000   Jarque-Bera (JB):               25.687\n",
      "Skew:                           0.012   Prob(JB):                     2.64e-06\n",
      "Kurtosis:                       1.783   Cond. No.                         326.\n",
      "==============================================================================\n",
      "\n",
      "Notes:\n",
      "[1] Standard Errors assume that the covariance matrix of the errors is correctly specified.\n"
     ]
    }
   ],
   "source": [
    "#rum model with improved data\n",
    "burger_bau_outdoor_model = ols('QUANTITY ~ PRICE', burger_bau_1070_outdoor).fit()\n",
    "print(burger_bau_outdoor_model.summary())"
   ]
  },
  {
   "cell_type": "code",
   "execution_count": 46,
   "metadata": {},
   "outputs": [
    {
     "data": {
      "text/plain": [
       "<Figure size 864x576 with 0 Axes>"
      ]
     },
     "metadata": {},
     "output_type": "display_data"
    },
    {
     "data": {
      "image/png": "[encoded data removed]",
      "text/plain": [
       "<Figure size 432x288 with 1 Axes>"
      ]
     },
     "metadata": {
      "needs_background": "light"
     },
     "output_type": "display_data"
    }
   ],
   "source": [
    "fig = plt.figure(figsize=(12,8))\n",
    "fig = sm.graphics.plot_ccpr(burger_bau_outdoor_model, 'PRICE')"
   ]
  },
  {
   "cell_type": "code",
   "execution_count": 47,
   "metadata": {},
   "outputs": [
    {
     "name": "stdout",
     "output_type": "stream",
     "text": [
      "eval_env: 1\n"
     ]
    },
    {
     "data": {
      "image/png": "[encoded data removed]",
      "text/plain": [
       "<Figure size 864x576 with 4 Axes>"
      ]
     },
     "metadata": {
      "needs_background": "light"
     },
     "output_type": "display_data"
    }
   ],
   "source": [
    "fig= plt.figure(figsize=(12,8))\n",
    "fig = sm.graphics.plot_regress_exog(burger_bau_outdoor_model, 'PRICE', fig=fig)"
   ]
  },
  {
   "cell_type": "markdown",
   "metadata": {},
   "source": [
    "#### Create reproducible function"
   ]
  },
  {
   "cell_type": "code",
   "execution_count": 48,
   "metadata": {},
   "outputs": [],
   "source": [
    "def model_and_elasticity(data):\n",
    "    '''\n",
    "    Create OLS model from data and give summary about it\n",
    "    Then get elasticity of the price\n",
    "    '''\n",
    "    model = ols('QUANTITY ~ PRICE', data).fit()\n",
    "    price_elasticity = model.params[1]\n",
    "    print(f'Price elasticity of the product: {price_elasticity}')\n",
    "    print(model.summary())\n",
    "    fig = plt.figure(figsize=(12,8))\n",
    "    fig = sm.graphics.plot_partregress_grid(model, fig=fig)\n",
    "    return price_elasticity, model"
   ]
  },
  {
   "cell_type": "code",
   "execution_count": 49,
   "metadata": {},
   "outputs": [
    {
     "name": "stdout",
     "output_type": "stream",
     "text": [
      "Price elasticity of the product: -8.658581488470572\n",
      "                            OLS Regression Results                            \n",
      "==============================================================================\n",
      "Dep. Variable:               QUANTITY   R-squared:                       0.813\n",
      "Model:                            OLS   Adj. R-squared:                  0.813\n",
      "Method:                 Least Squares   F-statistic:                     1804.\n",
      "Date:                Tue, 22 Nov 2022   Prob (F-statistic):          5.51e-153\n",
      "Time:                        13:24:33   Log-Likelihood:                -1038.8\n",
      "No. Observations:                 416   AIC:                             2082.\n",
      "Df Residuals:                     414   BIC:                             2090.\n",
      "Df Model:                           1                                         \n",
      "Covariance Type:            nonrobust                                         \n",
      "==============================================================================\n",
      "                 coef    std err          t      P>|t|      [0.025      0.975]\n",
      "------------------------------------------------------------------------------\n",
      "Intercept    220.3600      3.090     71.322      0.000     214.287     226.433\n",
      "PRICE         -8.6586      0.204    -42.474      0.000      -9.059      -8.258\n",
      "==============================================================================\n",
      "Omnibus:                      281.738   Durbin-Watson:                   1.989\n",
      "Prob(Omnibus):                  0.000   Jarque-Bera (JB):               25.687\n",
      "Skew:                           0.012   Prob(JB):                     2.64e-06\n",
      "Kurtosis:                       1.783   Cond. No.                         326.\n",
      "==============================================================================\n",
      "\n",
      "Notes:\n",
      "[1] Standard Errors assume that the covariance matrix of the errors is correctly specified.\n",
      "eval_env: 1\n",
      "eval_env: 1\n"
     ]
    },
    {
     "data": {
      "image/png": "[encoded data removed]",
      "text/plain": [
       "<Figure size 864x576 with 2 Axes>"
      ]
     },
     "metadata": {
      "needs_background": "light"
     },
     "output_type": "display_data"
    }
   ],
   "source": [
    "price_elasticity, model_burger_bau_1070_outdoor = model_and_elasticity(burger_bau_1070_outdoor)"
   ]
  },
  {
   "cell_type": "code",
   "execution_count": 50,
   "metadata": {},
   "outputs": [],
   "source": [
    "def optimal_price(data, model, buying_price):\n",
    "    start_price = data['PRICE'].min() - 1\n",
    "    end_price = data['PRICE'].min() + 10\n",
    "    result = pd.DataFrame(columns = ['PRICE', 'QUANTITY'])\n",
    "    result['PRICE'] = np.arange(start_price, end_price, 0.01)\n",
    "    result['QUANTITY'] = model.predict(result['PRICE'])\n",
    "    result['PROFIT'] = (result['PRICE'] - buying_price) * result['QUANTITY']\n",
    "    ind = np.where(result['PROFIT'] == result['PROFIT'].max())[0][0]\n",
    "    maximum_profit_price = result.iloc[ind]\n",
    "    plt.plot(result['PRICE'] , result['QUANTITY'], label='Quantity')\n",
    "    plt.plot(result['PRICE'], result['PROFIT'], label='Profit')\n",
    "    plt.axvline(x=maximum_profit_price['PRICE'], color='r', alpha=0.5, linestyle='--', label='Price for maximum profit')\n",
    "    plt.legend(bbox_to_anchor =(1, 1))\n",
    "    plt.title('Quantity and Profit Comparison Related to Price')\n",
    "    plt.show\n",
    "    return maximum_profit_price"
   ]
  },
  {
   "cell_type": "code",
   "execution_count": 51,
   "metadata": {},
   "outputs": [
    {
     "data": {
      "text/plain": [
       "PRICE        17.220000\n",
       "QUANTITY     71.259194\n",
       "PROFIT      585.750572\n",
       "Name: 422, dtype: float64"
      ]
     },
     "execution_count": 51,
     "metadata": {},
     "output_type": "execute_result"
    },
    {
     "data": {
      "image/png": "[encoded data removed]",
      "text/plain": [
       "<Figure size 432x288 with 1 Axes>"
      ]
     },
     "metadata": {
      "needs_background": "light"
     },
     "output_type": "display_data"
    }
   ],
   "source": [
    "optimal_price(burger_bau_1070_outdoor, model_burger_bau_1070_outdoor, 9)"
   ]
  }
 ],
 "metadata": {
  "kernelspec": {
   "display_name": "Python 3",
   "language": "python",
   "name": "python3"
  },
  "language_info": {
   "codemirror_mode": {
    "name": "ipython",
    "version": 3
   },
   "file_extension": ".py",
   "mimetype": "text/x-python",
   "name": "python",
   "nbconvert_exporter": "python",
   "pygments_lexer": "ipython3",
   "version": "3.8.5"
  }
 },
 "nbformat": 4,
 "nbformat_minor": 4
}
