{
 "cells": [
  {
   "cell_type": "markdown",
   "metadata": {},
   "source": [
    "## Imports"
   ]
  },
  {
   "cell_type": "code",
   "execution_count": 1,
   "metadata": {},
   "outputs": [],
   "source": [
    "import pandas as pd\n",
    "from bs4 import BeautifulSoup\n",
    "from datetime import date\n",
    "from msedge.selenium_tools import Edge, EdgeOptions"
   ]
  },
  {
   "cell_type": "markdown",
   "metadata": {},
   "source": [
    "## Initialize "
   ]
  },
  {
   "cell_type": "code",
   "execution_count": 2,
   "metadata": {},
   "outputs": [],
   "source": [
    "options = EdgeOptions()\n",
    "options.use_chromium = True\n",
    "\n",
    "prefs = {'profile.default_content_setting_values': {'cookies': 2, 'images': 2, 'javascript': 2, \n",
    "                            'plugins': 2, 'popups': 2, 'geolocation': 2, \n",
    "                            'notifications': 2, 'auto_select_certificate': 2, 'fullscreen': 2, \n",
    "                            'mouselock': 2, 'mixed_script': 2, 'media_stream': 2, \n",
    "                            'media_stream_mic': 2, 'media_stream_camera': 2, 'protocol_handlers': 2, \n",
    "                            'ppapi_broker': 2, 'automatic_downloads': 2, 'midi_sysex': 2, \n",
    "                            'push_messaging': 2, 'ssl_cert_decisions': 2, 'metro_switch_to_desktop': 2, \n",
    "                            'protected_media_identifier': 2, 'app_banner': 2, 'site_engagement': 2, \n",
    "                            'durable_storage': 2}}\n",
    "options.add_experimental_option('prefs', prefs)\n",
    "options.add_argument(\"start-maximized\")\n",
    "options.add_argument(\"disable-infobars\")\n",
    "options.add_argument(\"--disable-extensions\")\n",
    "\n",
    "driver = Edge(options = options)\n",
    "\n",
    "records = []\n",
    "\n",
    "driver.get('https://www.google.com/search?q=tangsel&safe=strict&tbs=sbd:1,qdr:d&tbm=nws&sxsrf=ALeKk03UP-ODOblunk0JH9Lkg-Te07lcew:1613352141124&ei=zcwpYJ2HB-TC3LUPt7i4kAw&start=0&sa=N&ved=0ahUKEwjdoZOK3eruAhVkIbcAHTccDsI4ChDy0wMIhgE&biw=1242&bih=597&dpr=1.1')"
   ]
  },
  {
   "cell_type": "markdown",
   "metadata": {},
   "source": [
    "## Functions"
   ]
  },
  {
   "cell_type": "code",
   "execution_count": 3,
   "metadata": {},
   "outputs": [],
   "source": [
    "def extract_records(item):\n",
    "    judul_berita = item.h3.text\n",
    "    tanggal = item.find('span', {'class': 'r0bn4c rQMQod'}).text\n",
    "    sumber_berita = item.find('div', {'class': 'BNeawe UPmit AP7Wnd'}).text\n",
    "    highlight = item.find('div', {'class': 'BNeawe s3v9rd AP7Wnd'}).text.split('·')[1]\n",
    "    URL = item.a.get('href')[7:]\n",
    "            \n",
    "    result = (judul_berita, tanggal, sumber_berita, highlight, URL )\n",
    "    return result"
   ]
  },
  {
   "cell_type": "code",
   "execution_count": 4,
   "metadata": {},
   "outputs": [],
   "source": [
    "def compiler():\n",
    "    soup = BeautifulSoup(driver.page_source, 'html.parser')\n",
    "    list_berita = soup.find_all('div', {'class':'ZINbbc xpd O9g5cc uUPGi'})\n",
    "            \n",
    "    for item in list_berita:\n",
    "        records.append(extract_records(item))"
   ]
  },
  {
   "cell_type": "code",
   "execution_count": 5,
   "metadata": {},
   "outputs": [],
   "source": [
    "def execute():\n",
    "    compiler()\n",
    "    while True:\n",
    "        try:\n",
    "            soup = BeautifulSoup(driver.page_source, 'html.parser')\n",
    "            next_page = soup.find('a', {'aria-label':'Halaman berikutnya'})\n",
    "            next_page = next_page.get('href')\n",
    "            next_page = 'https://www.google.com/'+ next_page\n",
    "            compiler()\n",
    "            driver.get(next_page)\n",
    "        except AttributeError:\n",
    "            break\n",
    "            \n",
    "            \n",
    "   "
   ]
  },
  {
   "cell_type": "markdown",
   "metadata": {},
   "source": [
    "## Main Execution"
   ]
  },
  {
   "cell_type": "code",
   "execution_count": 6,
   "metadata": {
    "scrolled": true
   },
   "outputs": [],
   "source": [
    "execute()\n",
    "df_result = pd.DataFrame(records, columns=['Judul Berita', 'Tanggal Posting', 'Sumber', 'Highlight', 'URL'])"
   ]
  },
  {
   "cell_type": "markdown",
   "metadata": {},
   "source": [
    "## Result Checking"
   ]
  },
  {
   "cell_type": "code",
   "execution_count": 7,
   "metadata": {},
   "outputs": [
    {
     "data": {
      "text/plain": [
       "60"
      ]
     },
     "execution_count": 7,
     "metadata": {},
     "output_type": "execute_result"
    }
   ],
   "source": [
    "len(records)"
   ]
  },
  {
   "cell_type": "code",
   "execution_count": 8,
   "metadata": {
    "scrolled": true
   },
   "outputs": [
    {
     "data": {
      "text/html": [
       "<div>\n",
       "<style scoped>\n",
       "    .dataframe tbody tr th:only-of-type {\n",
       "        vertical-align: middle;\n",
       "    }\n",
       "\n",
       "    .dataframe tbody tr th {\n",
       "        vertical-align: top;\n",
       "    }\n",
       "\n",
       "    .dataframe thead th {\n",
       "        text-align: right;\n",
       "    }\n",
       "</style>\n",
       "<table border=\"1\" class=\"dataframe\">\n",
       "  <thead>\n",
       "    <tr style=\"text-align: right;\">\n",
       "      <th></th>\n",
       "      <th>Judul Berita</th>\n",
       "      <th>Tanggal Posting</th>\n",
       "      <th>Sumber</th>\n",
       "      <th>Highlight</th>\n",
       "      <th>URL</th>\n",
       "    </tr>\n",
       "  </thead>\n",
       "  <tbody>\n",
       "    <tr>\n",
       "      <th>0</th>\n",
       "      <td>Petakan Wilayah Penyebaran Covid-19, Wali Kota...</td>\n",
       "      <td>25 mnt yang lalu</td>\n",
       "      <td>Tribun Jakarta</td>\n",
       "      <td>COM, PAMULANG - Sepekan penerapan Pemberlakua...</td>\n",
       "      <td>https://jakarta.tribunnews.com/2021/02/15/peta...</td>\n",
       "    </tr>\n",
       "    <tr>\n",
       "      <th>1</th>\n",
       "      <td>Hari Ini Pendaftaran SNMPTN 2021 Dibuka, Perha...</td>\n",
       "      <td>34 mnt yang lalu</td>\n",
       "      <td>Pikiran Rakyat</td>\n",
       "      <td>Seputar Tangsel</td>\n",
       "      <td>https://seputartangsel.pikiran-rakyat.com/nasi...</td>\n",
       "    </tr>\n",
       "    <tr>\n",
       "      <th>2</th>\n",
       "      <td>Pemkot Tangsel Klaim Tidak Ada RT Zona Merah C...</td>\n",
       "      <td>35 mnt yang lalu</td>\n",
       "      <td>Megapolitan Kompas.com</td>\n",
       "      <td>Wali Kota Tangerang Selatan Airin Rachmi Dian...</td>\n",
       "      <td>https://megapolitan.kompas.com/read/2021/02/15...</td>\n",
       "    </tr>\n",
       "    <tr>\n",
       "      <th>3</th>\n",
       "      <td>Kampanye Tangsel Bermasker Polsek Ciptim Sasar...</td>\n",
       "      <td>51 mnt yang lalu</td>\n",
       "      <td>Barito Raya POst</td>\n",
       "      <td>Cipayung Kec.Ciputat Kota Tangsel, Senin (15/...</td>\n",
       "      <td>https://www.baritorayapost.com/2021/02/kampany...</td>\n",
       "    </tr>\n",
       "    <tr>\n",
       "      <th>4</th>\n",
       "      <td>Pemkot Tangsel Sebut Tingkat Kematian akibat C...</td>\n",
       "      <td>1 jam yang lalu</td>\n",
       "      <td>Megapolitan Kompas.com</td>\n",
       "      <td>Wali Kota Tangerang Selatan Airin Rachmi Dian...</td>\n",
       "      <td>https://megapolitan.kompas.com/read/2021/02/15...</td>\n",
       "    </tr>\n",
       "  </tbody>\n",
       "</table>\n",
       "</div>"
      ],
      "text/plain": [
       "                                        Judul Berita   Tanggal Posting  \\\n",
       "0  Petakan Wilayah Penyebaran Covid-19, Wali Kota...  25 mnt yang lalu   \n",
       "1  Hari Ini Pendaftaran SNMPTN 2021 Dibuka, Perha...  34 mnt yang lalu   \n",
       "2  Pemkot Tangsel Klaim Tidak Ada RT Zona Merah C...  35 mnt yang lalu   \n",
       "3  Kampanye Tangsel Bermasker Polsek Ciptim Sasar...  51 mnt yang lalu   \n",
       "4  Pemkot Tangsel Sebut Tingkat Kematian akibat C...   1 jam yang lalu   \n",
       "\n",
       "                   Sumber                                          Highlight  \\\n",
       "0          Tribun Jakarta   COM, PAMULANG - Sepekan penerapan Pemberlakua...   \n",
       "1          Pikiran Rakyat                                   Seputar Tangsel    \n",
       "2  Megapolitan Kompas.com   Wali Kota Tangerang Selatan Airin Rachmi Dian...   \n",
       "3        Barito Raya POst   Cipayung Kec.Ciputat Kota Tangsel, Senin (15/...   \n",
       "4  Megapolitan Kompas.com   Wali Kota Tangerang Selatan Airin Rachmi Dian...   \n",
       "\n",
       "                                                 URL  \n",
       "0  https://jakarta.tribunnews.com/2021/02/15/peta...  \n",
       "1  https://seputartangsel.pikiran-rakyat.com/nasi...  \n",
       "2  https://megapolitan.kompas.com/read/2021/02/15...  \n",
       "3  https://www.baritorayapost.com/2021/02/kampany...  \n",
       "4  https://megapolitan.kompas.com/read/2021/02/15...  "
      ]
     },
     "execution_count": 8,
     "metadata": {},
     "output_type": "execute_result"
    }
   ],
   "source": [
    "df_result.head()"
   ]
  },
  {
   "cell_type": "markdown",
   "metadata": {},
   "source": [
    "## Classifying"
   ]
  },
  {
   "cell_type": "markdown",
   "metadata": {},
   "source": [
    "#### Erase 'Baca Juga:'"
   ]
  },
  {
   "cell_type": "code",
   "execution_count": 9,
   "metadata": {},
   "outputs": [],
   "source": [
    "filter1 = df_result['Highlight'].map(lambda x: x.lower())\n",
    "baca_juga = list(df_result[filter1.str.contains('baca juga')].index)\n",
    "df_result = df_result.drop(index=baca_juga)"
   ]
  },
  {
   "cell_type": "markdown",
   "metadata": {},
   "source": [
    "#### Erase 'Seputar Tangsel'"
   ]
  },
  {
   "cell_type": "code",
   "execution_count": 10,
   "metadata": {},
   "outputs": [
    {
     "name": "stderr",
     "output_type": "stream",
     "text": [
      "C:\\Users\\admin\\Anaconda3\\lib\\site-packages\\ipykernel_launcher.py:1: UserWarning: Boolean Series key will be reindexed to match DataFrame index.\n",
      "  \"\"\"Entry point for launching an IPython kernel.\n"
     ]
    }
   ],
   "source": [
    "seputar_tangsel = list(df_result[filter1.str.contains('seputar tangsel')].index)\n",
    "df_result = df_result.drop(index=seputar_tangsel)"
   ]
  },
  {
   "cell_type": "markdown",
   "metadata": {},
   "source": [
    "#### Erase News from Kabartangsel.com"
   ]
  },
  {
   "cell_type": "code",
   "execution_count": 11,
   "metadata": {},
   "outputs": [],
   "source": [
    "kabartangsel = list(df_result[df_result['Sumber'].str.contains('Kabartangsel.com')].index)\n",
    "df_result = df_result.drop(index=kabartangsel)"
   ]
  },
  {
   "cell_type": "code",
   "execution_count": 12,
   "metadata": {},
   "outputs": [
    {
     "data": {
      "text/plain": [
       "(45, 5)"
      ]
     },
     "execution_count": 12,
     "metadata": {},
     "output_type": "execute_result"
    }
   ],
   "source": [
    "df_result.shape"
   ]
  },
  {
   "cell_type": "markdown",
   "metadata": {},
   "source": [
    "#### Drop Duplicates"
   ]
  },
  {
   "cell_type": "code",
   "execution_count": 13,
   "metadata": {},
   "outputs": [],
   "source": [
    "df_result.drop_duplicates(subset='Judul Berita', keep='first', inplace=True, ignore_index=True)"
   ]
  },
  {
   "cell_type": "code",
   "execution_count": 14,
   "metadata": {
    "scrolled": true
   },
   "outputs": [
    {
     "data": {
      "text/plain": [
       "(37, 5)"
      ]
     },
     "execution_count": 14,
     "metadata": {},
     "output_type": "execute_result"
    }
   ],
   "source": [
    "df_result.shape"
   ]
  },
  {
   "cell_type": "markdown",
   "metadata": {},
   "source": [
    "### Save to Excel"
   ]
  },
  {
   "cell_type": "code",
   "execution_count": 15,
   "metadata": {},
   "outputs": [],
   "source": [
    "today = str( date.today().strftime(\"%d-%b-%Y\"))"
   ]
  },
  {
   "cell_type": "code",
   "execution_count": 16,
   "metadata": {
    "scrolled": false
   },
   "outputs": [],
   "source": [
    "df_result.to_excel(r'D:\\Judin\\LEARN\\Python\\Web Scrapper\\tangselkini\\berita_tangsel{}.xlsx'.format(today),index=False)"
   ]
  },
  {
   "cell_type": "markdown",
   "metadata": {},
   "source": [
    "#### Congratulations! You can now upload the data!"
   ]
  }
 ],
 "metadata": {
  "kernelspec": {
   "display_name": "Python 3",
   "language": "python",
   "name": "python3"
  },
  "language_info": {
   "codemirror_mode": {
    "name": "ipython",
    "version": 3
   },
   "file_extension": ".py",
   "mimetype": "text/x-python",
   "name": "python",
   "nbconvert_exporter": "python",
   "pygments_lexer": "ipython3",
   "version": "3.7.4"
  }
 },
 "nbformat": 4,
 "nbformat_minor": 4
}
